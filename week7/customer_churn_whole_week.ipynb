{
 "cells": [
  {
   "cell_type": "code",
   "execution_count": 39,
   "id": "ed7218f9",
   "metadata": {},
   "outputs": [],
   "source": [
    "import numpy as np\n",
    "import pandas as pd\n",
    "\n",
    "\n",
    "## plotting libraries\n",
    "from matplotlib import pyplot as plt\n",
    "%matplotlib inline\n",
    "import seaborn as sns\n",
    "\n",
    "\n",
    "import math\n",
    "import random\n",
    "import statistics as stats\n",
    "import statsmodels.api as sma\n",
    "from scipy.stats import boxcox\n",
    "from scipy.stats import norm\n",
    "\n",
    "\n",
    "# scaler\n",
    "from sklearn.preprocessing import StandardScaler\n",
    "\n",
    "\n",
    "## Sklearn libraries\n",
    "import sklearn\n",
    "from sklearn.model_selection import train_test_split\n",
    "from sklearn.neighbors import KNeighborsClassifier\n",
    "from sklearn.metrics import plot_confusion_matrix\n",
    "from sklearn.metrics import ConfusionMatrixDisplay\n",
    "from sklearn.metrics import accuracy_score, precision_score, recall_score\n",
    "from sklearn.linear_model import LogisticRegression\n",
    "\n",
    "\n",
    "from IPython.core.interactiveshell import InteractiveShell\n",
    "InteractiveShell.ast_node_interactivity = 'all'\n",
    "\n",
    "\n",
    "pd.options.display.max_rows = 100\n",
    "\n",
    "\n",
    "import warnings\n",
    "warnings.filterwarnings(\"ignore\", category=FutureWarning)"
   ]
  },
  {
   "cell_type": "code",
   "execution_count": 21,
   "id": "e4f13eaf",
   "metadata": {},
   "outputs": [],
   "source": [
    "churnData = pd.read_csv('Data/DATA_Customer-Churn.csv')"
   ]
  },
  {
   "cell_type": "code",
   "execution_count": 8,
   "id": "d6341cda",
   "metadata": {
    "collapsed": true
   },
   "outputs": [
    {
     "data": {
      "text/html": [
       "<div>\n",
       "<style scoped>\n",
       "    .dataframe tbody tr th:only-of-type {\n",
       "        vertical-align: middle;\n",
       "    }\n",
       "\n",
       "    .dataframe tbody tr th {\n",
       "        vertical-align: top;\n",
       "    }\n",
       "\n",
       "    .dataframe thead th {\n",
       "        text-align: right;\n",
       "    }\n",
       "</style>\n",
       "<table border=\"1\" class=\"dataframe\">\n",
       "  <thead>\n",
       "    <tr style=\"text-align: right;\">\n",
       "      <th></th>\n",
       "      <th>gender</th>\n",
       "      <th>SeniorCitizen</th>\n",
       "      <th>Partner</th>\n",
       "      <th>Dependents</th>\n",
       "      <th>tenure</th>\n",
       "      <th>PhoneService</th>\n",
       "      <th>OnlineSecurity</th>\n",
       "      <th>OnlineBackup</th>\n",
       "      <th>DeviceProtection</th>\n",
       "      <th>TechSupport</th>\n",
       "      <th>StreamingTV</th>\n",
       "      <th>StreamingMovies</th>\n",
       "      <th>Contract</th>\n",
       "      <th>MonthlyCharges</th>\n",
       "      <th>TotalCharges</th>\n",
       "      <th>Churn</th>\n",
       "    </tr>\n",
       "  </thead>\n",
       "  <tbody>\n",
       "    <tr>\n",
       "      <th>0</th>\n",
       "      <td>Female</td>\n",
       "      <td>0</td>\n",
       "      <td>Yes</td>\n",
       "      <td>No</td>\n",
       "      <td>1</td>\n",
       "      <td>No</td>\n",
       "      <td>No</td>\n",
       "      <td>Yes</td>\n",
       "      <td>No</td>\n",
       "      <td>No</td>\n",
       "      <td>No</td>\n",
       "      <td>No</td>\n",
       "      <td>Month-to-month</td>\n",
       "      <td>29.85</td>\n",
       "      <td>29.85</td>\n",
       "      <td>No</td>\n",
       "    </tr>\n",
       "    <tr>\n",
       "      <th>1</th>\n",
       "      <td>Male</td>\n",
       "      <td>0</td>\n",
       "      <td>No</td>\n",
       "      <td>No</td>\n",
       "      <td>34</td>\n",
       "      <td>Yes</td>\n",
       "      <td>Yes</td>\n",
       "      <td>No</td>\n",
       "      <td>Yes</td>\n",
       "      <td>No</td>\n",
       "      <td>No</td>\n",
       "      <td>No</td>\n",
       "      <td>One year</td>\n",
       "      <td>56.95</td>\n",
       "      <td>1889.5</td>\n",
       "      <td>No</td>\n",
       "    </tr>\n",
       "    <tr>\n",
       "      <th>2</th>\n",
       "      <td>Male</td>\n",
       "      <td>0</td>\n",
       "      <td>No</td>\n",
       "      <td>No</td>\n",
       "      <td>2</td>\n",
       "      <td>Yes</td>\n",
       "      <td>Yes</td>\n",
       "      <td>Yes</td>\n",
       "      <td>No</td>\n",
       "      <td>No</td>\n",
       "      <td>No</td>\n",
       "      <td>No</td>\n",
       "      <td>Month-to-month</td>\n",
       "      <td>53.85</td>\n",
       "      <td>108.15</td>\n",
       "      <td>Yes</td>\n",
       "    </tr>\n",
       "    <tr>\n",
       "      <th>3</th>\n",
       "      <td>Male</td>\n",
       "      <td>0</td>\n",
       "      <td>No</td>\n",
       "      <td>No</td>\n",
       "      <td>45</td>\n",
       "      <td>No</td>\n",
       "      <td>Yes</td>\n",
       "      <td>No</td>\n",
       "      <td>Yes</td>\n",
       "      <td>Yes</td>\n",
       "      <td>No</td>\n",
       "      <td>No</td>\n",
       "      <td>One year</td>\n",
       "      <td>42.30</td>\n",
       "      <td>1840.75</td>\n",
       "      <td>No</td>\n",
       "    </tr>\n",
       "    <tr>\n",
       "      <th>4</th>\n",
       "      <td>Female</td>\n",
       "      <td>0</td>\n",
       "      <td>No</td>\n",
       "      <td>No</td>\n",
       "      <td>2</td>\n",
       "      <td>Yes</td>\n",
       "      <td>No</td>\n",
       "      <td>No</td>\n",
       "      <td>No</td>\n",
       "      <td>No</td>\n",
       "      <td>No</td>\n",
       "      <td>No</td>\n",
       "      <td>Month-to-month</td>\n",
       "      <td>70.70</td>\n",
       "      <td>151.65</td>\n",
       "      <td>Yes</td>\n",
       "    </tr>\n",
       "    <tr>\n",
       "      <th>...</th>\n",
       "      <td>...</td>\n",
       "      <td>...</td>\n",
       "      <td>...</td>\n",
       "      <td>...</td>\n",
       "      <td>...</td>\n",
       "      <td>...</td>\n",
       "      <td>...</td>\n",
       "      <td>...</td>\n",
       "      <td>...</td>\n",
       "      <td>...</td>\n",
       "      <td>...</td>\n",
       "      <td>...</td>\n",
       "      <td>...</td>\n",
       "      <td>...</td>\n",
       "      <td>...</td>\n",
       "      <td>...</td>\n",
       "    </tr>\n",
       "    <tr>\n",
       "      <th>7038</th>\n",
       "      <td>Male</td>\n",
       "      <td>0</td>\n",
       "      <td>Yes</td>\n",
       "      <td>Yes</td>\n",
       "      <td>24</td>\n",
       "      <td>Yes</td>\n",
       "      <td>Yes</td>\n",
       "      <td>No</td>\n",
       "      <td>Yes</td>\n",
       "      <td>Yes</td>\n",
       "      <td>Yes</td>\n",
       "      <td>Yes</td>\n",
       "      <td>One year</td>\n",
       "      <td>84.80</td>\n",
       "      <td>1990.5</td>\n",
       "      <td>No</td>\n",
       "    </tr>\n",
       "    <tr>\n",
       "      <th>7039</th>\n",
       "      <td>Female</td>\n",
       "      <td>0</td>\n",
       "      <td>Yes</td>\n",
       "      <td>Yes</td>\n",
       "      <td>72</td>\n",
       "      <td>Yes</td>\n",
       "      <td>No</td>\n",
       "      <td>Yes</td>\n",
       "      <td>Yes</td>\n",
       "      <td>No</td>\n",
       "      <td>Yes</td>\n",
       "      <td>Yes</td>\n",
       "      <td>One year</td>\n",
       "      <td>103.20</td>\n",
       "      <td>7362.9</td>\n",
       "      <td>No</td>\n",
       "    </tr>\n",
       "    <tr>\n",
       "      <th>7040</th>\n",
       "      <td>Female</td>\n",
       "      <td>0</td>\n",
       "      <td>Yes</td>\n",
       "      <td>Yes</td>\n",
       "      <td>11</td>\n",
       "      <td>No</td>\n",
       "      <td>Yes</td>\n",
       "      <td>No</td>\n",
       "      <td>No</td>\n",
       "      <td>No</td>\n",
       "      <td>No</td>\n",
       "      <td>No</td>\n",
       "      <td>Month-to-month</td>\n",
       "      <td>29.60</td>\n",
       "      <td>346.45</td>\n",
       "      <td>No</td>\n",
       "    </tr>\n",
       "    <tr>\n",
       "      <th>7041</th>\n",
       "      <td>Male</td>\n",
       "      <td>1</td>\n",
       "      <td>Yes</td>\n",
       "      <td>No</td>\n",
       "      <td>4</td>\n",
       "      <td>Yes</td>\n",
       "      <td>No</td>\n",
       "      <td>No</td>\n",
       "      <td>No</td>\n",
       "      <td>No</td>\n",
       "      <td>No</td>\n",
       "      <td>No</td>\n",
       "      <td>Month-to-month</td>\n",
       "      <td>74.40</td>\n",
       "      <td>306.6</td>\n",
       "      <td>Yes</td>\n",
       "    </tr>\n",
       "    <tr>\n",
       "      <th>7042</th>\n",
       "      <td>Male</td>\n",
       "      <td>0</td>\n",
       "      <td>No</td>\n",
       "      <td>No</td>\n",
       "      <td>66</td>\n",
       "      <td>Yes</td>\n",
       "      <td>Yes</td>\n",
       "      <td>No</td>\n",
       "      <td>Yes</td>\n",
       "      <td>Yes</td>\n",
       "      <td>Yes</td>\n",
       "      <td>Yes</td>\n",
       "      <td>Two year</td>\n",
       "      <td>105.65</td>\n",
       "      <td>6844.5</td>\n",
       "      <td>No</td>\n",
       "    </tr>\n",
       "  </tbody>\n",
       "</table>\n",
       "<p>7043 rows × 16 columns</p>\n",
       "</div>"
      ],
      "text/plain": [
       "      gender  SeniorCitizen Partner Dependents  tenure PhoneService  \\\n",
       "0     Female              0     Yes         No       1           No   \n",
       "1       Male              0      No         No      34          Yes   \n",
       "2       Male              0      No         No       2          Yes   \n",
       "3       Male              0      No         No      45           No   \n",
       "4     Female              0      No         No       2          Yes   \n",
       "...      ...            ...     ...        ...     ...          ...   \n",
       "7038    Male              0     Yes        Yes      24          Yes   \n",
       "7039  Female              0     Yes        Yes      72          Yes   \n",
       "7040  Female              0     Yes        Yes      11           No   \n",
       "7041    Male              1     Yes         No       4          Yes   \n",
       "7042    Male              0      No         No      66          Yes   \n",
       "\n",
       "     OnlineSecurity OnlineBackup DeviceProtection TechSupport StreamingTV  \\\n",
       "0                No          Yes               No          No          No   \n",
       "1               Yes           No              Yes          No          No   \n",
       "2               Yes          Yes               No          No          No   \n",
       "3               Yes           No              Yes         Yes          No   \n",
       "4                No           No               No          No          No   \n",
       "...             ...          ...              ...         ...         ...   \n",
       "7038            Yes           No              Yes         Yes         Yes   \n",
       "7039             No          Yes              Yes          No         Yes   \n",
       "7040            Yes           No               No          No          No   \n",
       "7041             No           No               No          No          No   \n",
       "7042            Yes           No              Yes         Yes         Yes   \n",
       "\n",
       "     StreamingMovies        Contract  MonthlyCharges TotalCharges Churn  \n",
       "0                 No  Month-to-month           29.85        29.85    No  \n",
       "1                 No        One year           56.95       1889.5    No  \n",
       "2                 No  Month-to-month           53.85       108.15   Yes  \n",
       "3                 No        One year           42.30      1840.75    No  \n",
       "4                 No  Month-to-month           70.70       151.65   Yes  \n",
       "...              ...             ...             ...          ...   ...  \n",
       "7038             Yes        One year           84.80       1990.5    No  \n",
       "7039             Yes        One year          103.20       7362.9    No  \n",
       "7040              No  Month-to-month           29.60       346.45    No  \n",
       "7041              No  Month-to-month           74.40        306.6   Yes  \n",
       "7042             Yes        Two year          105.65       6844.5    No  \n",
       "\n",
       "[7043 rows x 16 columns]"
      ]
     },
     "execution_count": 8,
     "metadata": {},
     "output_type": "execute_result"
    }
   ],
   "source": [
    "churnData"
   ]
  },
  {
   "cell_type": "code",
   "execution_count": 7,
   "id": "1935dd9d",
   "metadata": {
    "collapsed": true
   },
   "outputs": [
    {
     "data": {
      "text/plain": [
       "gender               object\n",
       "SeniorCitizen         int64\n",
       "Partner              object\n",
       "Dependents           object\n",
       "tenure                int64\n",
       "PhoneService         object\n",
       "OnlineSecurity       object\n",
       "OnlineBackup         object\n",
       "DeviceProtection     object\n",
       "TechSupport          object\n",
       "StreamingTV          object\n",
       "StreamingMovies      object\n",
       "Contract             object\n",
       "MonthlyCharges      float64\n",
       "TotalCharges         object\n",
       "Churn                object\n",
       "dtype: object"
      ]
     },
     "execution_count": 7,
     "metadata": {},
     "output_type": "execute_result"
    }
   ],
   "source": [
    "churnData.dtypes"
   ]
  },
  {
   "cell_type": "code",
   "execution_count": 22,
   "id": "7fba90c3",
   "metadata": {},
   "outputs": [],
   "source": [
    "# convert TotalCharges to numeric\n",
    "churnData[\"TotalCharges\"] = pd.to_numeric(churnData[\"TotalCharges\"], errors=\"coerce\")"
   ]
  },
  {
   "cell_type": "code",
   "execution_count": 15,
   "id": "6758aaab",
   "metadata": {
    "collapsed": true
   },
   "outputs": [
    {
     "data": {
      "text/plain": [
       "gender               object\n",
       "SeniorCitizen         int64\n",
       "Partner              object\n",
       "Dependents           object\n",
       "tenure                int64\n",
       "PhoneService         object\n",
       "OnlineSecurity       object\n",
       "OnlineBackup         object\n",
       "DeviceProtection     object\n",
       "TechSupport          object\n",
       "StreamingTV          object\n",
       "StreamingMovies      object\n",
       "Contract             object\n",
       "MonthlyCharges      float64\n",
       "TotalCharges        float64\n",
       "Churn                object\n",
       "dtype: object"
      ]
     },
     "execution_count": 15,
     "metadata": {},
     "output_type": "execute_result"
    }
   ],
   "source": [
    "churnData.dtypes"
   ]
  },
  {
   "cell_type": "code",
   "execution_count": 26,
   "id": "f8188f4e",
   "metadata": {
    "collapsed": true
   },
   "outputs": [
    {
     "data": {
      "text/plain": [
       "gender              0\n",
       "SeniorCitizen       0\n",
       "Partner             0\n",
       "Dependents          0\n",
       "tenure              0\n",
       "PhoneService        0\n",
       "OnlineSecurity      0\n",
       "OnlineBackup        0\n",
       "DeviceProtection    0\n",
       "TechSupport         0\n",
       "StreamingTV         0\n",
       "StreamingMovies     0\n",
       "Contract            0\n",
       "MonthlyCharges      0\n",
       "TotalCharges        0\n",
       "Churn               0\n",
       "dtype: int64"
      ]
     },
     "execution_count": 26,
     "metadata": {},
     "output_type": "execute_result"
    }
   ],
   "source": [
    "# check for NaN values for whole df\n",
    "churnData.isna().sum()"
   ]
  },
  {
   "cell_type": "code",
   "execution_count": 23,
   "id": "88c27c9b",
   "metadata": {},
   "outputs": [
    {
     "data": {
      "text/plain": [
       "11"
      ]
     },
     "execution_count": 23,
     "metadata": {},
     "output_type": "execute_result"
    }
   ],
   "source": [
    "# check for NaN values in one column\n",
    "churnData[\"TotalCharges\"].isna().sum()"
   ]
  },
  {
   "cell_type": "code",
   "execution_count": 25,
   "id": "e41025b2",
   "metadata": {},
   "outputs": [],
   "source": [
    "# remove NaN\n",
    "churnData.dropna(subset=[\"TotalCharges\"], inplace=True)"
   ]
  },
  {
   "cell_type": "code",
   "execution_count": null,
   "id": "447b1f10",
   "metadata": {},
   "outputs": [],
   "source": []
  },
  {
   "cell_type": "markdown",
   "id": "4f8a7013",
   "metadata": {},
   "source": [
    "### Split the data into a training set and a test set"
   ]
  },
  {
   "cell_type": "code",
   "execution_count": 27,
   "id": "f20c3bfd",
   "metadata": {},
   "outputs": [],
   "source": [
    "# Use the following features: tenure, SeniorCitizen, MonthlyCharges and TotalCharges\n",
    "X = churnData[['tenure', 'SeniorCitizen', 'MonthlyCharges', 'TotalCharges']]\n",
    "y = churnData['Churn']"
   ]
  },
  {
   "cell_type": "code",
   "execution_count": 35,
   "id": "e066a560",
   "metadata": {},
   "outputs": [
    {
     "data": {
      "text/plain": [
       "No     0.734215\n",
       "Yes    0.265785\n",
       "Name: Churn, dtype: float64"
      ]
     },
     "execution_count": 35,
     "metadata": {},
     "output_type": "execute_result"
    }
   ],
   "source": [
    "y.value_counts(normalize=True)"
   ]
  },
  {
   "cell_type": "code",
   "execution_count": 44,
   "id": "8a16c43b",
   "metadata": {},
   "outputs": [],
   "source": [
    "y = y.map(lambda x: 1 if x == 'Yes' else 0)"
   ]
  },
  {
   "cell_type": "code",
   "execution_count": 46,
   "id": "f49d3684",
   "metadata": {},
   "outputs": [],
   "source": [
    "# split in X and y\n",
    "X_train, X_test, y_train, y_test = train_test_split(X, y, test_size=0.20, random_state=42)"
   ]
  },
  {
   "cell_type": "code",
   "execution_count": 47,
   "id": "44511eae",
   "metadata": {},
   "outputs": [],
   "source": [
    "# Scale the features either by using normalizer or a standard scaler.\n",
    "scaler = StandardScaler()\n",
    "X_train = scaler.fit_transform(X_train) # the standard scaler will only work with numericals\n",
    "X_test = scaler.transform(X_test)"
   ]
  },
  {
   "cell_type": "code",
   "execution_count": 48,
   "id": "516aa9ed",
   "metadata": {},
   "outputs": [
    {
     "data": {
      "text/plain": [
       "KNeighborsClassifier(n_neighbors=1)"
      ]
     },
     "execution_count": 48,
     "metadata": {},
     "output_type": "execute_result"
    }
   ],
   "source": [
    "# Fit a Knn Classifier(NOT KnnRegressor please!)model on the training data.\n",
    "# let's first do it on one first\n",
    "# then I will write a function that that this for 15 different K's\n",
    "model = KNeighborsClassifier(n_neighbors=1,weights='uniform') # declare we're using knn classification model\n",
    "model.fit(X_train, y_train) # train model\n",
    "y_pred = model.predict(X_test) # predict test\n",
    "y_pred_train=model.predict(X_train) # predict train (for sanity checks)\n",
    "#model.predict_proba(inputdata)"
   ]
  },
  {
   "cell_type": "code",
   "execution_count": 40,
   "id": "76892e7c",
   "metadata": {},
   "outputs": [
    {
     "data": {
      "text/plain": [
       "<sklearn.metrics._plot.confusion_matrix.ConfusionMatrixDisplay at 0x7fb079793fd0>"
      ]
     },
     "execution_count": 40,
     "metadata": {},
     "output_type": "execute_result"
    },
    {
     "data": {
      "text/plain": [
       "<sklearn.metrics._plot.confusion_matrix.ConfusionMatrixDisplay at 0x7fb08b40d2e0>"
      ]
     },
     "execution_count": 40,
     "metadata": {},
     "output_type": "execute_result"
    },
    {
     "data": {
      "image/png": "[encoded data removed]",
      "text/plain": [
       "<Figure size 1400x400 with 4 Axes>"
      ]
     },
     "metadata": {},
     "output_type": "display_data"
    }
   ],
   "source": [
    "fig, ax = plt.subplots(1,2, figsize=(14,4))\n",
    "\n",
    "\n",
    "plot_confusion_matrix(model,X_train,y_train,ax=ax[0], values_format = 'd')\n",
    "ax[0].title.set_text(\"Train Set\")\n",
    "\n",
    "plot_confusion_matrix(model,X_test,y_test,ax=ax[1],values_format = 'd')\n",
    "ax[1].title.set_text(\"Test Set\")\n",
    "\n",
    "# what is it that we get???\n"
   ]
  },
  {
   "cell_type": "code",
   "execution_count": 49,
   "id": "9ec130eb",
   "metadata": {},
   "outputs": [],
   "source": [
    "def evaluate_classification_model(y_train, y_pred_train, y_test, y_pred_test):\n",
    "    \"\"\"\n",
    "    Generates performance metrics and comparisons of labels with their predicted values\n",
    "    :param y_train: training labels\n",
    "    :param y_pred_train: predictions from the model on the training set\n",
    "    :param y_test: test labels\n",
    "    :param y_pred_test: predictions from the model on the test set\n",
    "    :returns: 3 dfs - Accuracy, Precision, and Recall scores, y_train vs. y_pred_train and y_test vs. y_pred_dist\n",
    "    \"\"\"\n",
    "    performance_df = pd.DataFrame({'Error_metric': ['Accuracy','Precision','Recall'],\n",
    "                               'Train': [accuracy_score(y_train, y_pred_train),\n",
    "                                         precision_score(y_train, y_pred_train),\n",
    "                                         recall_score(y_train, y_pred_train)],\n",
    "                               'Test': [accuracy_score(y_test, y_pred_test),\n",
    "                                        precision_score(y_test, y_pred_test),\n",
    "                                        recall_score(y_test, y_pred_test)]})\n",
    "    \n",
    "    pd.options.display.float_format = '{:.2f}'.format\n",
    "\n",
    "    df_train = pd.DataFrame({'Real': y_train, 'Predicted': y_pred_train})\n",
    "    df_test  = pd.DataFrame({'Real': y_test,  'Predicted': y_pred_test})\n",
    "\n",
    "    return performance_df, df_train, df_test"
   ]
  },
  {
   "cell_type": "code",
   "execution_count": 50,
   "id": "7678b790",
   "metadata": {},
   "outputs": [
    {
     "data": {
      "text/html": [
       "<div>\n",
       "<style scoped>\n",
       "    .dataframe tbody tr th:only-of-type {\n",
       "        vertical-align: middle;\n",
       "    }\n",
       "\n",
       "    .dataframe tbody tr th {\n",
       "        vertical-align: top;\n",
       "    }\n",
       "\n",
       "    .dataframe thead th {\n",
       "        text-align: right;\n",
       "    }\n",
       "</style>\n",
       "<table border=\"1\" class=\"dataframe\">\n",
       "  <thead>\n",
       "    <tr style=\"text-align: right;\">\n",
       "      <th></th>\n",
       "      <th>Error_metric</th>\n",
       "      <th>Train</th>\n",
       "      <th>Test</th>\n",
       "    </tr>\n",
       "  </thead>\n",
       "  <tbody>\n",
       "    <tr>\n",
       "      <th>0</th>\n",
       "      <td>Accuracy</td>\n",
       "      <td>0.99</td>\n",
       "      <td>0.73</td>\n",
       "    </tr>\n",
       "    <tr>\n",
       "      <th>1</th>\n",
       "      <td>Precision</td>\n",
       "      <td>0.98</td>\n",
       "      <td>0.49</td>\n",
       "    </tr>\n",
       "    <tr>\n",
       "      <th>2</th>\n",
       "      <td>Recall</td>\n",
       "      <td>0.98</td>\n",
       "      <td>0.49</td>\n",
       "    </tr>\n",
       "  </tbody>\n",
       "</table>\n",
       "</div>"
      ],
      "text/plain": [
       "  Error_metric  Train  Test\n",
       "0     Accuracy   0.99  0.73\n",
       "1    Precision   0.98  0.49\n",
       "2       Recall   0.98  0.49"
      ]
     },
     "execution_count": 50,
     "metadata": {},
     "output_type": "execute_result"
    }
   ],
   "source": [
    "error_metrics_df,y_train_vs_predicted, y_test_vs_predicted = evaluate_classification_model(y_train, y_pred_train,y_test, y_pred)\n",
    "error_metrics_df"
   ]
  },
  {
   "cell_type": "code",
   "execution_count": 51,
   "id": "85e31192",
   "metadata": {},
   "outputs": [],
   "source": [
    "# now, write a function that does the above 15 times\n",
    "# a for loop, right?\n",
    "\n",
    "\n",
    "# i need this \n",
    "model = KNeighborsClassifier(n_neighbors=1,weights='uniform') # declare we're using knn classification model\n",
    "model.fit(X_train, y_train) # train model\n",
    "y_pred = model.predict(X_test) # predict test\n",
    "y_pred_train=model.predict(X_train) # predict train (for sanity checks)\n",
    "#model.predict_proba(inputdata)\n",
    "\n",
    "\n",
    "\n",
    "# and I need this in the for loop, right?\n",
    "error_metrics_df,y_train_vs_predicted, y_test_vs_predicted = evaluate_classification_model(y_train, y_pred_train,y_test, y_pred)\n",
    "error_metrics_df\n",
    "\n",
    "# so, how do I combine these two?\n",
    "    # I could run a counter and increase it by one each time\n",
    "    \n",
    "\n",
    "# but I also need to make sure that I store each df and give it a title with the number of k\n",
    "    # it can be a list of df, which is a dict?\n",
    "        # so, how do I convert a df into a df?\n",
    "        \n"
   ]
  },
  {
   "cell_type": "markdown",
   "id": "90b1982e",
   "metadata": {},
   "source": [
    "**FIRST PART OF THE LOOP**\n",
    "\n",
    "model = KNeighborsClassifier(n_neighbors=1,weights='uniform')\n",
    "\n",
    "model.fit(X_train, y_train)\n",
    "\n",
    "y_pred = model.predict(X_test) \n",
    "\n",
    "y_pred_train=model.predict(X_train)\n",
    "\n",
    "\n",
    "**SECOND PART OF THE LOOP**\n",
    "\n",
    "error_metrics_df,y_train_vs_predicted, y_test_vs_predicted = evaluate_classification_model(y_train, y_pred_train,y_test, y_pred)\n",
    "\n",
    "error_metrics_df\n",
    "\n",
    "\n",
    "\n",
    "*so, how do I combine these two? I could run a counter and increase it by one each time*\n",
    "    \n",
    "\n",
    "*but I also need to make sure that I store each df and give it a title with the number of k. it can be a list of df, which is a dict? so, how do I convert a df into a df?*\n",
    "        \n",
    "*a list of dictionaries or can I maybe store dfs in a list?*\n",
    "\n",
    "*this is list that would suffice my needs*\n",
    "\n",
    "*I need to pass it the dfs and the number of k before each df*\n",
    "\n",
    "*error_metrics_df_1 = error_metrics_df\n",
    "error_metrics_df_2 = error_metrics_df\n",
    "a_list_of_df = [1, error_metrics_df_1, 2, error_metrics_df_2]*\n",
    "\n",
    "*so, for each k in range 15, a model with k neighbors shall be fitted, and the function 'evaluate_classification_model' shall be run, and each time the 'error_metrics_df' shall be stored in a list that 'prints' the counter before each df*"
   ]
  },
  {
   "cell_type": "code",
   "execution_count": 66,
   "id": "5f5fa38e",
   "metadata": {},
   "outputs": [],
   "source": [
    "def compare_k():\n",
    "    list_df = []\n",
    "    for k in range(15):\n",
    "        model = KNeighborsClassifier(n_neighbors = k+1,weights='uniform')\n",
    "        model.fit(X_train, y_train)\n",
    "        y_pred = model.predict(X_test) \n",
    "        y_pred_train=model.predict(X_train)\n",
    "        error_metrics_df,y_train_vs_predicted, y_test_vs_predicted = evaluate_classification_model(y_train, y_pred_train,y_test, y_pred)\n",
    "        list_df.append((k+1, error_metrics_df))\n",
    "    return list_df"
   ]
  },
  {
   "cell_type": "code",
   "execution_count": 67,
   "id": "1690097d",
   "metadata": {},
   "outputs": [
    {
     "data": {
      "text/plain": [
       "[(1,\n",
       "    Error_metric  Train  Test\n",
       "  0     Accuracy   0.99  0.73\n",
       "  1    Precision   0.98  0.49\n",
       "  2       Recall   0.98  0.49),\n",
       " (2,\n",
       "    Error_metric  Train  Test\n",
       "  0     Accuracy   0.86  0.77\n",
       "  1    Precision   1.00  0.62\n",
       "  2       Recall   0.49  0.30),\n",
       " (3,\n",
       "    Error_metric  Train  Test\n",
       "  0     Accuracy   0.86  0.75\n",
       "  1    Precision   0.77  0.54\n",
       "  2       Recall   0.67  0.46),\n",
       " (4,\n",
       "    Error_metric  Train  Test\n",
       "  0     Accuracy   0.84  0.77\n",
       "  1    Precision   0.83  0.63\n",
       "  2       Recall   0.50  0.36),\n",
       " (5,\n",
       "    Error_metric  Train  Test\n",
       "  0     Accuracy   0.84  0.76\n",
       "  1    Precision   0.73  0.57\n",
       "  2       Recall   0.61  0.45),\n",
       " (6,\n",
       "    Error_metric  Train  Test\n",
       "  0     Accuracy   0.83  0.77\n",
       "  1    Precision   0.79  0.62\n",
       "  2       Recall   0.50  0.37),\n",
       " (7,\n",
       "    Error_metric  Train  Test\n",
       "  0     Accuracy   0.83  0.77\n",
       "  1    Precision   0.71  0.59\n",
       "  2       Recall   0.59  0.47),\n",
       " (8,\n",
       "    Error_metric  Train  Test\n",
       "  0     Accuracy   0.82  0.78\n",
       "  1    Precision   0.75  0.64\n",
       "  2       Recall   0.50  0.41),\n",
       " (9,\n",
       "    Error_metric  Train  Test\n",
       "  0     Accuracy   0.82  0.77\n",
       "  1    Precision   0.71  0.60\n",
       "  2       Recall   0.57  0.46),\n",
       " (10,\n",
       "    Error_metric  Train  Test\n",
       "  0     Accuracy   0.82  0.78\n",
       "  1    Precision   0.72  0.64\n",
       "  2       Recall   0.49  0.41),\n",
       " (11,\n",
       "    Error_metric  Train  Test\n",
       "  0     Accuracy   0.82  0.78\n",
       "  1    Precision   0.70  0.60\n",
       "  2       Recall   0.55  0.48),\n",
       " (12,\n",
       "    Error_metric  Train  Test\n",
       "  0     Accuracy   0.81  0.78\n",
       "  1    Precision   0.72  0.61\n",
       "  2       Recall   0.49  0.43),\n",
       " (13,\n",
       "    Error_metric  Train  Test\n",
       "  0     Accuracy   0.81  0.77\n",
       "  1    Precision   0.69  0.59\n",
       "  2       Recall   0.54  0.48),\n",
       " (14,\n",
       "    Error_metric  Train  Test\n",
       "  0     Accuracy   0.82  0.78\n",
       "  1    Precision   0.72  0.62\n",
       "  2       Recall   0.49  0.43),\n",
       " (15,\n",
       "    Error_metric  Train  Test\n",
       "  0     Accuracy   0.81  0.78\n",
       "  1    Precision   0.70  0.61\n",
       "  2       Recall   0.53  0.47)]"
      ]
     },
     "execution_count": 67,
     "metadata": {},
     "output_type": "execute_result"
    }
   ],
   "source": [
    "compare_k()"
   ]
  },
  {
   "cell_type": "code",
   "execution_count": null,
   "id": "9a18676e",
   "metadata": {},
   "outputs": [],
   "source": []
  },
  {
   "cell_type": "code",
   "execution_count": null,
   "id": "1e722a09",
   "metadata": {},
   "outputs": [],
   "source": []
  },
  {
   "cell_type": "code",
   "execution_count": null,
   "id": "06d11576",
   "metadata": {},
   "outputs": [],
   "source": []
  },
  {
   "cell_type": "code",
   "execution_count": null,
   "id": "0932cfc0",
   "metadata": {},
   "outputs": [],
   "source": []
  },
  {
   "cell_type": "code",
   "execution_count": null,
   "id": "88094977",
   "metadata": {},
   "outputs": [],
   "source": []
  },
  {
   "cell_type": "code",
   "execution_count": null,
   "id": "7ebe7caf",
   "metadata": {},
   "outputs": [],
   "source": []
  },
  {
   "cell_type": "code",
   "execution_count": null,
   "id": "83b2ed95",
   "metadata": {},
   "outputs": [],
   "source": []
  },
  {
   "cell_type": "code",
   "execution_count": null,
   "id": "2086806b",
   "metadata": {},
   "outputs": [],
   "source": []
  },
  {
   "cell_type": "code",
   "execution_count": null,
   "id": "165c1aba",
   "metadata": {},
   "outputs": [],
   "source": []
  },
  {
   "cell_type": "code",
   "execution_count": null,
   "id": "cc4822bf",
   "metadata": {},
   "outputs": [],
   "source": []
  },
  {
   "cell_type": "code",
   "execution_count": null,
   "id": "e6a5eb80",
   "metadata": {},
   "outputs": [],
   "source": []
  }
 ],
 "metadata": {
  "kernelspec": {
   "display_name": "Python 3 (ipykernel)",
   "language": "python",
   "name": "python3"
  },
  "language_info": {
   "codemirror_mode": {
    "name": "ipython",
    "version": 3
   },
   "file_extension": ".py",
   "mimetype": "text/x-python",
   "name": "python",
   "nbconvert_exporter": "python",
   "pygments_lexer": "ipython3",
   "version": "3.9.13"
  }
 },
 "nbformat": 4,
 "nbformat_minor": 5
}
