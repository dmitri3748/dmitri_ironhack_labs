{
 "cells": [
  {
   "cell_type": "code",
   "execution_count": 1,
   "id": "84f53e13",
   "metadata": {},
   "outputs": [],
   "source": [
    "#### 1. Import the numpy package under the name `np` (★☆☆)\n",
    "import numpy as np"
   ]
  },
  {
   "cell_type": "code",
   "execution_count": 20,
   "id": "3fffdc3a",
   "metadata": {},
   "outputs": [
    {
     "name": "stdout",
     "output_type": "stream",
     "text": [
      "[0. 0. 0. 0. 0. 0. 0. 0. 0. 0.]\n"
     ]
    }
   ],
   "source": [
    "#### 2. Create a null vector of size 10 (★☆☆)\n",
    "array_1 = np.zeros(10)\n",
    "print(array_1)"
   ]
  },
  {
   "cell_type": "code",
   "execution_count": 22,
   "id": "111f16d7",
   "metadata": {},
   "outputs": [
    {
     "name": "stdout",
     "output_type": "stream",
     "text": [
      "[0. 0. 0. 0. 0. 0. 1. 0. 0. 0.]\n"
     ]
    }
   ],
   "source": [
    "#### 3. Create a null vector of size 10 but the fifth value which is 1 (★☆☆)\n",
    "array_1[6] = 1 #how can I store this in a separate array?\n",
    "print(array_1)"
   ]
  },
  {
   "cell_type": "code",
   "execution_count": 26,
   "id": "c5374c3c",
   "metadata": {},
   "outputs": [
    {
     "name": "stdout",
     "output_type": "stream",
     "text": [
      "[10 11 12 13 14 15 16 17 18 19 20 21 22 23 24 25 26 27 28 29 30 31 32 33\n",
      " 34 35 36 37 38 39 40 41 42 43 44 45 46 47 48 49]\n"
     ]
    }
   ],
   "source": [
    "#### 4. Create a vector with values ranging from 10 to 49 (★☆☆)\n",
    "array_2 = np.arange(10, 50)\n",
    "print(array_2)"
   ]
  },
  {
   "cell_type": "code",
   "execution_count": 31,
   "id": "83e49e70",
   "metadata": {},
   "outputs": [
    {
     "name": "stdout",
     "output_type": "stream",
     "text": [
      "[[0 1 2]\n",
      " [3 4 5]\n",
      " [6 7 8]]\n"
     ]
    }
   ],
   "source": [
    "#### 5. Create a 3x3 matrix with values ranging from 0 to 8 (★☆☆)\n",
    "matrix_1 = np.arange(9).reshape((3,3))\n",
    "print(matrix_1)"
   ]
  },
  {
   "cell_type": "code",
   "execution_count": 45,
   "id": "7a73104c",
   "metadata": {},
   "outputs": [
    {
     "name": "stdout",
     "output_type": "stream",
     "text": [
      "[1 2 0 0 4 0]\n",
      "(array([0, 1, 4]),)\n"
     ]
    }
   ],
   "source": [
    "#### 6. Find indices of non-zero elements from [1,2,0,0,4,0] (★☆☆)\n",
    "vector = np.array([1,2,0,0,4,0])\n",
    "print(vector)\n",
    "non_zero_vector = np.nonzero(vector)\n",
    "print(non_zero_vector)"
   ]
  },
  {
   "cell_type": "code",
   "execution_count": 47,
   "id": "8d0f2e46",
   "metadata": {},
   "outputs": [
    {
     "name": "stdout",
     "output_type": "stream",
     "text": [
      "[[1. 0. 0.]\n",
      " [0. 1. 0.]\n",
      " [0. 0. 1.]]\n"
     ]
    }
   ],
   "source": [
    "#### 7. Create a 3x3 identity matrix (★☆☆)\n",
    "#hint: np.eye\n",
    "identity = np.eye(3,3)\n",
    "print(identity)"
   ]
  },
  {
   "cell_type": "code",
   "execution_count": 53,
   "id": "7ffff915",
   "metadata": {},
   "outputs": [
    {
     "name": "stdout",
     "output_type": "stream",
     "text": [
      "[[[0.81525207 0.46054118 0.76749603]\n",
      "  [0.49567201 0.49417761 0.74386076]\n",
      "  [0.54246867 0.10427626 0.5001574 ]]\n",
      "\n",
      " [[0.08430494 0.07179939 0.9217256 ]\n",
      "  [0.13263919 0.72109561 0.70589666]\n",
      "  [0.97138227 0.41266971 0.86699294]]\n",
      "\n",
      " [[0.04204661 0.03245196 0.26063364]\n",
      "  [0.39909443 0.9265373  0.48732411]\n",
      "  [0.88680212 0.66662176 0.42384423]]]\n"
     ]
    }
   ],
   "source": [
    "#### 8. Create a 3x3x3 array with random values (★☆☆)\n",
    "# 1. random values of a two-dimensional matrix\n",
    "random_two_dimensional = np.random.random((3,3,3)) # ! pay attention to the double paranthesis\n",
    "print(random_two_dimensional)"
   ]
  },
  {
   "cell_type": "code",
   "execution_count": 58,
   "id": "4d17868e",
   "metadata": {},
   "outputs": [
    {
     "data": {
      "text/plain": [
       "0.012431019915594144"
      ]
     },
     "execution_count": 58,
     "metadata": {},
     "output_type": "execute_result"
    }
   ],
   "source": [
    "#### 9. Create a 10x10 array with random values and find the minimum and maximum values (★☆☆)\n",
    "#`hint: min, max`\n",
    "ten_ten_array = np.random.random((10,10))\n",
    "np.min(ten_ten_array)"
   ]
  },
  {
   "cell_type": "code",
   "execution_count": 59,
   "id": "d4b13f7e",
   "metadata": {},
   "outputs": [
    {
     "data": {
      "text/plain": [
       "0.99830122702329"
      ]
     },
     "execution_count": 59,
     "metadata": {},
     "output_type": "execute_result"
    }
   ],
   "source": [
    "ten_ten_array = np.random.random((10,10))\n",
    "np.max(ten_ten_array)"
   ]
  },
  {
   "cell_type": "code",
   "execution_count": 68,
   "id": "9c14ed5a",
   "metadata": {},
   "outputs": [
    {
     "name": "stdout",
     "output_type": "stream",
     "text": [
      "0.5235949513215872\n"
     ]
    }
   ],
   "source": [
    "#### 10. Create a random vector of size 30 and find the mean value (★☆☆)\n",
    "vector_size_30 = np.random.random(30)\n",
    "mean = np.mean(vector_size_30)\n",
    "print(mean)"
   ]
  },
  {
   "cell_type": "code",
   "execution_count": 85,
   "id": "fa436707",
   "metadata": {},
   "outputs": [
    {
     "name": "stdout",
     "output_type": "stream",
     "text": [
      "[[0 0 0 0 0]\n",
      " [1 0 0 0 0]\n",
      " [0 2 0 0 0]\n",
      " [0 0 3 0 0]\n",
      " [0 0 0 4 0]]\n"
     ]
    }
   ],
   "source": [
    "#### 11. Create a 5x5 matrix with values 1,2,3,4 just below the diagonal (★☆☆)\n",
    "#`hint: np.diag`\n",
    "\n",
    "#matrix_five_five = np.zeros((5,5))\n",
    "#print(matrix_five_five)\n",
    "                            \n",
    "\n",
    "b = np.diag(np.arange(1,5),-1)\n",
    "print(b)"
   ]
  },
  {
   "cell_type": "code",
   "execution_count": 97,
   "id": "f355fbfe",
   "metadata": {},
   "outputs": [
    {
     "name": "stdout",
     "output_type": "stream",
     "text": [
      "[[0.28385937 0.86216132 0.47443883 0.21704097 0.69687636]\n",
      " [0.81460101 0.62602156 0.97228295 0.8450276  0.19997662]\n",
      " [0.99255993 0.68307989 0.51074127 0.62919552 0.11965895]\n",
      " [0.09309887 0.1972794  0.37379787 0.43832669 0.77606156]\n",
      " [0.83565733 0.3999145  0.84888933 0.28454223 0.77219908]]\n",
      "[[-0.98980708  1.09902549 -0.30143212 -1.23115581  0.50201451]\n",
      " [ 0.92723717  0.24608627  1.49678595  1.03713833 -1.29279243]\n",
      " [ 1.57002659  0.45218154 -0.17030734  0.25755063 -1.58290067]\n",
      " [-1.67883597 -1.30253483 -0.66494831 -0.43186953  0.78803229]\n",
      " [ 1.0032928  -0.57061477  1.05108691 -0.98734057  0.77408097]]\n"
     ]
    }
   ],
   "source": [
    "#### 12. Normalize a 5x5 random matrix (★☆☆)\n",
    "# hint: (x - mean)/std\n",
    "\n",
    "random_m = np.random.random((5,5))\n",
    "print(random_m)\n",
    "mean = np.mean(random_m)\n",
    "stdev = np.std(random_m)\n",
    "\n",
    "m_normalized = (random_m - mean)/ stdev\n",
    "print(m_normalized)"
   ]
  },
  {
   "cell_type": "code",
   "execution_count": 104,
   "id": "a7a797cc",
   "metadata": {},
   "outputs": [
    {
     "name": "stdout",
     "output_type": "stream",
     "text": [
      "[ 1  2  3  4  5  6  7  8  9 10]\n",
      "[ 5  6  7  8  9 10 11 12 13 14 15]\n",
      "[ 5  6  7  8  9 10]\n"
     ]
    }
   ],
   "source": [
    "#### 13. How to find common values between two arrays? (★☆☆)\n",
    "# hint: np.intersect1d\n",
    "\n",
    "ar1 = np.arange(1,11)\n",
    "print(ar1)\n",
    "ar2 = np.arange(5,16)\n",
    "print(ar2)\n",
    "\n",
    "ar3 = np.intersect1d(ar1, ar2)\n",
    "print(ar3)"
   ]
  },
  {
   "cell_type": "code",
   "execution_count": 109,
   "id": "14d91f4e",
   "metadata": {},
   "outputs": [
    {
     "name": "stdout",
     "output_type": "stream",
     "text": [
      "[0.79776716 0.89833194 0.48351517 0.6778928  0.49619225 0.47316635\n",
      " 0.84009625 0.56812285 0.11724191 0.60307046]\n"
     ]
    }
   ],
   "source": [
    "#### 14. Create a random vector of size 10 and sort it (★★☆)\n",
    "# hint: sort\n",
    "random_v = np.random.random(10)\n",
    "sorted_random = np.sort(random_v)\n",
    "print(random_v)"
   ]
  },
  {
   "cell_type": "code",
   "execution_count": 121,
   "id": "497ac27a",
   "metadata": {},
   "outputs": [
    {
     "name": "stdout",
     "output_type": "stream",
     "text": [
      "[0.07516904 0.60871154 0.44371457 0.         0.7630313  0.1751877\n",
      " 0.19912259 0.00158984 0.45136387 0.08009708]\n"
     ]
    }
   ],
   "source": [
    "# 15. Create random vector of size 10 and replace the maximum value by 0 (★★☆)\n",
    "random_v2 = np.random.random(10)\n",
    "random_v2[np.argmax(random_v2)] = 0 # bring it inside\n",
    "print(random_v2)"
   ]
  },
  {
   "cell_type": "code",
   "execution_count": null,
   "id": "4fbccca5",
   "metadata": {},
   "outputs": [],
   "source": [
    "#### 16. Subtract the mean of each row of a matrix (★★☆)\n",
    "hint: mean(axis=,keepdims=)\n",
    "    \n",
    "\n"
   ]
  }
 ],
 "metadata": {
  "kernelspec": {
   "display_name": "Python 3 (ipykernel)",
   "language": "python",
   "name": "python3"
  },
  "language_info": {
   "codemirror_mode": {
    "name": "ipython",
    "version": 3
   },
   "file_extension": ".py",
   "mimetype": "text/x-python",
   "name": "python",
   "nbconvert_exporter": "python",
   "pygments_lexer": "ipython3",
   "version": "3.9.13"
  }
 },
 "nbformat": 4,
 "nbformat_minor": 5
}
