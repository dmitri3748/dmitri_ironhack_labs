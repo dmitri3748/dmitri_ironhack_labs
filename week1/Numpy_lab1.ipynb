{
 "cells": [
  {
   "cell_type": "code",
   "execution_count": 1,
   "id": "84f53e13",
   "metadata": {},
   "outputs": [],
   "source": [
    "#### 1. Import the numpy package under the name `np` (★☆☆)\n",
    "import numpy as np"
   ]
  },
  {
   "cell_type": "code",
   "execution_count": 20,
   "id": "3fffdc3a",
   "metadata": {},
   "outputs": [
    {
     "name": "stdout",
     "output_type": "stream",
     "text": [
      "[0. 0. 0. 0. 0. 0. 0. 0. 0. 0.]\n"
     ]
    }
   ],
   "source": [
    "#### 2. Create a null vector of size 10 (★☆☆)\n",
    "array_1 = np.zeros(10)\n",
    "print(array_1)"
   ]
  },
  {
   "cell_type": "code",
   "execution_count": 22,
   "id": "111f16d7",
   "metadata": {},
   "outputs": [
    {
     "name": "stdout",
     "output_type": "stream",
     "text": [
      "[0. 0. 0. 0. 0. 0. 1. 0. 0. 0.]\n"
     ]
    }
   ],
   "source": [
    "#### 3. Create a null vector of size 10 but the fifth value which is 1 (★☆☆)\n",
    "array_1[6] = 1 #how can I store this in a separate array?\n",
    "print(array_1)"
   ]
  },
  {
   "cell_type": "code",
   "execution_count": 26,
   "id": "c5374c3c",
   "metadata": {},
   "outputs": [
    {
     "name": "stdout",
     "output_type": "stream",
     "text": [
      "[10 11 12 13 14 15 16 17 18 19 20 21 22 23 24 25 26 27 28 29 30 31 32 33\n",
      " 34 35 36 37 38 39 40 41 42 43 44 45 46 47 48 49]\n"
     ]
    }
   ],
   "source": [
    "#### 4. Create a vector with values ranging from 10 to 49 (★☆☆)\n",
    "array_2 = np.arange(10, 50)\n",
    "print(array_2)"
   ]
  },
  {
   "cell_type": "code",
   "execution_count": 31,
   "id": "83e49e70",
   "metadata": {},
   "outputs": [
    {
     "name": "stdout",
     "output_type": "stream",
     "text": [
      "[[0 1 2]\n",
      " [3 4 5]\n",
      " [6 7 8]]\n"
     ]
    }
   ],
   "source": [
    "#### 5. Create a 3x3 matrix with values ranging from 0 to 8 (★☆☆)\n",
    "matrix_1 = np.arange(9).reshape((3,3))\n",
    "print(matrix_1)"
   ]
  },
  {
   "cell_type": "code",
   "execution_count": 45,
   "id": "7a73104c",
   "metadata": {},
   "outputs": [
    {
     "name": "stdout",
     "output_type": "stream",
     "text": [
      "[1 2 0 0 4 0]\n",
      "(array([0, 1, 4]),)\n"
     ]
    }
   ],
   "source": [
    "#### 6. Find indices of non-zero elements from [1,2,0,0,4,0] (★☆☆)\n",
    "vector = np.array([1,2,0,0,4,0])\n",
    "print(vector)\n",
    "non_zero_vector = np.nonzero(vector)\n",
    "print(non_zero_vector)"
   ]
  },
  {
   "cell_type": "code",
   "execution_count": 125,
   "id": "8d0f2e46",
   "metadata": {},
   "outputs": [
    {
     "name": "stdout",
     "output_type": "stream",
     "text": [
      "[[1. 0. 0.]\n",
      " [0. 1. 0.]\n",
      " [0. 0. 1.]]\n"
     ]
    }
   ],
   "source": [
    "#### 7. Create a 3x3 identity matrix (★☆☆)\n",
    "#hint: np.eye\n",
    "identity = np.eye(3)\n",
    "print(identity)"
   ]
  },
  {
   "cell_type": "code",
   "execution_count": 53,
   "id": "7ffff915",
   "metadata": {},
   "outputs": [
    {
     "name": "stdout",
     "output_type": "stream",
     "text": [
      "[[[0.81525207 0.46054118 0.76749603]\n",
      "  [0.49567201 0.49417761 0.74386076]\n",
      "  [0.54246867 0.10427626 0.5001574 ]]\n",
      "\n",
      " [[0.08430494 0.07179939 0.9217256 ]\n",
      "  [0.13263919 0.72109561 0.70589666]\n",
      "  [0.97138227 0.41266971 0.86699294]]\n",
      "\n",
      " [[0.04204661 0.03245196 0.26063364]\n",
      "  [0.39909443 0.9265373  0.48732411]\n",
      "  [0.88680212 0.66662176 0.42384423]]]\n"
     ]
    }
   ],
   "source": [
    "#### 8. Create a 3x3x3 array with random values (★☆☆)\n",
    "# 1. random values of a two-dimensional matrix\n",
    "random_two_dimensional = np.random.random((3,3,3)) # ! pay attention to the double paranthesis\n",
    "print(random_two_dimensional)"
   ]
  },
  {
   "cell_type": "code",
   "execution_count": 58,
   "id": "4d17868e",
   "metadata": {},
   "outputs": [
    {
     "data": {
      "text/plain": [
       "0.012431019915594144"
      ]
     },
     "execution_count": 58,
     "metadata": {},
     "output_type": "execute_result"
    }
   ],
   "source": [
    "#### 9. Create a 10x10 array with random values and find the minimum and maximum values (★☆☆)\n",
    "#`hint: min, max`\n",
    "ten_ten_array = np.random.random((10,10))\n",
    "np.min(ten_ten_array)"
   ]
  },
  {
   "cell_type": "code",
   "execution_count": 59,
   "id": "d4b13f7e",
   "metadata": {},
   "outputs": [
    {
     "data": {
      "text/plain": [
       "0.99830122702329"
      ]
     },
     "execution_count": 59,
     "metadata": {},
     "output_type": "execute_result"
    }
   ],
   "source": [
    "ten_ten_array = np.random.random((10,10))\n",
    "np.max(ten_ten_array)"
   ]
  },
  {
   "cell_type": "code",
   "execution_count": 68,
   "id": "9c14ed5a",
   "metadata": {},
   "outputs": [
    {
     "name": "stdout",
     "output_type": "stream",
     "text": [
      "0.5235949513215872\n"
     ]
    }
   ],
   "source": [
    "#### 10. Create a random vector of size 30 and find the mean value (★☆☆)\n",
    "vector_size_30 = np.random.random(30)\n",
    "mean = np.mean(vector_size_30)\n",
    "print(mean)"
   ]
  },
  {
   "cell_type": "code",
   "execution_count": 126,
   "id": "fa436707",
   "metadata": {},
   "outputs": [
    {
     "name": "stdout",
     "output_type": "stream",
     "text": [
      "[[0 0 0 0 0]\n",
      " [1 0 0 0 0]\n",
      " [0 2 0 0 0]\n",
      " [0 0 3 0 0]\n",
      " [0 0 0 4 0]]\n"
     ]
    }
   ],
   "source": [
    "#### 11. Create a 5x5 matrix with values 1,2,3,4 just below the diagonal (★☆☆)\n",
    "#`hint: np.diag`\n",
    "\n",
    "#matrix_five_five = np.zeros((5,5))\n",
    "#print(matrix_five_five)\n",
    "                            \n",
    "\n",
    "b = np.diag(np.arange(1,5),-1)\n",
    "print(b)"
   ]
  },
  {
   "cell_type": "code",
   "execution_count": 127,
   "id": "83808523",
   "metadata": {},
   "outputs": [
    {
     "name": "stdout",
     "output_type": "stream",
     "text": [
      "Help on function diag in module numpy:\n",
      "\n",
      "diag(v, k=0)\n",
      "    Extract a diagonal or construct a diagonal array.\n",
      "    \n",
      "    See the more detailed documentation for ``numpy.diagonal`` if you use this\n",
      "    function to extract a diagonal and wish to write to the resulting array;\n",
      "    whether it returns a copy or a view depends on what version of numpy you\n",
      "    are using.\n",
      "    \n",
      "    Parameters\n",
      "    ----------\n",
      "    v : array_like\n",
      "        If `v` is a 2-D array, return a copy of its `k`-th diagonal.\n",
      "        If `v` is a 1-D array, return a 2-D array with `v` on the `k`-th\n",
      "        diagonal.\n",
      "    k : int, optional\n",
      "        Diagonal in question. The default is 0. Use `k>0` for diagonals\n",
      "        above the main diagonal, and `k<0` for diagonals below the main\n",
      "        diagonal.\n",
      "    \n",
      "    Returns\n",
      "    -------\n",
      "    out : ndarray\n",
      "        The extracted diagonal or constructed diagonal array.\n",
      "    \n",
      "    See Also\n",
      "    --------\n",
      "    diagonal : Return specified diagonals.\n",
      "    diagflat : Create a 2-D array with the flattened input as a diagonal.\n",
      "    trace : Sum along diagonals.\n",
      "    triu : Upper triangle of an array.\n",
      "    tril : Lower triangle of an array.\n",
      "    \n",
      "    Examples\n",
      "    --------\n",
      "    >>> x = np.arange(9).reshape((3,3))\n",
      "    >>> x\n",
      "    array([[0, 1, 2],\n",
      "           [3, 4, 5],\n",
      "           [6, 7, 8]])\n",
      "    \n",
      "    >>> np.diag(x)\n",
      "    array([0, 4, 8])\n",
      "    >>> np.diag(x, k=1)\n",
      "    array([1, 5])\n",
      "    >>> np.diag(x, k=-1)\n",
      "    array([3, 7])\n",
      "    \n",
      "    >>> np.diag(np.diag(x))\n",
      "    array([[0, 0, 0],\n",
      "           [0, 4, 0],\n",
      "           [0, 0, 8]])\n",
      "\n"
     ]
    }
   ],
   "source": [
    "help(np.diag)"
   ]
  },
  {
   "cell_type": "code",
   "execution_count": 130,
   "id": "f355fbfe",
   "metadata": {},
   "outputs": [
    {
     "ename": "SyntaxError",
     "evalue": "invalid syntax (720471641.py, line 6)",
     "output_type": "error",
     "traceback": [
      "\u001b[0;36m  File \u001b[0;32m\"/var/folders/wq/2vxkh_6d4g7dpxkr5q82nxzh0000gn/T/ipykernel_12584/720471641.py\"\u001b[0;36m, line \u001b[0;32m6\u001b[0m\n\u001b[0;31m    print(normal)\u001b[0m\n\u001b[0m    ^\u001b[0m\n\u001b[0;31mSyntaxError\u001b[0m\u001b[0;31m:\u001b[0m invalid syntax\n"
     ]
    }
   ],
   "source": [
    "#### 12. Normalize a 5x5 random matrix (★☆☆)\n",
    "# hint: (x - mean)/std\n",
    "\n",
    "random_m = np.random.random((5,5))\n",
    "normal = (random_m - np.mean(random_m)/np.std(random_m)\n",
    "print(normal)"
   ]
  },
  {
   "cell_type": "code",
   "execution_count": 131,
   "id": "a7a797cc",
   "metadata": {},
   "outputs": [
    {
     "name": "stdout",
     "output_type": "stream",
     "text": [
      "[ 1  2  3  4  5  6  7  8  9 10]\n",
      "[ 5  6  7  8  9 10 11 12 13 14 15]\n",
      "[ 5  6  7  8  9 10]\n"
     ]
    }
   ],
   "source": [
    "#### 13. How to find common values between two arrays? (★☆☆)\n",
    "# hint: np.intersect1d\n",
    "\n",
    "ar1 = np.arange(1,11)\n",
    "print(ar1)\n",
    "ar2 = np.arange(5,16)\n",
    "print(ar2)\n",
    "\n",
    "ar3 = np.intersect1d(ar1, ar2)\n",
    "print(ar3)"
   ]
  },
  {
   "cell_type": "code",
   "execution_count": 135,
   "id": "14d91f4e",
   "metadata": {},
   "outputs": [
    {
     "name": "stdout",
     "output_type": "stream",
     "text": [
      "[0.86294891 0.16640855 0.53190294 0.30987702 0.90077763 0.40743039\n",
      " 0.58172446 0.79338623 0.18476722 0.36307744]\n"
     ]
    }
   ],
   "source": [
    "#### 14. Create a random vector of size 10 and sort it (★★☆)\n",
    "# hint: sort\n",
    "random_v = np.random.random(10)\n",
    "sorted_random = np.sort(random_v)\n",
    "np.sort(random_v)\n",
    "print(random_v)"
   ]
  },
  {
   "cell_type": "code",
   "execution_count": 133,
   "id": "497ac27a",
   "metadata": {},
   "outputs": [
    {
     "name": "stdout",
     "output_type": "stream",
     "text": [
      "[0.79820376 0.25378399 0.         0.35311818 0.31148656 0.08124039\n",
      " 0.09518367 0.50074405 0.54512929 0.4241236 ]\n"
     ]
    }
   ],
   "source": [
    "# 15. Create random vector of size 10 and replace the maximum value by 0 (★★☆)\n",
    "random_v2 = np.random.random(10)\n",
    "random_v2[np.argmax(random_v2)] = 0 # bring it inside\n",
    "print(random_v2)"
   ]
  },
  {
   "cell_type": "code",
   "execution_count": 139,
   "id": "4fbccca5",
   "metadata": {},
   "outputs": [
    {
     "name": "stdout",
     "output_type": "stream",
     "text": [
      "[[ 0.35642637  0.06251449 -0.41894086]\n",
      " [ 0.37384701  0.00893071 -0.38277772]\n",
      " [-0.34096952  0.40531476 -0.06434524]]\n"
     ]
    }
   ],
   "source": [
    "#### 16. Subtract the mean of each row of a matrix (★★☆)\n",
    "t = np.random.rand(3,3)\n",
    "t -= np.mean(t, axis = 1, keepdims = True)\n",
    "print(t)\n",
    "    \n",
    "\n"
   ]
  },
  {
   "cell_type": "code",
   "execution_count": 140,
   "id": "fcc46dfc",
   "metadata": {},
   "outputs": [],
   "source": [
    "#### 17. How to get the n largest values of an array (★★★)\n",
    "Z = np.arange(10000)\n",
    "np.random.shuffle(Z)\n",
    "n = 5\n",
    "\n",
    "\n",
    "#hint: np.argsort | np.argpartition`"
   ]
  },
  {
   "cell_type": "code",
   "execution_count": 145,
   "id": "06c83213",
   "metadata": {},
   "outputs": [
    {
     "name": "stdout",
     "output_type": "stream",
     "text": [
      "[0.52332044 0.71003621 0.53568325 0.67933242 0.32462643 0.74730497\n",
      " 0.04128301 0.1191781  0.40658476 0.85801369]\n"
     ]
    }
   ],
   "source": [
    "a = np.random.random(10)\n",
    "print(a)"
   ]
  },
  {
   "cell_type": "code",
   "execution_count": null,
   "id": "8398db7c",
   "metadata": {},
   "outputs": [],
   "source": []
  },
  {
   "cell_type": "code",
   "execution_count": null,
   "id": "9c0650ee",
   "metadata": {},
   "outputs": [],
   "source": []
  }
 ],
 "metadata": {
  "kernelspec": {
   "display_name": "Python 3 (ipykernel)",
   "language": "python",
   "name": "python3"
  },
  "language_info": {
   "codemirror_mode": {
    "name": "ipython",
    "version": 3
   },
   "file_extension": ".py",
   "mimetype": "text/x-python",
   "name": "python",
   "nbconvert_exporter": "python",
   "pygments_lexer": "ipython3",
   "version": "3.9.13"
  }
 },
 "nbformat": 4,
 "nbformat_minor": 5
}
