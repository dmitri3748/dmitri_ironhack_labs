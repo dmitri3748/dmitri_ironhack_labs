{
 "cells": [
  {
   "cell_type": "code",
   "execution_count": null,
   "id": "b93df4cb",
   "metadata": {},
   "outputs": [],
   "source": [
    "str_list = ['I', 'am', 'strengthening', 'my', 'programming', 'skills', 'in', 'order', 'to', 'become', 'a', 'great', 'Data','Analyst']\n",
    "joined = ', '.join(str_list)\n",
    "print(joined)\n",
    "\n",
    "no_comma = joined.replace(',', '')\n",
    "print(no_comma)\n",
    "\n",
    "with_dot = no_comma + '.'\n",
    "print(with_dot)\n"
   ]
  },
  {
   "cell_type": "code",
   "execution_count": 2,
   "id": "2d0ab145",
   "metadata": {},
   "outputs": [
    {
     "name": "stdout",
     "output_type": "stream",
     "text": [
      "Grocery list: , bananas , chocolate , bread , diapers , ice cream , brownie mix , broccoli\n"
     ]
    }
   ],
   "source": [
    "food_list = ['Bananas', 'Chocolate', 'bread', 'diapers', 'Ice Cream', 'Brownie Mix', 'broccoli']\n",
    "#1. lower\n",
    "food_list_lowered = []\n",
    "for ingredient in food_list:\n",
    "    food_list_lowered.append(ingredient.lower())\n",
    "    \n",
    "#2. create a list that starts with Grocery list\n",
    "grocery_list = ['Grocery list:']\n",
    "\n",
    "#3. We have a list with one element, now we want to add the elements from food_list_lowered\n",
    "grocery_list.extend(food_list_lowered)\n",
    "\n",
    "\n",
    "#4. Make the whole thing a string\n",
    "grocery_string = \" , \".join(grocery_list)\n",
    "print(grocery_string)"
   ]
  },
  {
   "cell_type": "code",
   "execution_count": null,
   "id": "e415f649",
   "metadata": {},
   "outputs": [],
   "source": []
  }
 ],
 "metadata": {
  "kernelspec": {
   "display_name": "Python 3 (ipykernel)",
   "language": "python",
   "name": "python3"
  },
  "language_info": {
   "codemirror_mode": {
    "name": "ipython",
    "version": 3
   },
   "file_extension": ".py",
   "mimetype": "text/x-python",
   "name": "python",
   "nbconvert_exporter": "python",
   "pygments_lexer": "ipython3",
   "version": "3.9.13"
  }
 },
 "nbformat": 4,
 "nbformat_minor": 5
}
