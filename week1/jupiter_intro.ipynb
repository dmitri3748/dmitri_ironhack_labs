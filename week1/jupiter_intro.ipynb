{
 "cells": [
  {
   "cell_type": "markdown",
   "id": "215e5df6",
   "metadata": {},
   "source": [
    "### Holidays notebook\n",
    "* [Trump's hair in motion](#first-bullet)\n",
    "* [Top 3 things Trump love doing on Mar de Lago](#second-bullet)"
   ]
  },
  {
   "cell_type": "markdown",
   "id": "94b35199",
   "metadata": {},
   "source": [
    "*this notebook is being born to share with you a little from the life of Donald Trump's hair*"
   ]
  },
  {
   "cell_type": "code",
   "execution_count": 2,
   "id": "c344e0e0",
   "metadata": {},
   "outputs": [
    {
     "name": "stdout",
     "output_type": "stream",
     "text": [
      "Pls say what part of Donald Trump's body interests you most:Trump\n"
     ]
    },
    {
     "data": {
      "text/plain": [
       "'Trump'"
      ]
     },
     "execution_count": 2,
     "metadata": {},
     "output_type": "execute_result"
    }
   ],
   "source": [
    "## Input Function\n",
    "input(\"Pls say what part of Donald Trump's body interests you most:\")"
   ]
  },
  {
   "cell_type": "markdown",
   "id": "597beb43",
   "metadata": {},
   "source": [
    "![trumps_hair](https://pbs.twimg.com/media/DaCYMz8WsAA_qi7?format=jpg&name=900x900)"
   ]
  },
  {
   "cell_type": "markdown",
   "id": "c4ea7e94",
   "metadata": {},
   "source": [
    "![Mar_a_lago](https://hips.hearstapps.com/toc.h-cdn.co/assets/16/30/2560x1280/landscape-1469476258-gettyimages-97212033-master.jpg)"
   ]
  },
  {
   "cell_type": "markdown",
   "id": "5b8937a7",
   "metadata": {},
   "source": [
    "## Top 3 things Trump loves doing on Mar a Lago <a class=\"anchor\" id=\"second-bullet\"></a>\n",
    "- <font color=green> Speak about his greatness\n",
    "- <font color=red> Speak about the greatness of his friends\n",
    "- <font color=blue> Speak about his love paying no taxes"
   ]
  },
  {
   "cell_type": "markdown",
   "id": "04774718",
   "metadata": {},
   "source": [
    "## Functions used for the above exercises:\n",
    "1. input()\n",
    "2. insert image ! + square brackets for the alt image + round brackets for the source link of the pic"
   ]
  },
  {
   "cell_type": "markdown",
   "id": "86679412",
   "metadata": {},
   "source": [
    "## Optional"
   ]
  },
  {
   "cell_type": "markdown",
   "id": "6a5f4213",
   "metadata": {},
   "source": [
    "## Trump's hair in motion <a class=\"anchor\" id=\"first-bullet\"></a>\n",
    "[![trumps_hair_in_motion](https://arc-anglerfish-arc2-prod-bostonglobe.s3.amazonaws.com/public/ORLEUBRZCII6RF3ACFYYET343Q.jpg)](https://www.youtube.com/watch?v=wI6hUiDLm2U&ab_channel=HaedenBeck) \"Donald Trump Hair Ultimate Compilation\""
   ]
  },
  {
   "cell_type": "code",
   "execution_count": 26,
   "id": "eab9f1a8",
   "metadata": {},
   "outputs": [
    {
     "ename": "SyntaxError",
     "evalue": "illegal target for annotation (3920452105.py, line 1)",
     "output_type": "error",
     "traceback": [
      "\u001b[0;36m  File \u001b[0;32m\"/var/folders/wq/2vxkh_6d4g7dpxkr5q82nxzh0000gn/T/ipykernel_10816/3920452105.py\"\u001b[0;36m, line \u001b[0;32m1\u001b[0m\n\u001b[0;31m    --reveal-prefix: jupyter nbconvert jupiter_intro.ipynb --to slides --reveal-prefix reveal.js --post serve\u001b[0m\n\u001b[0m    ^\u001b[0m\n\u001b[0;31mSyntaxError\u001b[0m\u001b[0;31m:\u001b[0m illegal target for annotation\n"
     ]
    }
   ],
   "source": []
  },
  {
   "cell_type": "code",
   "execution_count": 1,
   "id": "a3c4e435",
   "metadata": {},
   "outputs": [
    {
     "ename": "SyntaxError",
     "evalue": "invalid syntax (3672423059.py, line 1)",
     "output_type": "error",
     "traceback": [
      "\u001b[0;36m  File \u001b[0;32m\"/var/folders/wq/2vxkh_6d4g7dpxkr5q82nxzh0000gn/T/ipykernel_1996/3672423059.py\"\u001b[0;36m, line \u001b[0;32m1\u001b[0m\n\u001b[0;31m    jupyter nbconvert jupiter_intro.ipynb --to slides --post serve\u001b[0m\n\u001b[0m            ^\u001b[0m\n\u001b[0;31mSyntaxError\u001b[0m\u001b[0;31m:\u001b[0m invalid syntax\n"
     ]
    }
   ],
   "source": [
    "jupyter nbconvert jupiter_intro.ipynb --to slides --post serve"
   ]
  },
  {
   "cell_type": "code",
   "execution_count": null,
   "id": "33ac694d",
   "metadata": {},
   "outputs": [],
   "source": []
  }
 ],
 "metadata": {
  "kernelspec": {
   "display_name": "Python 3 (ipykernel)",
   "language": "python",
   "name": "python3"
  },
  "language_info": {
   "codemirror_mode": {
    "name": "ipython",
    "version": 3
   },
   "file_extension": ".py",
   "mimetype": "text/x-python",
   "name": "python",
   "nbconvert_exporter": "python",
   "pygments_lexer": "ipython3",
   "version": "3.9.13"
  }
 },
 "nbformat": 4,
 "nbformat_minor": 5
}
