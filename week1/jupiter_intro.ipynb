{
 "cells": [
  {
   "cell_type": "markdown",
   "id": "5031eacb",
   "metadata": {},
   "source": [
    "### Holidays notebook"
   ]
  },
  {
   "cell_type": "markdown",
   "id": "21265770",
   "metadata": {},
   "source": [
    "*this notebook is being born to share with you a little from the life of Donald Trump's hair*"
   ]
  },
  {
   "cell_type": "code",
   "execution_count": 1,
   "id": "899f4f07",
   "metadata": {},
   "outputs": [
    {
     "name": "stdout",
     "output_type": "stream",
     "text": [
      "Pls say what part of Donald Trup's interests you most:Hair\n"
     ]
    },
    {
     "data": {
      "text/plain": [
       "'Hair'"
      ]
     },
     "execution_count": 1,
     "metadata": {},
     "output_type": "execute_result"
    }
   ],
   "source": [
    "input(\"Pls say what part of Donald Trup's interests you most:\")"
   ]
  },
  {
   "cell_type": "markdown",
   "id": "0d600984",
   "metadata": {},
   "source": [
    "![trumps_hair](https://pbs.twimg.com/media/DaCYMz8WsAA_qi7?format=jpg&name=900x900)"
   ]
  },
  {
   "cell_type": "markdown",
   "id": "fb144f0f",
   "metadata": {},
   "source": [
    "![Mar_a_lago](https://hips.hearstapps.com/toc.h-cdn.co/assets/16/30/2560x1280/landscape-1469476258-gettyimages-97212033-master.jpg)"
   ]
  },
  {
   "cell_type": "markdown",
   "id": "d3ddeefb",
   "metadata": {},
   "source": [
    "## Top 3 things Trump loves doing on Mar a Lago\n",
    "- Speak about his greatness\n",
    "- Speak about the greatness of his friends\n",
    "- Speak about his love paying no taxes"
   ]
  },
  {
   "cell_type": "markdown",
   "id": "8fddd3e9",
   "metadata": {},
   "source": [
    "## Functions used for the above exercises:\n",
    "1. input()\n",
    "2. insert image ! + square brackets for the alt image + round brackets for the source link of the pic"
   ]
  },
  {
   "cell_type": "code",
   "execution_count": null,
   "id": "cf9ea87a",
   "metadata": {},
   "outputs": [],
   "source": []
  }
 ],
 "metadata": {
  "kernelspec": {
   "display_name": "Python 3 (ipykernel)",
   "language": "python",
   "name": "python3"
  },
  "language_info": {
   "codemirror_mode": {
    "name": "ipython",
    "version": 3
   },
   "file_extension": ".py",
   "mimetype": "text/x-python",
   "name": "python",
   "nbconvert_exporter": "python",
   "pygments_lexer": "ipython3",
   "version": "3.9.13"
  }
 },
 "nbformat": 4,
 "nbformat_minor": 5
}
