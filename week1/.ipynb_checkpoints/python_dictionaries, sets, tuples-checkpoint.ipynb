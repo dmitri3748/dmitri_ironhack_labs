{
 "cells": [
  {
   "cell_type": "markdown",
   "id": "9f193be8",
   "metadata": {},
   "source": [
    "# Dictionaries"
   ]
  },
  {
   "cell_type": "code",
   "execution_count": 30,
   "id": "45cdd985",
   "metadata": {},
   "outputs": [
    {
     "ename": "SyntaxError",
     "evalue": "invalid syntax (3975144725.py, line 3)",
     "output_type": "error",
     "traceback": [
      "\u001b[0;36m  File \u001b[0;32m\"/var/folders/wq/2vxkh_6d4g7dpxkr5q82nxzh0000gn/T/ipykernel_22823/3975144725.py\"\u001b[0;36m, line \u001b[0;32m3\u001b[0m\n\u001b[0;31m    keys = list(word_freq.keys())\u001b[0m\n\u001b[0m         ^\u001b[0m\n\u001b[0;31mSyntaxError\u001b[0m\u001b[0;31m:\u001b[0m invalid syntax\n"
     ]
    }
   ],
   "source": [
    "word_freq = {'love': 25, 'conversation': 1, 'every': 6, \"we're\": 1, 'plate': 1, 'sour': 1, 'jukebox': 1, 'now': 11, 'taxi': 1, 'fast': 1, 'bag': 1, 'man': 1, 'push': 3, 'baby': 14, 'going': 1, 'you': 16, \"don't\": 2, 'one': 1, 'mind': 2, 'backseat': 1, 'friends': 1, 'then': 3, 'know': 2, 'take': 1, 'play': 1, 'okay': 1, 'so': 2, 'begin': 1, 'start': 2, 'over': 1, 'body': 17, 'boy': 2, 'just': 1, 'we': 7, 'are': 1, 'girl': 2, 'tell': 1, 'singing': 2, 'drinking': 1, 'put': 3, 'our': 1, 'where': 1, \"i'll\": 1, 'all': 1, \"isn't\": 1, 'make': 1, 'lover': 1, 'get': 1, 'radio': 1, 'give': 1, \"i'm\": 23, 'like': 10, 'can': 1, 'doing': 2, 'with': 22, 'club': 1, 'come': 37, 'it': 1, 'somebody': 2, 'handmade': 2, 'out': 1, 'new': 6, 'room': 3, 'chance': 1, 'follow': 6, 'in': 27, 'may': 2, 'brand': 6, 'that': 2, 'magnet': 3, 'up': 3, 'first': 1, 'and': 23, 'pull': 3, 'of': 6, 'table': 1, 'much': 2, 'last': 3, 'i': 6, 'thrifty': 1, 'grab': 2, 'was': 2, 'driver': 1, 'slow': 1, 'dance': 1, 'the': 18, 'say': 2, 'trust': 1, 'family': 1, 'week': 1, 'date': 1, 'me': 10, 'do': 3, 'waist': 2, 'smell': 3, 'day': 6, 'although': 3, 'your': 21, 'leave': 1, 'want': 2, \"let's\": 2, 'lead': 6, 'at': 1, 'hand': 1, 'how': 1, 'talk': 4, 'not': 2, 'eat': 1, 'falling': 3, 'about': 1, 'story': 1, 'sweet': 1, 'best': 1, 'crazy': 2, 'let': 1, 'too': 5, 'van': 1, 'shots': 1, 'go': 2, 'to': 2, 'a': 8, 'my': 33, 'is': 5, 'place': 1, 'find': 1, 'shape': 6, 'on': 40, 'kiss': 1, 'were': 3, 'night': 3, 'heart': 3, 'for': 3, 'discovering': 6, 'something': 6, 'be': 16, 'bedsheets': 3, 'fill': 2, 'hours': 2, 'stop': 1, 'bar': \n",
    "# 1. extract and convert\n",
    "keys = list(word_freq.keys())\n",
    "\n",
    "# 2. sort the keys list\n",
    "keys.sort()\n",
    "\n",
    "# 3. create empty dictionary\n",
    "word_freq2 = {}\n",
    "\n",
    "# 4. Use a FOR loop to iterate each value in keys. For each key iterated, find the corresponding value in word_freq and insert the key-value pair to word_freq2.\n",
    "for key in keys:\n",
    "    word_freq2[key] = word_freq[key]\n",
    "\n",
    "print(word_freq2)"
   ]
  },
  {
   "cell_type": "markdown",
   "id": "a0afb94a",
   "metadata": {},
   "source": [
    "# Sets"
   ]
  },
  {
   "cell_type": "markdown",
   "id": "0933bc50",
   "metadata": {},
   "source": [
    "### Create a list named `sample_list_1` with 80 random values. "
   ]
  },
  {
   "cell_type": "code",
   "execution_count": 6,
   "id": "4d8b7f27",
   "metadata": {},
   "outputs": [
    {
     "name": "stdout",
     "output_type": "stream",
     "text": [
      "80 random numbers: [89, 7, 14, 68, 72, 95, 67, 66, 32, 71, 17, 62, 28, 33, 91, 69, 47, 8, 1, 22, 43, 4, 18, 97, 40, 96, 88, 26, 19, 83, 70, 64, 85, 65, 74, 77, 48, 94, 37, 41, 87, 59, 92, 13, 53, 23, 10, 11, 81, 73, 6, 42, 35, 3, 54, 56, 99, 49, 29, 21, 38, 24, 0, 51, 86, 15, 58, 39, 61, 2, 16, 63, 34, 46, 98, 93, 76, 45, 84, 30]\n"
     ]
    }
   ],
   "source": [
    "import random\n",
    "\n",
    "sample_list_1 = []\n",
    "\n",
    "sample_list_1.extend(random.sample(range(100), 80))\n",
    "\n",
    "print(\"80 random numbers:\", sample_list_1)"
   ]
  },
  {
   "cell_type": "markdown",
   "id": "a504fb02",
   "metadata": {},
   "source": [
    "### Convert sample_list_1 to a set called set1. Print the length of the set. Is its length still 80?"
   ]
  },
  {
   "cell_type": "code",
   "execution_count": 7,
   "id": "0f91c370",
   "metadata": {},
   "outputs": [
    {
     "name": "stdout",
     "output_type": "stream",
     "text": [
      "{0, 1, 2, 3, 4, 6, 7, 8, 10, 11, 13, 14, 15, 16, 17, 18, 19, 21, 22, 23, 24, 26, 28, 29, 30, 32, 33, 34, 35, 37, 38, 39, 40, 41, 42, 43, 45, 46, 47, 48, 49, 51, 53, 54, 56, 58, 59, 61, 62, 63, 64, 65, 66, 67, 68, 69, 70, 71, 72, 73, 74, 76, 77, 81, 83, 84, 85, 86, 87, 88, 89, 91, 92, 93, 94, 95, 96, 97, 98, 99}\n"
     ]
    }
   ],
   "source": [
    "set1 = set(sample_list_1)\n",
    "print(set1)"
   ]
  },
  {
   "cell_type": "markdown",
   "id": "bb21c88e",
   "metadata": {},
   "source": [
    "### Create another list named sample_list_2 with 80 random values.\n",
    "Requirements:\n",
    "- Each value is an integer falling between 0 and 100.\n",
    "- The values in the list don't have to be unique.\n",
    "- Hint: Use a FOR loop."
   ]
  },
  {
   "cell_type": "code",
   "execution_count": 14,
   "id": "0091dfa8",
   "metadata": {},
   "outputs": [
    {
     "name": "stdout",
     "output_type": "stream",
     "text": [
      "[82, 87, 75, 84, 84, 72, 90, 30, 51, 9, 5, 30, 85, 84, 24, 72, 15, 25, 3, 38, 85, 53, 3, 85, 41, 12, 21, 16, 71, 79, 21, 54, 70, 92, 19, 76, 77, 36, 88, 22, 83, 61, 100, 10, 99, 91, 57, 77, 50, 65, 25, 25, 65, 37, 60, 55, 45, 4, 54, 4, 60, 91, 6, 62, 80, 24, 89, 41, 86, 49, 97, 1, 2, 44, 36, 88, 97, 53, 98, 99]\n"
     ]
    }
   ],
   "source": [
    "sample_list_2 = []\n",
    "\n",
    "for i in range(80):\n",
    "    sample_list_2.append(random.randint(1,100))\n",
    "    \n",
    "print(sample_list_2)"
   ]
  },
  {
   "cell_type": "markdown",
   "id": "4415b45c",
   "metadata": {},
   "source": [
    "### Convert `sample_list_2` to a set called `set2`. Print the length of the set. Is its length still 80?"
   ]
  },
  {
   "cell_type": "code",
   "execution_count": 15,
   "id": "2d3ebe64",
   "metadata": {},
   "outputs": [
    {
     "data": {
      "text/plain": [
       "57"
      ]
     },
     "execution_count": 15,
     "metadata": {},
     "output_type": "execute_result"
    }
   ],
   "source": [
    "set2 = set(sample_list_2)\n",
    "len(set2) #nope, not the same as set kicked out the dublicates!"
   ]
  },
  {
   "cell_type": "markdown",
   "id": "b0c7cea9",
   "metadata": {},
   "source": [
    "### Identify the elements present in `set1` but not in `set2`. Assign the elements to a new set named `set3`."
   ]
  },
  {
   "cell_type": "code",
   "execution_count": 16,
   "id": "1645978b",
   "metadata": {},
   "outputs": [
    {
     "name": "stdout",
     "output_type": "stream",
     "text": [
      "{0, 7, 8, 11, 13, 14, 17, 18, 23, 26, 28, 29, 32, 33, 34, 35, 39, 40, 42, 43, 46, 47, 48, 56, 58, 59, 63, 64, 66, 67, 68, 69, 73, 74, 81, 93, 94, 95, 96}\n"
     ]
    }
   ],
   "source": [
    "set3 = set1 - set2\n",
    "print(set3)"
   ]
  },
  {
   "cell_type": "markdown",
   "id": "f5f3a359",
   "metadata": {},
   "source": [
    "### Identify the elements present in `set2` but not in `set1`. Assign the elements to a new set named `set4`."
   ]
  },
  {
   "cell_type": "code",
   "execution_count": 17,
   "id": "e9ea933c",
   "metadata": {},
   "outputs": [
    {
     "name": "stdout",
     "output_type": "stream",
     "text": [
      "{36, 5, 100, 9, 75, 12, 44, 79, 80, 50, 82, 55, 25, 90, 60, 57}\n"
     ]
    }
   ],
   "source": [
    "set4 = set2 - set1\n",
    "print(set4)"
   ]
  },
  {
   "cell_type": "markdown",
   "id": "7c63ec13",
   "metadata": {},
   "source": [
    "### Now Identify the elements shared between `set1` and `set2`. Assign the elements to a new set named `set5`."
   ]
  },
  {
   "cell_type": "code",
   "execution_count": 18,
   "id": "8e0ab37c",
   "metadata": {},
   "outputs": [
    {
     "name": "stdout",
     "output_type": "stream",
     "text": [
      "{1, 2, 3, 4, 6, 10, 15, 16, 19, 21, 22, 24, 30, 37, 38, 41, 45, 49, 51, 53, 54, 61, 62, 65, 70, 71, 72, 76, 77, 83, 84, 85, 86, 87, 88, 89, 91, 92, 97, 98, 99}\n"
     ]
    }
   ],
   "source": [
    "# set5 = set1 + set2 - set3 - set4\n",
    "\n",
    "set5 = set1.intersection(set2)\n",
    "print(set5)"
   ]
  },
  {
   "cell_type": "markdown",
   "id": "9e7f2401",
   "metadata": {},
   "source": [
    "### Create an empty set called `set6`."
   ]
  },
  {
   "cell_type": "code",
   "execution_count": 19,
   "id": "8f04315c",
   "metadata": {},
   "outputs": [],
   "source": [
    "set6 = set()"
   ]
  },
  {
   "cell_type": "markdown",
   "id": "190b8f40",
   "metadata": {},
   "source": [
    "### Add `set3` and `set5` to `set6` using the Python Set `update` method."
   ]
  },
  {
   "cell_type": "code",
   "execution_count": 20,
   "id": "207a0121",
   "metadata": {},
   "outputs": [
    {
     "name": "stdout",
     "output_type": "stream",
     "text": [
      "{0, 1, 2, 3, 4, 6, 7, 8, 10, 11, 13, 14, 15, 16, 17, 18, 19, 21, 22, 23, 24, 26, 28, 29, 30, 32, 33, 34, 35, 37, 38, 39, 40, 41, 42, 43, 45, 46, 47, 48, 49, 51, 53, 54, 56, 58, 59, 61, 62, 63, 64, 65, 66, 67, 68, 69, 70, 71, 72, 73, 74, 76, 77, 81, 83, 84, 85, 86, 87, 88, 89, 91, 92, 93, 94, 95, 96, 97, 98, 99}\n"
     ]
    }
   ],
   "source": [
    "set6.update(set3, set5)\n",
    "print(set6)"
   ]
  },
  {
   "cell_type": "markdown",
   "id": "dbdfd551",
   "metadata": {},
   "source": [
    "### Check if `set1` and `set6` are equal."
   ]
  },
  {
   "cell_type": "code",
   "execution_count": 21,
   "id": "4b291216",
   "metadata": {},
   "outputs": [
    {
     "name": "stdout",
     "output_type": "stream",
     "text": [
      "yes\n"
     ]
    }
   ],
   "source": [
    "if set1 == set6:\n",
    "    print(\"yes\")\n",
    "else:\n",
    "    print(\"No\")"
   ]
  },
  {
   "cell_type": "markdown",
   "id": "3c9e9162",
   "metadata": {},
   "source": [
    "### Check if `set1` contains `set2` using the Python Set `issubset` method. Then check if `set1` contains `set3`.*"
   ]
  },
  {
   "cell_type": "code",
   "execution_count": 28,
   "id": "7ecde607",
   "metadata": {},
   "outputs": [
    {
     "name": "stdout",
     "output_type": "stream",
     "text": [
      "It is\n"
     ]
    }
   ],
   "source": [
    "if set2.issubset(set1):\n",
    "    print('It is')\n",
    "\n",
    "\n",
    "    "
   ]
  },
  {
   "cell_type": "code",
   "execution_count": 29,
   "id": "17dfc566",
   "metadata": {},
   "outputs": [
    {
     "name": "stdout",
     "output_type": "stream",
     "text": [
      "It is\n"
     ]
    }
   ],
   "source": [
    "if set3.issubset(set1):\n",
    "    print('It is')"
   ]
  },
  {
   "cell_type": "markdown",
   "id": "946cf4f8",
   "metadata": {},
   "source": [
    "#### Using the Python Set `union` method, aggregate `set3`, `set4`, and `set5`. Then aggregate `set1` and `set2`. \n"
   ]
  },
  {
   "cell_type": "code",
   "execution_count": null,
   "id": "fbde2f77",
   "metadata": {},
   "outputs": [],
   "source": []
  }
 ],
 "metadata": {
  "kernelspec": {
   "display_name": "Python 3 (ipykernel)",
   "language": "python",
   "name": "python3"
  },
  "language_info": {
   "codemirror_mode": {
    "name": "ipython",
    "version": 3
   },
   "file_extension": ".py",
   "mimetype": "text/x-python",
   "name": "python",
   "nbconvert_exporter": "python",
   "pygments_lexer": "ipython3",
   "version": "3.9.13"
  }
 },
 "nbformat": 4,
 "nbformat_minor": 5
}
