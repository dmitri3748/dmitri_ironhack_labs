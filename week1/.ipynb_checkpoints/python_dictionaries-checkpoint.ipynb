{
 "cells": [
  {
   "cell_type": "code",
   "execution_count": null,
   "id": "566cdb1f",
   "metadata": {},
   "outputs": [],
   "source": [
    "# 1. extract and convert\n",
    "keys = list(word_freq.keys())\n",
    "\n",
    "# 2. sort the keys list\n",
    "keys.sort()\n",
    "\n",
    "# 3. create empty dictionary\n",
    "word_freq2 = {}\n",
    "\n",
    "# 4. Use a FOR loop to iterate each value in keys. For each key iterated, find the corresponding value in word_freq and insert the key-value pair to word_freq2.\n",
    "for key in keys:\n",
    "    word_freq2[key] = word_freq[key]\n",
    "\n",
    "print(word_freq2)"
   ]
  }
 ],
 "metadata": {
  "kernelspec": {
   "display_name": "Python 3 (ipykernel)",
   "language": "python",
   "name": "python3"
  },
  "language_info": {
   "codemirror_mode": {
    "name": "ipython",
    "version": 3
   },
   "file_extension": ".py",
   "mimetype": "text/x-python",
   "name": "python",
   "nbconvert_exporter": "python",
   "pygments_lexer": "ipython3",
   "version": "3.9.13"
  }
 },
 "nbformat": 4,
 "nbformat_minor": 5
}
