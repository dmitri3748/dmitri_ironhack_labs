{
 "cells": [
  {
   "cell_type": "code",
   "execution_count": null,
   "id": "b93df4cb",
   "metadata": {},
   "outputs": [],
   "source": [
    "str_list = ['I', 'am', 'strengthening', 'my', 'programming', 'skills', 'in', 'order', 'to', 'become', 'a', 'great', 'Data','Analyst']\n",
    "joined = ', '.join(str_list)\n",
    "print(joined)\n",
    "\n",
    "no_comma = joined.replace(',', '')\n",
    "print(no_comma)\n",
    "\n",
    "with_dot = no_comma + '.'\n",
    "print(with_dot)\n",
    "\n",
    "\n"
   ]
  }
 ],
 "metadata": {
  "kernelspec": {
   "display_name": "Python 3 (ipykernel)",
   "language": "python",
   "name": "python3"
  },
  "language_info": {
   "codemirror_mode": {
    "name": "ipython",
    "version": 3
   },
   "file_extension": ".py",
   "mimetype": "text/x-python",
   "name": "python",
   "nbconvert_exporter": "python",
   "pygments_lexer": "ipython3",
   "version": "3.9.13"
  }
 },
 "nbformat": 4,
 "nbformat_minor": 5
}
