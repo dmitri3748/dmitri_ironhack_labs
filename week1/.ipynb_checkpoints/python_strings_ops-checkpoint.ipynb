{
 "cells": [
  {
   "cell_type": "code",
   "execution_count": null,
   "id": "b93df4cb",
   "metadata": {},
   "outputs": [],
   "source": [
    "str_list = ['I', 'am', 'strengthening', 'my', 'programming', 'skills', 'in', 'order', 'to', 'become', 'a', 'great', 'Data','Analyst']\n",
    "joined = ', '.join(str_list)\n",
    "print(joined)\n",
    "\n",
    "no_comma = joined.replace(',', '')\n",
    "print(no_comma)\n",
    "\n",
    "with_dot = no_comma + '.'\n",
    "print(with_dot)\n"
   ]
  },
  {
   "cell_type": "code",
   "execution_count": 14,
   "id": "2d0ab145",
   "metadata": {},
   "outputs": [
    {
     "name": "stdout",
     "output_type": "stream",
     "text": [
      "Grocery list:  bananas , bread , brownie mix , broccoli.\n"
     ]
    }
   ],
   "source": [
    "food_list = ['Bananas', 'Chocolate', 'bread', 'diapers', 'Ice Cream', 'Brownie Mix', 'broccoli']\n",
    "#1. lower\n",
    "food_list_lowered = []\n",
    "for ingredient in food_list:\n",
    "    food_list_lowered.append(ingredient.lower())\n",
    "    \n",
    "#2. create a list that starts with Grocery list\n",
    "food_list_2 = []\n",
    "\n",
    "for i in food_list_lowered:\n",
    "    if i.startswith('b'):\n",
    "        food_list_2.append(i)\n",
    "        \n",
    "grocery_string = \" , \".join(food_list_2)\n",
    "\n",
    "grocery_string_with_dot = grocery_string + '.'\n",
    "\n",
    "print('Grocery list: ', grocery_string_with_dot)"
   ]
  },
  {
   "cell_type": "code",
   "execution_count": 16,
   "id": "e415f649",
   "metadata": {},
   "outputs": [
    {
     "name": "stdout",
     "output_type": "stream",
     "text": [
      "The area of the circle with radius: 4.5 is: 64.\n"
     ]
    }
   ],
   "source": [
    "import math\n",
    "\n",
    "string1 = \"The area of the circle with radius:\"\n",
    "string2  = \"is:\"\n",
    "radius = 4.5\n",
    "pi = math.pi\n",
    "area= pi*radius**2\n",
    "\n",
    "import math\n",
    "\n",
    "string1 = \"The area of the circle with radius:\"\n",
    "string2  = \"is:\"\n",
    "radius = 4.5\n",
    "pi = math.pi\n",
    "area= pi*radius**2\n",
    "# Your code here:\n",
    "\n",
    "area_str = str(round(area))\n",
    "rad_str = str(radius)\n",
    "\n",
    "string3 = string1 + \" \" + rad_str + \" \"  + string2 + \" \" + area_str + \".\"\n",
    "print(string3)\n",
    "\n"
   ]
  },
  {
   "cell_type": "code",
   "execution_count": null,
   "id": "83cf3cad",
   "metadata": {},
   "outputs": [],
   "source": []
  }
 ],
 "metadata": {
  "kernelspec": {
   "display_name": "Python 3 (ipykernel)",
   "language": "python",
   "name": "python3"
  },
  "language_info": {
   "codemirror_mode": {
    "name": "ipython",
    "version": 3
   },
   "file_extension": ".py",
   "mimetype": "text/x-python",
   "name": "python",
   "nbconvert_exporter": "python",
   "pygments_lexer": "ipython3",
   "version": "3.9.13"
  }
 },
 "nbformat": 4,
 "nbformat_minor": 5
}
