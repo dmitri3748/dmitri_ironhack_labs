{
 "cells": [
  {
   "cell_type": "code",
   "execution_count": 1,
   "id": "ef14b3be",
   "metadata": {},
   "outputs": [],
   "source": [
    "import statistics as stats\n",
    "import pandas as pd\n",
    "import numpy as np"
   ]
  },
  {
   "cell_type": "markdown",
   "id": "bfbf690b",
   "metadata": {},
   "source": [
    "# Read file"
   ]
  },
  {
   "cell_type": "code",
   "execution_count": 2,
   "id": "79f09998",
   "metadata": {},
   "outputs": [],
   "source": [
    "df1= pd.read_csv(\"file1.csv\")\n",
    "df2= pd.read_csv(\"file2.csv\")\n",
    "df3= pd.read_csv(\"file3.csv\")"
   ]
  },
  {
   "cell_type": "code",
   "execution_count": 3,
   "id": "4ef8c609",
   "metadata": {},
   "outputs": [],
   "source": [
    "# 1. rename\n",
    "def rename_columns(x):\n",
    "    x.rename(columns={'Customer':'customer',\\\n",
    "                        'ST':'state',\n",
    "                          'State':'state',\n",
    "                          'GENDER':'gender',\n",
    "                      'Gender':'gender',\n",
    "                        \"Education\":\"education\", \n",
    "                          \"Customer Lifetime Value\":\"clv\",\n",
    "                        \"Income\": \"income\",\n",
    "                          \"Monthly Premium Auto\":\"monthly_premium\",\n",
    "                        'Number of Open Complaints':'complaints',\n",
    "                          'Policy Type':'policy_type',\n",
    "                        \"Vehicle Class\":\"vehicle_class\", \n",
    "                          \"Total Claim Amount\":\"total_claim\"}, inplace=True )\n",
    "    return x"
   ]
  },
  {
   "cell_type": "code",
   "execution_count": 4,
   "id": "dcb35235",
   "metadata": {},
   "outputs": [],
   "source": [
    "df1 = rename_columns(df1)\n",
    "df2 = rename_columns(df2)\n",
    "df3 = rename_columns(df3)"
   ]
  },
  {
   "cell_type": "code",
   "execution_count": 5,
   "id": "35198fba",
   "metadata": {},
   "outputs": [],
   "source": [
    "# sort\n",
    "def sort_columns(x):\n",
    "    x = x.reindex(columns=['customer', 'state', 'gender', 'education', 'income', 'vehicle_class', 'monthly_premium', 'policy_type', 'complaints', 'total_claim', 'clv'])\n",
    "    return x"
   ]
  },
  {
   "cell_type": "code",
   "execution_count": 6,
   "id": "86d67093",
   "metadata": {},
   "outputs": [],
   "source": [
    "df1 = sort_columns(df1)\n",
    "df2 = sort_columns(df2)\n",
    "df3 = sort_columns(df3)"
   ]
  },
  {
   "cell_type": "code",
   "execution_count": 7,
   "id": "4fa729c3",
   "metadata": {},
   "outputs": [],
   "source": [
    "# concatinating\n",
    "df = pd.concat([df1, df2, df3])"
   ]
  },
  {
   "cell_type": "code",
   "execution_count": 8,
   "id": "a5aa65c0",
   "metadata": {},
   "outputs": [
    {
     "data": {
      "text/html": [
       "<div>\n",
       "<style scoped>\n",
       "    .dataframe tbody tr th:only-of-type {\n",
       "        vertical-align: middle;\n",
       "    }\n",
       "\n",
       "    .dataframe tbody tr th {\n",
       "        vertical-align: top;\n",
       "    }\n",
       "\n",
       "    .dataframe thead th {\n",
       "        text-align: right;\n",
       "    }\n",
       "</style>\n",
       "<table border=\"1\" class=\"dataframe\">\n",
       "  <thead>\n",
       "    <tr style=\"text-align: right;\">\n",
       "      <th></th>\n",
       "      <th>customer</th>\n",
       "      <th>state</th>\n",
       "      <th>gender</th>\n",
       "      <th>education</th>\n",
       "      <th>income</th>\n",
       "      <th>vehicle_class</th>\n",
       "      <th>monthly_premium</th>\n",
       "      <th>policy_type</th>\n",
       "      <th>complaints</th>\n",
       "      <th>total_claim</th>\n",
       "      <th>clv</th>\n",
       "    </tr>\n",
       "  </thead>\n",
       "  <tbody>\n",
       "    <tr>\n",
       "      <th>0</th>\n",
       "      <td>RB50392</td>\n",
       "      <td>Washington</td>\n",
       "      <td>NaN</td>\n",
       "      <td>Master</td>\n",
       "      <td>0.0</td>\n",
       "      <td>Four-Door Car</td>\n",
       "      <td>1000.0</td>\n",
       "      <td>Personal Auto</td>\n",
       "      <td>1/0/00</td>\n",
       "      <td>2.704934</td>\n",
       "      <td>NaN</td>\n",
       "    </tr>\n",
       "    <tr>\n",
       "      <th>1</th>\n",
       "      <td>QZ44356</td>\n",
       "      <td>Arizona</td>\n",
       "      <td>F</td>\n",
       "      <td>Bachelor</td>\n",
       "      <td>0.0</td>\n",
       "      <td>Four-Door Car</td>\n",
       "      <td>94.0</td>\n",
       "      <td>Personal Auto</td>\n",
       "      <td>1/0/00</td>\n",
       "      <td>1131.464935</td>\n",
       "      <td>697953.59%</td>\n",
       "    </tr>\n",
       "    <tr>\n",
       "      <th>2</th>\n",
       "      <td>AI49188</td>\n",
       "      <td>Nevada</td>\n",
       "      <td>F</td>\n",
       "      <td>Bachelor</td>\n",
       "      <td>48767.0</td>\n",
       "      <td>Two-Door Car</td>\n",
       "      <td>108.0</td>\n",
       "      <td>Personal Auto</td>\n",
       "      <td>1/0/00</td>\n",
       "      <td>566.472247</td>\n",
       "      <td>1288743.17%</td>\n",
       "    </tr>\n",
       "    <tr>\n",
       "      <th>3</th>\n",
       "      <td>WW63253</td>\n",
       "      <td>California</td>\n",
       "      <td>M</td>\n",
       "      <td>Bachelor</td>\n",
       "      <td>0.0</td>\n",
       "      <td>SUV</td>\n",
       "      <td>106.0</td>\n",
       "      <td>Corporate Auto</td>\n",
       "      <td>1/0/00</td>\n",
       "      <td>529.881344</td>\n",
       "      <td>764586.18%</td>\n",
       "    </tr>\n",
       "    <tr>\n",
       "      <th>4</th>\n",
       "      <td>GA49547</td>\n",
       "      <td>Washington</td>\n",
       "      <td>M</td>\n",
       "      <td>High School or Below</td>\n",
       "      <td>36357.0</td>\n",
       "      <td>Four-Door Car</td>\n",
       "      <td>68.0</td>\n",
       "      <td>Personal Auto</td>\n",
       "      <td>1/0/00</td>\n",
       "      <td>17.269323</td>\n",
       "      <td>536307.65%</td>\n",
       "    </tr>\n",
       "    <tr>\n",
       "      <th>...</th>\n",
       "      <td>...</td>\n",
       "      <td>...</td>\n",
       "      <td>...</td>\n",
       "      <td>...</td>\n",
       "      <td>...</td>\n",
       "      <td>...</td>\n",
       "      <td>...</td>\n",
       "      <td>...</td>\n",
       "      <td>...</td>\n",
       "      <td>...</td>\n",
       "      <td>...</td>\n",
       "    </tr>\n",
       "    <tr>\n",
       "      <th>7065</th>\n",
       "      <td>LA72316</td>\n",
       "      <td>California</td>\n",
       "      <td>M</td>\n",
       "      <td>Bachelor</td>\n",
       "      <td>71941.0</td>\n",
       "      <td>Four-Door Car</td>\n",
       "      <td>73.0</td>\n",
       "      <td>Personal Auto</td>\n",
       "      <td>0</td>\n",
       "      <td>198.234764</td>\n",
       "      <td>23405.98798</td>\n",
       "    </tr>\n",
       "    <tr>\n",
       "      <th>7066</th>\n",
       "      <td>PK87824</td>\n",
       "      <td>California</td>\n",
       "      <td>F</td>\n",
       "      <td>College</td>\n",
       "      <td>21604.0</td>\n",
       "      <td>Four-Door Car</td>\n",
       "      <td>79.0</td>\n",
       "      <td>Corporate Auto</td>\n",
       "      <td>0</td>\n",
       "      <td>379.200000</td>\n",
       "      <td>3096.511217</td>\n",
       "    </tr>\n",
       "    <tr>\n",
       "      <th>7067</th>\n",
       "      <td>TD14365</td>\n",
       "      <td>California</td>\n",
       "      <td>M</td>\n",
       "      <td>Bachelor</td>\n",
       "      <td>0.0</td>\n",
       "      <td>Four-Door Car</td>\n",
       "      <td>85.0</td>\n",
       "      <td>Corporate Auto</td>\n",
       "      <td>3</td>\n",
       "      <td>790.784983</td>\n",
       "      <td>8163.890428</td>\n",
       "    </tr>\n",
       "    <tr>\n",
       "      <th>7068</th>\n",
       "      <td>UP19263</td>\n",
       "      <td>California</td>\n",
       "      <td>M</td>\n",
       "      <td>College</td>\n",
       "      <td>21941.0</td>\n",
       "      <td>Four-Door Car</td>\n",
       "      <td>96.0</td>\n",
       "      <td>Personal Auto</td>\n",
       "      <td>0</td>\n",
       "      <td>691.200000</td>\n",
       "      <td>7524.442436</td>\n",
       "    </tr>\n",
       "    <tr>\n",
       "      <th>7069</th>\n",
       "      <td>Y167826</td>\n",
       "      <td>California</td>\n",
       "      <td>M</td>\n",
       "      <td>College</td>\n",
       "      <td>0.0</td>\n",
       "      <td>Two-Door Car</td>\n",
       "      <td>77.0</td>\n",
       "      <td>Corporate Auto</td>\n",
       "      <td>0</td>\n",
       "      <td>369.600000</td>\n",
       "      <td>2611.836866</td>\n",
       "    </tr>\n",
       "  </tbody>\n",
       "</table>\n",
       "<p>12074 rows × 11 columns</p>\n",
       "</div>"
      ],
      "text/plain": [
       "     customer       state gender             education   income  \\\n",
       "0     RB50392  Washington    NaN                Master      0.0   \n",
       "1     QZ44356     Arizona      F              Bachelor      0.0   \n",
       "2     AI49188      Nevada      F              Bachelor  48767.0   \n",
       "3     WW63253  California      M              Bachelor      0.0   \n",
       "4     GA49547  Washington      M  High School or Below  36357.0   \n",
       "...       ...         ...    ...                   ...      ...   \n",
       "7065  LA72316  California      M              Bachelor  71941.0   \n",
       "7066  PK87824  California      F               College  21604.0   \n",
       "7067  TD14365  California      M              Bachelor      0.0   \n",
       "7068  UP19263  California      M               College  21941.0   \n",
       "7069  Y167826  California      M               College      0.0   \n",
       "\n",
       "      vehicle_class  monthly_premium     policy_type complaints  total_claim  \\\n",
       "0     Four-Door Car           1000.0   Personal Auto     1/0/00     2.704934   \n",
       "1     Four-Door Car             94.0   Personal Auto     1/0/00  1131.464935   \n",
       "2      Two-Door Car            108.0   Personal Auto     1/0/00   566.472247   \n",
       "3               SUV            106.0  Corporate Auto     1/0/00   529.881344   \n",
       "4     Four-Door Car             68.0   Personal Auto     1/0/00    17.269323   \n",
       "...             ...              ...             ...        ...          ...   \n",
       "7065  Four-Door Car             73.0   Personal Auto          0   198.234764   \n",
       "7066  Four-Door Car             79.0  Corporate Auto          0   379.200000   \n",
       "7067  Four-Door Car             85.0  Corporate Auto          3   790.784983   \n",
       "7068  Four-Door Car             96.0   Personal Auto          0   691.200000   \n",
       "7069   Two-Door Car             77.0  Corporate Auto          0   369.600000   \n",
       "\n",
       "              clv  \n",
       "0             NaN  \n",
       "1      697953.59%  \n",
       "2     1288743.17%  \n",
       "3      764586.18%  \n",
       "4      536307.65%  \n",
       "...           ...  \n",
       "7065  23405.98798  \n",
       "7066  3096.511217  \n",
       "7067  8163.890428  \n",
       "7068  7524.442436  \n",
       "7069  2611.836866  \n",
       "\n",
       "[12074 rows x 11 columns]"
      ]
     },
     "execution_count": 8,
     "metadata": {},
     "output_type": "execute_result"
    }
   ],
   "source": [
    "df"
   ]
  },
  {
   "cell_type": "markdown",
   "id": "561e6b1b",
   "metadata": {},
   "source": [
    "# Drop customers"
   ]
  },
  {
   "cell_type": "code",
   "execution_count": 9,
   "id": "24488d00",
   "metadata": {},
   "outputs": [],
   "source": [
    "# drop customers\n",
    "df = df.drop(['customer'], axis=1)"
   ]
  },
  {
   "cell_type": "markdown",
   "id": "17ea0df4",
   "metadata": {},
   "source": [
    "# Drop Duplicates"
   ]
  },
  {
   "cell_type": "code",
   "execution_count": 10,
   "id": "20953a03",
   "metadata": {},
   "outputs": [],
   "source": [
    "# duplicates\n",
    "df = df.drop_duplicates()\n",
    "\n",
    "# 9135 rows"
   ]
  },
  {
   "cell_type": "code",
   "execution_count": 11,
   "id": "b9dd15be",
   "metadata": {},
   "outputs": [
    {
     "data": {
      "text/plain": [
       "state               object\n",
       "gender              object\n",
       "education           object\n",
       "income             float64\n",
       "vehicle_class       object\n",
       "monthly_premium    float64\n",
       "policy_type         object\n",
       "complaints          object\n",
       "total_claim        float64\n",
       "clv                 object\n",
       "dtype: object"
      ]
     },
     "execution_count": 11,
     "metadata": {},
     "output_type": "execute_result"
    }
   ],
   "source": [
    "df.dtypes\n",
    "# gender should be only two possible strings\n",
    "# complaints should be integer\n",
    "# clv should be float and without percentage"
   ]
  },
  {
   "cell_type": "markdown",
   "id": "09610807",
   "metadata": {},
   "source": [
    "## Gender"
   ]
  },
  {
   "cell_type": "code",
   "execution_count": 12,
   "id": "92350693",
   "metadata": {},
   "outputs": [],
   "source": [
    "# as example\n",
    "# hk_df['median_home_val'] =  pd.to_numeric(hk_df['median_home_val'], errors='coerce')"
   ]
  },
  {
   "cell_type": "code",
   "execution_count": 68,
   "id": "7662ec2c",
   "metadata": {},
   "outputs": [
    {
     "data": {
      "text/plain": [
       "True"
      ]
     },
     "execution_count": 68,
     "metadata": {},
     "output_type": "execute_result"
    }
   ],
   "source": [
    "# are there null values?\n",
    "df['gender'].isnull().values.any()\n",
    "# yes"
   ]
  },
  {
   "cell_type": "code",
   "execution_count": 69,
   "id": "6294340d",
   "metadata": {},
   "outputs": [
    {
     "data": {
      "text/plain": [
       "120"
      ]
     },
     "execution_count": 69,
     "metadata": {},
     "output_type": "execute_result"
    }
   ],
   "source": [
    "# how many null values are there?\n",
    "df['gender'].isnull().sum()"
   ]
  },
  {
   "cell_type": "code",
   "execution_count": 72,
   "id": "43b1c1bf",
   "metadata": {},
   "outputs": [
    {
     "data": {
      "text/plain": [
       "F         4433\n",
       "M         4234\n",
       "Male        40\n",
       "female      30\n",
       "Femal       17\n",
       "Name: gender, dtype: int64"
      ]
     },
     "execution_count": 72,
     "metadata": {},
     "output_type": "execute_result"
    }
   ],
   "source": [
    "# how many are females and males are?\n",
    "df['gender'].value_counts()"
   ]
  },
  {
   "cell_type": "code",
   "execution_count": 71,
   "id": "8b69529a",
   "metadata": {},
   "outputs": [
    {
     "data": {
      "text/plain": [
       "array(['F', 'M', nan, 'Femal', 'Male', 'female'], dtype=object)"
      ]
     },
     "execution_count": 71,
     "metadata": {},
     "output_type": "execute_result"
    }
   ],
   "source": [
    "df['gender'].unique()"
   ]
  },
  {
   "cell_type": "code",
   "execution_count": 77,
   "id": "ba4b2675",
   "metadata": {
    "scrolled": true
   },
   "outputs": [],
   "source": [
    "def clean_gender(x):\n",
    "    if x in ['M', 'Male']:\n",
    "        return 0\n",
    "    elif x in ['F', 'female',\"Femal\"]:\n",
    "        return 1\n",
    "    else:\n",
    "        return x"
   ]
  },
  {
   "cell_type": "code",
   "execution_count": 78,
   "id": "2c4cd906",
   "metadata": {},
   "outputs": [],
   "source": [
    "df['gender'] = list(map(clean_gender, df['gender']))"
   ]
  },
  {
   "cell_type": "code",
   "execution_count": 80,
   "id": "4623b19e",
   "metadata": {},
   "outputs": [
    {
     "data": {
      "text/plain": [
       "120"
      ]
     },
     "execution_count": 80,
     "metadata": {},
     "output_type": "execute_result"
    }
   ],
   "source": [
    "df.gender.isnull().sum()"
   ]
  },
  {
   "cell_type": "code",
   "execution_count": 81,
   "id": "4aae92d7",
   "metadata": {},
   "outputs": [],
   "source": [
    "df = df.dropna(subset=['gender'])"
   ]
  },
  {
   "cell_type": "code",
   "execution_count": 82,
   "id": "6063de1f",
   "metadata": {},
   "outputs": [
    {
     "data": {
      "text/plain": [
       "0"
      ]
     },
     "execution_count": 82,
     "metadata": {},
     "output_type": "execute_result"
    }
   ],
   "source": [
    "df.gender.isnull().sum()"
   ]
  },
  {
   "cell_type": "code",
   "execution_count": 85,
   "id": "5b2e17fc",
   "metadata": {},
   "outputs": [
    {
     "name": "stderr",
     "output_type": "stream",
     "text": [
      "/var/folders/wq/2vxkh_6d4g7dpxkr5q82nxzh0000gn/T/ipykernel_31119/628451891.py:1: SettingWithCopyWarning: \n",
      "A value is trying to be set on a copy of a slice from a DataFrame.\n",
      "Try using .loc[row_indexer,col_indexer] = value instead\n",
      "\n",
      "See the caveats in the documentation: https://pandas.pydata.org/pandas-docs/stable/user_guide/indexing.html#returning-a-view-versus-a-copy\n",
      "  df['gender'] = df['gender'].astype(int)\n"
     ]
    }
   ],
   "source": [
    "df['gender'] = df['gender'].astype(int)"
   ]
  },
  {
   "cell_type": "code",
   "execution_count": 86,
   "id": "2a249a17",
   "metadata": {},
   "outputs": [
    {
     "data": {
      "text/html": [
       "<div>\n",
       "<style scoped>\n",
       "    .dataframe tbody tr th:only-of-type {\n",
       "        vertical-align: middle;\n",
       "    }\n",
       "\n",
       "    .dataframe tbody tr th {\n",
       "        vertical-align: top;\n",
       "    }\n",
       "\n",
       "    .dataframe thead th {\n",
       "        text-align: right;\n",
       "    }\n",
       "</style>\n",
       "<table border=\"1\" class=\"dataframe\">\n",
       "  <thead>\n",
       "    <tr style=\"text-align: right;\">\n",
       "      <th></th>\n",
       "      <th>index</th>\n",
       "      <th>state</th>\n",
       "      <th>gender</th>\n",
       "      <th>education</th>\n",
       "      <th>income</th>\n",
       "      <th>vehicle_class</th>\n",
       "      <th>monthly_premium</th>\n",
       "      <th>policy_type</th>\n",
       "      <th>complaints</th>\n",
       "      <th>total_claim</th>\n",
       "      <th>clv</th>\n",
       "    </tr>\n",
       "  </thead>\n",
       "  <tbody>\n",
       "    <tr>\n",
       "      <th>0</th>\n",
       "      <td>1</td>\n",
       "      <td>Arizona</td>\n",
       "      <td>1</td>\n",
       "      <td>Bachelor</td>\n",
       "      <td>0.0</td>\n",
       "      <td>Four-Door Car</td>\n",
       "      <td>94.0</td>\n",
       "      <td>Personal Auto</td>\n",
       "      <td>0</td>\n",
       "      <td>1131.464935</td>\n",
       "      <td>697954</td>\n",
       "    </tr>\n",
       "    <tr>\n",
       "      <th>1</th>\n",
       "      <td>2</td>\n",
       "      <td>Nevada</td>\n",
       "      <td>1</td>\n",
       "      <td>Bachelor</td>\n",
       "      <td>48767.0</td>\n",
       "      <td>Two-Door Car</td>\n",
       "      <td>108.0</td>\n",
       "      <td>Personal Auto</td>\n",
       "      <td>0</td>\n",
       "      <td>566.472247</td>\n",
       "      <td>1288743</td>\n",
       "    </tr>\n",
       "    <tr>\n",
       "      <th>2</th>\n",
       "      <td>3</td>\n",
       "      <td>California</td>\n",
       "      <td>0</td>\n",
       "      <td>Bachelor</td>\n",
       "      <td>0.0</td>\n",
       "      <td>SUV</td>\n",
       "      <td>106.0</td>\n",
       "      <td>Corporate Auto</td>\n",
       "      <td>0</td>\n",
       "      <td>529.881344</td>\n",
       "      <td>764586</td>\n",
       "    </tr>\n",
       "    <tr>\n",
       "      <th>3</th>\n",
       "      <td>4</td>\n",
       "      <td>Washington</td>\n",
       "      <td>0</td>\n",
       "      <td>High School or Below</td>\n",
       "      <td>36357.0</td>\n",
       "      <td>Four-Door Car</td>\n",
       "      <td>68.0</td>\n",
       "      <td>Personal Auto</td>\n",
       "      <td>0</td>\n",
       "      <td>17.269323</td>\n",
       "      <td>536308</td>\n",
       "    </tr>\n",
       "    <tr>\n",
       "      <th>4</th>\n",
       "      <td>5</td>\n",
       "      <td>Oregon</td>\n",
       "      <td>1</td>\n",
       "      <td>Bachelor</td>\n",
       "      <td>62902.0</td>\n",
       "      <td>Two-Door Car</td>\n",
       "      <td>69.0</td>\n",
       "      <td>Personal Auto</td>\n",
       "      <td>0</td>\n",
       "      <td>159.383042</td>\n",
       "      <td>825630</td>\n",
       "    </tr>\n",
       "    <tr>\n",
       "      <th>...</th>\n",
       "      <td>...</td>\n",
       "      <td>...</td>\n",
       "      <td>...</td>\n",
       "      <td>...</td>\n",
       "      <td>...</td>\n",
       "      <td>...</td>\n",
       "      <td>...</td>\n",
       "      <td>...</td>\n",
       "      <td>...</td>\n",
       "      <td>...</td>\n",
       "      <td>...</td>\n",
       "    </tr>\n",
       "    <tr>\n",
       "      <th>8869</th>\n",
       "      <td>7065</td>\n",
       "      <td>California</td>\n",
       "      <td>0</td>\n",
       "      <td>Bachelor</td>\n",
       "      <td>71941.0</td>\n",
       "      <td>Four-Door Car</td>\n",
       "      <td>73.0</td>\n",
       "      <td>Personal Auto</td>\n",
       "      <td>0</td>\n",
       "      <td>198.234764</td>\n",
       "      <td>23406</td>\n",
       "    </tr>\n",
       "    <tr>\n",
       "      <th>8870</th>\n",
       "      <td>7066</td>\n",
       "      <td>California</td>\n",
       "      <td>1</td>\n",
       "      <td>College</td>\n",
       "      <td>21604.0</td>\n",
       "      <td>Four-Door Car</td>\n",
       "      <td>79.0</td>\n",
       "      <td>Corporate Auto</td>\n",
       "      <td>0</td>\n",
       "      <td>379.200000</td>\n",
       "      <td>3097</td>\n",
       "    </tr>\n",
       "    <tr>\n",
       "      <th>8871</th>\n",
       "      <td>7067</td>\n",
       "      <td>California</td>\n",
       "      <td>0</td>\n",
       "      <td>Bachelor</td>\n",
       "      <td>0.0</td>\n",
       "      <td>Four-Door Car</td>\n",
       "      <td>85.0</td>\n",
       "      <td>Corporate Auto</td>\n",
       "      <td>3</td>\n",
       "      <td>790.784983</td>\n",
       "      <td>8164</td>\n",
       "    </tr>\n",
       "    <tr>\n",
       "      <th>8872</th>\n",
       "      <td>7068</td>\n",
       "      <td>California</td>\n",
       "      <td>0</td>\n",
       "      <td>College</td>\n",
       "      <td>21941.0</td>\n",
       "      <td>Four-Door Car</td>\n",
       "      <td>96.0</td>\n",
       "      <td>Personal Auto</td>\n",
       "      <td>0</td>\n",
       "      <td>691.200000</td>\n",
       "      <td>7524</td>\n",
       "    </tr>\n",
       "    <tr>\n",
       "      <th>8873</th>\n",
       "      <td>7069</td>\n",
       "      <td>California</td>\n",
       "      <td>0</td>\n",
       "      <td>College</td>\n",
       "      <td>0.0</td>\n",
       "      <td>Two-Door Car</td>\n",
       "      <td>77.0</td>\n",
       "      <td>Corporate Auto</td>\n",
       "      <td>0</td>\n",
       "      <td>369.600000</td>\n",
       "      <td>2612</td>\n",
       "    </tr>\n",
       "  </tbody>\n",
       "</table>\n",
       "<p>8754 rows × 11 columns</p>\n",
       "</div>"
      ],
      "text/plain": [
       "      index       state  gender             education   income  vehicle_class  \\\n",
       "0         1     Arizona       1              Bachelor      0.0  Four-Door Car   \n",
       "1         2      Nevada       1              Bachelor  48767.0   Two-Door Car   \n",
       "2         3  California       0              Bachelor      0.0            SUV   \n",
       "3         4  Washington       0  High School or Below  36357.0  Four-Door Car   \n",
       "4         5      Oregon       1              Bachelor  62902.0   Two-Door Car   \n",
       "...     ...         ...     ...                   ...      ...            ...   \n",
       "8869   7065  California       0              Bachelor  71941.0  Four-Door Car   \n",
       "8870   7066  California       1               College  21604.0  Four-Door Car   \n",
       "8871   7067  California       0              Bachelor      0.0  Four-Door Car   \n",
       "8872   7068  California       0               College  21941.0  Four-Door Car   \n",
       "8873   7069  California       0               College      0.0   Two-Door Car   \n",
       "\n",
       "      monthly_premium     policy_type complaints  total_claim      clv  \n",
       "0                94.0   Personal Auto          0  1131.464935   697954  \n",
       "1               108.0   Personal Auto          0   566.472247  1288743  \n",
       "2               106.0  Corporate Auto          0   529.881344   764586  \n",
       "3                68.0   Personal Auto          0    17.269323   536308  \n",
       "4                69.0   Personal Auto          0   159.383042   825630  \n",
       "...               ...             ...        ...          ...      ...  \n",
       "8869             73.0   Personal Auto          0   198.234764    23406  \n",
       "8870             79.0  Corporate Auto          0   379.200000     3097  \n",
       "8871             85.0  Corporate Auto          3   790.784983     8164  \n",
       "8872             96.0   Personal Auto          0   691.200000     7524  \n",
       "8873             77.0  Corporate Auto          0   369.600000     2612  \n",
       "\n",
       "[8754 rows x 11 columns]"
      ]
     },
     "execution_count": 86,
     "metadata": {},
     "output_type": "execute_result"
    }
   ],
   "source": [
    "df"
   ]
  },
  {
   "cell_type": "code",
   "execution_count": 17,
   "id": "3bd74d4b",
   "metadata": {},
   "outputs": [
    {
     "name": "stdout",
     "output_type": "stream",
     "text": [
      "51.2\n",
      "48.8\n"
     ]
    }
   ],
   "source": [
    "f = 4435 + 30 + 17\n",
    "m = 4237 + 40\n",
    "t = f + m\n",
    "print(round(f/t * 100, 1))\n",
    "print(round(m/t * 100, 1))\n",
    "\n",
    "# 51.2% female\n",
    "# 48.2% male"
   ]
  },
  {
   "cell_type": "code",
   "execution_count": 73,
   "id": "fa2bf4d0",
   "metadata": {},
   "outputs": [],
   "source": [
    "# meaning that 123 should be divided accordingly\n",
    "f1 = (120 * 0.512)\n",
    "m1 = (120 * 0.488)"
   ]
  },
  {
   "cell_type": "code",
   "execution_count": 74,
   "id": "38e387cc",
   "metadata": {},
   "outputs": [
    {
     "data": {
      "text/plain": [
       "61"
      ]
     },
     "execution_count": 74,
     "metadata": {},
     "output_type": "execute_result"
    }
   ],
   "source": [
    "f1 = round(f1)\n",
    "f1"
   ]
  },
  {
   "cell_type": "code",
   "execution_count": 75,
   "id": "d00b75e7",
   "metadata": {},
   "outputs": [
    {
     "data": {
      "text/plain": [
       "59"
      ]
     },
     "execution_count": 75,
     "metadata": {},
     "output_type": "execute_result"
    }
   ],
   "source": [
    "m1 = round(m1)\n",
    "m1"
   ]
  },
  {
   "cell_type": "code",
   "execution_count": 21,
   "id": "e494b879",
   "metadata": {},
   "outputs": [],
   "source": [
    "# df['gender'] = \n",
    "# how to make an if statement here to make a boolean\n",
    "\n",
    "# lambda would be great here with an if \n",
    "\n",
    "# lambda x : 0 if type(x) == str elif\n",
    "\n",
    "# x\n",
    "\n",
    "\n",
    "\n",
    "# if NaN: 63 should be female, 60 should be male"
   ]
  },
  {
   "cell_type": "markdown",
   "id": "f2cce370",
   "metadata": {},
   "source": [
    "## Fix CLV"
   ]
  },
  {
   "cell_type": "code",
   "execution_count": 22,
   "id": "26c1aed8",
   "metadata": {},
   "outputs": [],
   "source": [
    "# remove the percentage\n",
    "df.loc[:, 'clv'] = df['clv'].apply(lambda x: str(x).replace('%', ''))"
   ]
  },
  {
   "cell_type": "code",
   "execution_count": 23,
   "id": "a9faa664",
   "metadata": {},
   "outputs": [],
   "source": [
    "df['clv'] = df.clv.astype(float).round()"
   ]
  },
  {
   "cell_type": "code",
   "execution_count": 24,
   "id": "fed27f06",
   "metadata": {},
   "outputs": [
    {
     "data": {
      "text/plain": [
       "8"
      ]
     },
     "execution_count": 24,
     "metadata": {},
     "output_type": "execute_result"
    }
   ],
   "source": [
    "df['clv'].isnull().sum()"
   ]
  },
  {
   "cell_type": "code",
   "execution_count": 25,
   "id": "e60f8c0d",
   "metadata": {},
   "outputs": [],
   "source": [
    "df = df.dropna(subset=['clv'])"
   ]
  },
  {
   "cell_type": "code",
   "execution_count": 26,
   "id": "4972f9fe",
   "metadata": {},
   "outputs": [
    {
     "data": {
      "text/plain": [
       "0"
      ]
     },
     "execution_count": 26,
     "metadata": {},
     "output_type": "execute_result"
    }
   ],
   "source": [
    "df['clv'].isnull().sum()"
   ]
  },
  {
   "cell_type": "code",
   "execution_count": 29,
   "id": "f53e416c",
   "metadata": {},
   "outputs": [],
   "source": [
    "df['clv'] = df['clv'].astype(int)"
   ]
  },
  {
   "cell_type": "code",
   "execution_count": 52,
   "id": "3adbe733",
   "metadata": {},
   "outputs": [],
   "source": [
    "df = df.reset_index()"
   ]
  },
  {
   "cell_type": "code",
   "execution_count": 53,
   "id": "b5daafa4",
   "metadata": {},
   "outputs": [
    {
     "data": {
      "text/html": [
       "<div>\n",
       "<style scoped>\n",
       "    .dataframe tbody tr th:only-of-type {\n",
       "        vertical-align: middle;\n",
       "    }\n",
       "\n",
       "    .dataframe tbody tr th {\n",
       "        vertical-align: top;\n",
       "    }\n",
       "\n",
       "    .dataframe thead th {\n",
       "        text-align: right;\n",
       "    }\n",
       "</style>\n",
       "<table border=\"1\" class=\"dataframe\">\n",
       "  <thead>\n",
       "    <tr style=\"text-align: right;\">\n",
       "      <th></th>\n",
       "      <th>index</th>\n",
       "      <th>state</th>\n",
       "      <th>gender</th>\n",
       "      <th>education</th>\n",
       "      <th>income</th>\n",
       "      <th>vehicle_class</th>\n",
       "      <th>monthly_premium</th>\n",
       "      <th>policy_type</th>\n",
       "      <th>complaints</th>\n",
       "      <th>total_claim</th>\n",
       "      <th>clv</th>\n",
       "    </tr>\n",
       "  </thead>\n",
       "  <tbody>\n",
       "    <tr>\n",
       "      <th>0</th>\n",
       "      <td>1</td>\n",
       "      <td>Arizona</td>\n",
       "      <td>F</td>\n",
       "      <td>Bachelor</td>\n",
       "      <td>0.0</td>\n",
       "      <td>Four-Door Car</td>\n",
       "      <td>94.0</td>\n",
       "      <td>Personal Auto</td>\n",
       "      <td>1/0/00</td>\n",
       "      <td>1131.464935</td>\n",
       "      <td>697954</td>\n",
       "    </tr>\n",
       "    <tr>\n",
       "      <th>1</th>\n",
       "      <td>2</td>\n",
       "      <td>Nevada</td>\n",
       "      <td>F</td>\n",
       "      <td>Bachelor</td>\n",
       "      <td>48767.0</td>\n",
       "      <td>Two-Door Car</td>\n",
       "      <td>108.0</td>\n",
       "      <td>Personal Auto</td>\n",
       "      <td>1/0/00</td>\n",
       "      <td>566.472247</td>\n",
       "      <td>1288743</td>\n",
       "    </tr>\n",
       "    <tr>\n",
       "      <th>2</th>\n",
       "      <td>3</td>\n",
       "      <td>California</td>\n",
       "      <td>M</td>\n",
       "      <td>Bachelor</td>\n",
       "      <td>0.0</td>\n",
       "      <td>SUV</td>\n",
       "      <td>106.0</td>\n",
       "      <td>Corporate Auto</td>\n",
       "      <td>1/0/00</td>\n",
       "      <td>529.881344</td>\n",
       "      <td>764586</td>\n",
       "    </tr>\n",
       "    <tr>\n",
       "      <th>3</th>\n",
       "      <td>4</td>\n",
       "      <td>Washington</td>\n",
       "      <td>M</td>\n",
       "      <td>High School or Below</td>\n",
       "      <td>36357.0</td>\n",
       "      <td>Four-Door Car</td>\n",
       "      <td>68.0</td>\n",
       "      <td>Personal Auto</td>\n",
       "      <td>1/0/00</td>\n",
       "      <td>17.269323</td>\n",
       "      <td>536308</td>\n",
       "    </tr>\n",
       "    <tr>\n",
       "      <th>4</th>\n",
       "      <td>5</td>\n",
       "      <td>Oregon</td>\n",
       "      <td>F</td>\n",
       "      <td>Bachelor</td>\n",
       "      <td>62902.0</td>\n",
       "      <td>Two-Door Car</td>\n",
       "      <td>69.0</td>\n",
       "      <td>Personal Auto</td>\n",
       "      <td>1/0/00</td>\n",
       "      <td>159.383042</td>\n",
       "      <td>825630</td>\n",
       "    </tr>\n",
       "    <tr>\n",
       "      <th>...</th>\n",
       "      <td>...</td>\n",
       "      <td>...</td>\n",
       "      <td>...</td>\n",
       "      <td>...</td>\n",
       "      <td>...</td>\n",
       "      <td>...</td>\n",
       "      <td>...</td>\n",
       "      <td>...</td>\n",
       "      <td>...</td>\n",
       "      <td>...</td>\n",
       "      <td>...</td>\n",
       "    </tr>\n",
       "    <tr>\n",
       "      <th>8869</th>\n",
       "      <td>7065</td>\n",
       "      <td>California</td>\n",
       "      <td>M</td>\n",
       "      <td>Bachelor</td>\n",
       "      <td>71941.0</td>\n",
       "      <td>Four-Door Car</td>\n",
       "      <td>73.0</td>\n",
       "      <td>Personal Auto</td>\n",
       "      <td>0</td>\n",
       "      <td>198.234764</td>\n",
       "      <td>23406</td>\n",
       "    </tr>\n",
       "    <tr>\n",
       "      <th>8870</th>\n",
       "      <td>7066</td>\n",
       "      <td>California</td>\n",
       "      <td>F</td>\n",
       "      <td>College</td>\n",
       "      <td>21604.0</td>\n",
       "      <td>Four-Door Car</td>\n",
       "      <td>79.0</td>\n",
       "      <td>Corporate Auto</td>\n",
       "      <td>0</td>\n",
       "      <td>379.200000</td>\n",
       "      <td>3097</td>\n",
       "    </tr>\n",
       "    <tr>\n",
       "      <th>8871</th>\n",
       "      <td>7067</td>\n",
       "      <td>California</td>\n",
       "      <td>M</td>\n",
       "      <td>Bachelor</td>\n",
       "      <td>0.0</td>\n",
       "      <td>Four-Door Car</td>\n",
       "      <td>85.0</td>\n",
       "      <td>Corporate Auto</td>\n",
       "      <td>3</td>\n",
       "      <td>790.784983</td>\n",
       "      <td>8164</td>\n",
       "    </tr>\n",
       "    <tr>\n",
       "      <th>8872</th>\n",
       "      <td>7068</td>\n",
       "      <td>California</td>\n",
       "      <td>M</td>\n",
       "      <td>College</td>\n",
       "      <td>21941.0</td>\n",
       "      <td>Four-Door Car</td>\n",
       "      <td>96.0</td>\n",
       "      <td>Personal Auto</td>\n",
       "      <td>0</td>\n",
       "      <td>691.200000</td>\n",
       "      <td>7524</td>\n",
       "    </tr>\n",
       "    <tr>\n",
       "      <th>8873</th>\n",
       "      <td>7069</td>\n",
       "      <td>California</td>\n",
       "      <td>M</td>\n",
       "      <td>College</td>\n",
       "      <td>0.0</td>\n",
       "      <td>Two-Door Car</td>\n",
       "      <td>77.0</td>\n",
       "      <td>Corporate Auto</td>\n",
       "      <td>0</td>\n",
       "      <td>369.600000</td>\n",
       "      <td>2612</td>\n",
       "    </tr>\n",
       "  </tbody>\n",
       "</table>\n",
       "<p>8874 rows × 11 columns</p>\n",
       "</div>"
      ],
      "text/plain": [
       "      index       state gender             education   income  vehicle_class  \\\n",
       "0         1     Arizona      F              Bachelor      0.0  Four-Door Car   \n",
       "1         2      Nevada      F              Bachelor  48767.0   Two-Door Car   \n",
       "2         3  California      M              Bachelor      0.0            SUV   \n",
       "3         4  Washington      M  High School or Below  36357.0  Four-Door Car   \n",
       "4         5      Oregon      F              Bachelor  62902.0   Two-Door Car   \n",
       "...     ...         ...    ...                   ...      ...            ...   \n",
       "8869   7065  California      M              Bachelor  71941.0  Four-Door Car   \n",
       "8870   7066  California      F               College  21604.0  Four-Door Car   \n",
       "8871   7067  California      M              Bachelor      0.0  Four-Door Car   \n",
       "8872   7068  California      M               College  21941.0  Four-Door Car   \n",
       "8873   7069  California      M               College      0.0   Two-Door Car   \n",
       "\n",
       "      monthly_premium     policy_type complaints  total_claim      clv  \n",
       "0                94.0   Personal Auto     1/0/00  1131.464935   697954  \n",
       "1               108.0   Personal Auto     1/0/00   566.472247  1288743  \n",
       "2               106.0  Corporate Auto     1/0/00   529.881344   764586  \n",
       "3                68.0   Personal Auto     1/0/00    17.269323   536308  \n",
       "4                69.0   Personal Auto     1/0/00   159.383042   825630  \n",
       "...               ...             ...        ...          ...      ...  \n",
       "8869             73.0   Personal Auto          0   198.234764    23406  \n",
       "8870             79.0  Corporate Auto          0   379.200000     3097  \n",
       "8871             85.0  Corporate Auto          3   790.784983     8164  \n",
       "8872             96.0   Personal Auto          0   691.200000     7524  \n",
       "8873             77.0  Corporate Auto          0   369.600000     2612  \n",
       "\n",
       "[8874 rows x 11 columns]"
      ]
     },
     "execution_count": 53,
     "metadata": {},
     "output_type": "execute_result"
    }
   ],
   "source": [
    "df"
   ]
  },
  {
   "cell_type": "code",
   "execution_count": null,
   "id": "4bca70f9",
   "metadata": {},
   "outputs": [],
   "source": [
    "# df['clv'] = df['clv'].apply(np.int64)"
   ]
  },
  {
   "cell_type": "markdown",
   "id": "395bdb18",
   "metadata": {},
   "source": [
    "## Fix Complaints"
   ]
  },
  {
   "cell_type": "code",
   "execution_count": 31,
   "id": "3d77c33b",
   "metadata": {},
   "outputs": [
    {
     "data": {
      "text/plain": [
       "0"
      ]
     },
     "execution_count": 31,
     "metadata": {},
     "output_type": "execute_result"
    }
   ],
   "source": [
    "df['complaints'].isnull().sum()"
   ]
  },
  {
   "cell_type": "code",
   "execution_count": 34,
   "id": "250c3096",
   "metadata": {},
   "outputs": [
    {
     "data": {
      "text/plain": [
       "0         5421\n",
       "1/0/00    1613\n",
       "1          749\n",
       "2          279\n",
       "1/1/00     243\n",
       "3          221\n",
       "4          114\n",
       "1/2/00      93\n",
       "1/3/00      58\n",
       "5           43\n",
       "1/4/00      28\n",
       "1/5/00      12\n",
       "Name: complaints, dtype: int64"
      ]
     },
     "execution_count": 34,
     "metadata": {},
     "output_type": "execute_result"
    }
   ],
   "source": [
    "df['complaints'].value_counts()"
   ]
  },
  {
   "cell_type": "code",
   "execution_count": 36,
   "id": "7f0ec8cb",
   "metadata": {
    "collapsed": true
   },
   "outputs": [
    {
     "data": {
      "text/plain": [
       "state               object\n",
       "gender              object\n",
       "education           object\n",
       "income             float64\n",
       "vehicle_class       object\n",
       "monthly_premium    float64\n",
       "policy_type         object\n",
       "complaints          object\n",
       "total_claim        float64\n",
       "clv                  int64\n",
       "dtype: object"
      ]
     },
     "execution_count": 36,
     "metadata": {},
     "output_type": "execute_result"
    }
   ],
   "source": [
    "df.dtypes"
   ]
  },
  {
   "cell_type": "code",
   "execution_count": 39,
   "id": "2b6b73f4",
   "metadata": {
    "collapsed": true
   },
   "outputs": [
    {
     "name": "stdout",
     "output_type": "stream",
     "text": [
      "<class 'pandas.core.series.Series'>\n",
      "Int64Index: 8874 entries, 1 to 7069\n",
      "Series name: complaints\n",
      "Non-Null Count  Dtype \n",
      "--------------  ----- \n",
      "8874 non-null   object\n",
      "dtypes: object(1)\n",
      "memory usage: 138.7+ KB\n"
     ]
    }
   ],
   "source": [
    "df.complaints.info()"
   ]
  },
  {
   "cell_type": "code",
   "execution_count": null,
   "id": "352db8be",
   "metadata": {},
   "outputs": [],
   "source": [
    "# we want to find strings and store the middle value as int\n",
    "#for i in len(df):\n",
    "    # if i is a string, take the 2nd character of this string and assign this character as integer to the element\n",
    "    # how to store such a thing\n",
    "    # \n",
    "    #df"
   ]
  },
  {
   "cell_type": "code",
   "execution_count": 50,
   "id": "1467cbff",
   "metadata": {
    "collapsed": true
   },
   "outputs": [
    {
     "data": {
      "text/plain": [
       "10    1/0/00\n",
       "10    1/1/00\n",
       "10         0\n",
       "Name: complaints, dtype: object"
      ]
     },
     "execution_count": 50,
     "metadata": {},
     "output_type": "execute_result"
    }
   ],
   "source": [
    "# df['complaints'][10]"
   ]
  },
  {
   "cell_type": "code",
   "execution_count": 62,
   "id": "f0bd6fac",
   "metadata": {
    "collapsed": true
   },
   "outputs": [
    {
     "data": {
      "text/html": [
       "<div>\n",
       "<style scoped>\n",
       "    .dataframe tbody tr th:only-of-type {\n",
       "        vertical-align: middle;\n",
       "    }\n",
       "\n",
       "    .dataframe tbody tr th {\n",
       "        vertical-align: top;\n",
       "    }\n",
       "\n",
       "    .dataframe thead th {\n",
       "        text-align: right;\n",
       "    }\n",
       "</style>\n",
       "<table border=\"1\" class=\"dataframe\">\n",
       "  <thead>\n",
       "    <tr style=\"text-align: right;\">\n",
       "      <th></th>\n",
       "      <th>state</th>\n",
       "      <th>gender</th>\n",
       "      <th>education</th>\n",
       "      <th>vehicle_class</th>\n",
       "      <th>policy_type</th>\n",
       "      <th>complaints</th>\n",
       "    </tr>\n",
       "  </thead>\n",
       "  <tbody>\n",
       "    <tr>\n",
       "      <th>0</th>\n",
       "      <td>Arizona</td>\n",
       "      <td>F</td>\n",
       "      <td>Bachelor</td>\n",
       "      <td>Four-Door Car</td>\n",
       "      <td>Personal Auto</td>\n",
       "      <td>0</td>\n",
       "    </tr>\n",
       "    <tr>\n",
       "      <th>1</th>\n",
       "      <td>Nevada</td>\n",
       "      <td>F</td>\n",
       "      <td>Bachelor</td>\n",
       "      <td>Two-Door Car</td>\n",
       "      <td>Personal Auto</td>\n",
       "      <td>0</td>\n",
       "    </tr>\n",
       "    <tr>\n",
       "      <th>2</th>\n",
       "      <td>California</td>\n",
       "      <td>M</td>\n",
       "      <td>Bachelor</td>\n",
       "      <td>SUV</td>\n",
       "      <td>Corporate Auto</td>\n",
       "      <td>0</td>\n",
       "    </tr>\n",
       "    <tr>\n",
       "      <th>3</th>\n",
       "      <td>Washington</td>\n",
       "      <td>M</td>\n",
       "      <td>High School or Below</td>\n",
       "      <td>Four-Door Car</td>\n",
       "      <td>Personal Auto</td>\n",
       "      <td>0</td>\n",
       "    </tr>\n",
       "    <tr>\n",
       "      <th>4</th>\n",
       "      <td>Oregon</td>\n",
       "      <td>F</td>\n",
       "      <td>Bachelor</td>\n",
       "      <td>Two-Door Car</td>\n",
       "      <td>Personal Auto</td>\n",
       "      <td>0</td>\n",
       "    </tr>\n",
       "    <tr>\n",
       "      <th>...</th>\n",
       "      <td>...</td>\n",
       "      <td>...</td>\n",
       "      <td>...</td>\n",
       "      <td>...</td>\n",
       "      <td>...</td>\n",
       "      <td>...</td>\n",
       "    </tr>\n",
       "    <tr>\n",
       "      <th>8869</th>\n",
       "      <td>California</td>\n",
       "      <td>M</td>\n",
       "      <td>Bachelor</td>\n",
       "      <td>Four-Door Car</td>\n",
       "      <td>Personal Auto</td>\n",
       "      <td>0</td>\n",
       "    </tr>\n",
       "    <tr>\n",
       "      <th>8870</th>\n",
       "      <td>California</td>\n",
       "      <td>F</td>\n",
       "      <td>College</td>\n",
       "      <td>Four-Door Car</td>\n",
       "      <td>Corporate Auto</td>\n",
       "      <td>0</td>\n",
       "    </tr>\n",
       "    <tr>\n",
       "      <th>8871</th>\n",
       "      <td>California</td>\n",
       "      <td>M</td>\n",
       "      <td>Bachelor</td>\n",
       "      <td>Four-Door Car</td>\n",
       "      <td>Corporate Auto</td>\n",
       "      <td>3</td>\n",
       "    </tr>\n",
       "    <tr>\n",
       "      <th>8872</th>\n",
       "      <td>California</td>\n",
       "      <td>M</td>\n",
       "      <td>College</td>\n",
       "      <td>Four-Door Car</td>\n",
       "      <td>Personal Auto</td>\n",
       "      <td>0</td>\n",
       "    </tr>\n",
       "    <tr>\n",
       "      <th>8873</th>\n",
       "      <td>California</td>\n",
       "      <td>M</td>\n",
       "      <td>College</td>\n",
       "      <td>Two-Door Car</td>\n",
       "      <td>Corporate Auto</td>\n",
       "      <td>0</td>\n",
       "    </tr>\n",
       "  </tbody>\n",
       "</table>\n",
       "<p>8874 rows × 6 columns</p>\n",
       "</div>"
      ],
      "text/plain": [
       "           state gender             education  vehicle_class     policy_type  \\\n",
       "0        Arizona      F              Bachelor  Four-Door Car   Personal Auto   \n",
       "1         Nevada      F              Bachelor   Two-Door Car   Personal Auto   \n",
       "2     California      M              Bachelor            SUV  Corporate Auto   \n",
       "3     Washington      M  High School or Below  Four-Door Car   Personal Auto   \n",
       "4         Oregon      F              Bachelor   Two-Door Car   Personal Auto   \n",
       "...          ...    ...                   ...            ...             ...   \n",
       "8869  California      M              Bachelor  Four-Door Car   Personal Auto   \n",
       "8870  California      F               College  Four-Door Car  Corporate Auto   \n",
       "8871  California      M              Bachelor  Four-Door Car  Corporate Auto   \n",
       "8872  California      M               College  Four-Door Car   Personal Auto   \n",
       "8873  California      M               College   Two-Door Car  Corporate Auto   \n",
       "\n",
       "     complaints  \n",
       "0             0  \n",
       "1             0  \n",
       "2             0  \n",
       "3             0  \n",
       "4             0  \n",
       "...         ...  \n",
       "8869          0  \n",
       "8870          0  \n",
       "8871          3  \n",
       "8872          0  \n",
       "8873          0  \n",
       "\n",
       "[8874 rows x 6 columns]"
      ]
     },
     "execution_count": 62,
     "metadata": {},
     "output_type": "execute_result"
    }
   ],
   "source": [
    "# nice little thing to know\n",
    "df.select_dtypes('object')"
   ]
  },
  {
   "cell_type": "code",
   "execution_count": 66,
   "id": "b2626614",
   "metadata": {},
   "outputs": [],
   "source": [
    "df['complaints'] = df['complaints'].apply(lambda x: str(x.split('/')[1]) if '/' in str(x) else x)"
   ]
  },
  {
   "cell_type": "code",
   "execution_count": 67,
   "id": "30c52190",
   "metadata": {},
   "outputs": [
    {
     "data": {
      "text/html": [
       "<div>\n",
       "<style scoped>\n",
       "    .dataframe tbody tr th:only-of-type {\n",
       "        vertical-align: middle;\n",
       "    }\n",
       "\n",
       "    .dataframe tbody tr th {\n",
       "        vertical-align: top;\n",
       "    }\n",
       "\n",
       "    .dataframe thead th {\n",
       "        text-align: right;\n",
       "    }\n",
       "</style>\n",
       "<table border=\"1\" class=\"dataframe\">\n",
       "  <thead>\n",
       "    <tr style=\"text-align: right;\">\n",
       "      <th></th>\n",
       "      <th>index</th>\n",
       "      <th>state</th>\n",
       "      <th>gender</th>\n",
       "      <th>education</th>\n",
       "      <th>income</th>\n",
       "      <th>vehicle_class</th>\n",
       "      <th>monthly_premium</th>\n",
       "      <th>policy_type</th>\n",
       "      <th>complaints</th>\n",
       "      <th>total_claim</th>\n",
       "      <th>clv</th>\n",
       "    </tr>\n",
       "  </thead>\n",
       "  <tbody>\n",
       "    <tr>\n",
       "      <th>0</th>\n",
       "      <td>1</td>\n",
       "      <td>Arizona</td>\n",
       "      <td>F</td>\n",
       "      <td>Bachelor</td>\n",
       "      <td>0.0</td>\n",
       "      <td>Four-Door Car</td>\n",
       "      <td>94.0</td>\n",
       "      <td>Personal Auto</td>\n",
       "      <td>0</td>\n",
       "      <td>1131.464935</td>\n",
       "      <td>697954</td>\n",
       "    </tr>\n",
       "    <tr>\n",
       "      <th>1</th>\n",
       "      <td>2</td>\n",
       "      <td>Nevada</td>\n",
       "      <td>F</td>\n",
       "      <td>Bachelor</td>\n",
       "      <td>48767.0</td>\n",
       "      <td>Two-Door Car</td>\n",
       "      <td>108.0</td>\n",
       "      <td>Personal Auto</td>\n",
       "      <td>0</td>\n",
       "      <td>566.472247</td>\n",
       "      <td>1288743</td>\n",
       "    </tr>\n",
       "    <tr>\n",
       "      <th>2</th>\n",
       "      <td>3</td>\n",
       "      <td>California</td>\n",
       "      <td>M</td>\n",
       "      <td>Bachelor</td>\n",
       "      <td>0.0</td>\n",
       "      <td>SUV</td>\n",
       "      <td>106.0</td>\n",
       "      <td>Corporate Auto</td>\n",
       "      <td>0</td>\n",
       "      <td>529.881344</td>\n",
       "      <td>764586</td>\n",
       "    </tr>\n",
       "    <tr>\n",
       "      <th>3</th>\n",
       "      <td>4</td>\n",
       "      <td>Washington</td>\n",
       "      <td>M</td>\n",
       "      <td>High School or Below</td>\n",
       "      <td>36357.0</td>\n",
       "      <td>Four-Door Car</td>\n",
       "      <td>68.0</td>\n",
       "      <td>Personal Auto</td>\n",
       "      <td>0</td>\n",
       "      <td>17.269323</td>\n",
       "      <td>536308</td>\n",
       "    </tr>\n",
       "    <tr>\n",
       "      <th>4</th>\n",
       "      <td>5</td>\n",
       "      <td>Oregon</td>\n",
       "      <td>F</td>\n",
       "      <td>Bachelor</td>\n",
       "      <td>62902.0</td>\n",
       "      <td>Two-Door Car</td>\n",
       "      <td>69.0</td>\n",
       "      <td>Personal Auto</td>\n",
       "      <td>0</td>\n",
       "      <td>159.383042</td>\n",
       "      <td>825630</td>\n",
       "    </tr>\n",
       "    <tr>\n",
       "      <th>...</th>\n",
       "      <td>...</td>\n",
       "      <td>...</td>\n",
       "      <td>...</td>\n",
       "      <td>...</td>\n",
       "      <td>...</td>\n",
       "      <td>...</td>\n",
       "      <td>...</td>\n",
       "      <td>...</td>\n",
       "      <td>...</td>\n",
       "      <td>...</td>\n",
       "      <td>...</td>\n",
       "    </tr>\n",
       "    <tr>\n",
       "      <th>8869</th>\n",
       "      <td>7065</td>\n",
       "      <td>California</td>\n",
       "      <td>M</td>\n",
       "      <td>Bachelor</td>\n",
       "      <td>71941.0</td>\n",
       "      <td>Four-Door Car</td>\n",
       "      <td>73.0</td>\n",
       "      <td>Personal Auto</td>\n",
       "      <td>0</td>\n",
       "      <td>198.234764</td>\n",
       "      <td>23406</td>\n",
       "    </tr>\n",
       "    <tr>\n",
       "      <th>8870</th>\n",
       "      <td>7066</td>\n",
       "      <td>California</td>\n",
       "      <td>F</td>\n",
       "      <td>College</td>\n",
       "      <td>21604.0</td>\n",
       "      <td>Four-Door Car</td>\n",
       "      <td>79.0</td>\n",
       "      <td>Corporate Auto</td>\n",
       "      <td>0</td>\n",
       "      <td>379.200000</td>\n",
       "      <td>3097</td>\n",
       "    </tr>\n",
       "    <tr>\n",
       "      <th>8871</th>\n",
       "      <td>7067</td>\n",
       "      <td>California</td>\n",
       "      <td>M</td>\n",
       "      <td>Bachelor</td>\n",
       "      <td>0.0</td>\n",
       "      <td>Four-Door Car</td>\n",
       "      <td>85.0</td>\n",
       "      <td>Corporate Auto</td>\n",
       "      <td>3</td>\n",
       "      <td>790.784983</td>\n",
       "      <td>8164</td>\n",
       "    </tr>\n",
       "    <tr>\n",
       "      <th>8872</th>\n",
       "      <td>7068</td>\n",
       "      <td>California</td>\n",
       "      <td>M</td>\n",
       "      <td>College</td>\n",
       "      <td>21941.0</td>\n",
       "      <td>Four-Door Car</td>\n",
       "      <td>96.0</td>\n",
       "      <td>Personal Auto</td>\n",
       "      <td>0</td>\n",
       "      <td>691.200000</td>\n",
       "      <td>7524</td>\n",
       "    </tr>\n",
       "    <tr>\n",
       "      <th>8873</th>\n",
       "      <td>7069</td>\n",
       "      <td>California</td>\n",
       "      <td>M</td>\n",
       "      <td>College</td>\n",
       "      <td>0.0</td>\n",
       "      <td>Two-Door Car</td>\n",
       "      <td>77.0</td>\n",
       "      <td>Corporate Auto</td>\n",
       "      <td>0</td>\n",
       "      <td>369.600000</td>\n",
       "      <td>2612</td>\n",
       "    </tr>\n",
       "  </tbody>\n",
       "</table>\n",
       "<p>8874 rows × 11 columns</p>\n",
       "</div>"
      ],
      "text/plain": [
       "      index       state gender             education   income  vehicle_class  \\\n",
       "0         1     Arizona      F              Bachelor      0.0  Four-Door Car   \n",
       "1         2      Nevada      F              Bachelor  48767.0   Two-Door Car   \n",
       "2         3  California      M              Bachelor      0.0            SUV   \n",
       "3         4  Washington      M  High School or Below  36357.0  Four-Door Car   \n",
       "4         5      Oregon      F              Bachelor  62902.0   Two-Door Car   \n",
       "...     ...         ...    ...                   ...      ...            ...   \n",
       "8869   7065  California      M              Bachelor  71941.0  Four-Door Car   \n",
       "8870   7066  California      F               College  21604.0  Four-Door Car   \n",
       "8871   7067  California      M              Bachelor      0.0  Four-Door Car   \n",
       "8872   7068  California      M               College  21941.0  Four-Door Car   \n",
       "8873   7069  California      M               College      0.0   Two-Door Car   \n",
       "\n",
       "      monthly_premium     policy_type complaints  total_claim      clv  \n",
       "0                94.0   Personal Auto          0  1131.464935   697954  \n",
       "1               108.0   Personal Auto          0   566.472247  1288743  \n",
       "2               106.0  Corporate Auto          0   529.881344   764586  \n",
       "3                68.0   Personal Auto          0    17.269323   536308  \n",
       "4                69.0   Personal Auto          0   159.383042   825630  \n",
       "...               ...             ...        ...          ...      ...  \n",
       "8869             73.0   Personal Auto          0   198.234764    23406  \n",
       "8870             79.0  Corporate Auto          0   379.200000     3097  \n",
       "8871             85.0  Corporate Auto          3   790.784983     8164  \n",
       "8872             96.0   Personal Auto          0   691.200000     7524  \n",
       "8873             77.0  Corporate Auto          0   369.600000     2612  \n",
       "\n",
       "[8874 rows x 11 columns]"
      ]
     },
     "execution_count": 67,
     "metadata": {},
     "output_type": "execute_result"
    }
   ],
   "source": [
    "df"
   ]
  },
  {
   "cell_type": "code",
   "execution_count": 54,
   "id": "e93628fd",
   "metadata": {},
   "outputs": [],
   "source": [
    "# df.loc[:, 'complaints'] = df['complaints'].apply(lambda x : str(x).replace('1/', ''))"
   ]
  },
  {
   "cell_type": "code",
   "execution_count": 55,
   "id": "adaaf4a9",
   "metadata": {},
   "outputs": [],
   "source": [
    "# df.loc[:, 'complaints'] = df['complaints'].apply(lambda x : str(x).replace('/00', ''))"
   ]
  },
  {
   "cell_type": "code",
   "execution_count": 65,
   "id": "aa022679",
   "metadata": {},
   "outputs": [
    {
     "data": {
      "text/plain": [
       "0     7034\n",
       "1      749\n",
       "2      372\n",
       "3      279\n",
       "00     243\n",
       "4      142\n",
       "5       55\n",
       "Name: complaints, dtype: int64"
      ]
     },
     "execution_count": 65,
     "metadata": {},
     "output_type": "execute_result"
    }
   ],
   "source": [
    "df.complaints.value_counts()"
   ]
  },
  {
   "cell_type": "code",
   "execution_count": null,
   "id": "5974d713",
   "metadata": {},
   "outputs": [],
   "source": []
  },
  {
   "cell_type": "code",
   "execution_count": null,
   "id": "c07139ff",
   "metadata": {},
   "outputs": [],
   "source": []
  },
  {
   "cell_type": "code",
   "execution_count": null,
   "id": "da1a7642",
   "metadata": {},
   "outputs": [],
   "source": []
  },
  {
   "cell_type": "code",
   "execution_count": null,
   "id": "af3af7db",
   "metadata": {},
   "outputs": [],
   "source": []
  },
  {
   "cell_type": "code",
   "execution_count": null,
   "id": "562990a5",
   "metadata": {},
   "outputs": [],
   "source": []
  },
  {
   "cell_type": "code",
   "execution_count": null,
   "id": "7b759a47",
   "metadata": {},
   "outputs": [],
   "source": []
  },
  {
   "cell_type": "code",
   "execution_count": null,
   "id": "caba1fc2",
   "metadata": {},
   "outputs": [],
   "source": []
  },
  {
   "cell_type": "code",
   "execution_count": null,
   "id": "72eae6fc",
   "metadata": {},
   "outputs": [],
   "source": []
  },
  {
   "cell_type": "code",
   "execution_count": null,
   "id": "ac864c6c",
   "metadata": {},
   "outputs": [],
   "source": []
  },
  {
   "cell_type": "code",
   "execution_count": null,
   "id": "d5d65c33",
   "metadata": {},
   "outputs": [],
   "source": []
  },
  {
   "cell_type": "code",
   "execution_count": null,
   "id": "d77f0b10",
   "metadata": {},
   "outputs": [],
   "source": []
  },
  {
   "cell_type": "code",
   "execution_count": null,
   "id": "9acbed96",
   "metadata": {},
   "outputs": [],
   "source": []
  },
  {
   "cell_type": "code",
   "execution_count": null,
   "id": "e27cba8d",
   "metadata": {},
   "outputs": [],
   "source": []
  },
  {
   "cell_type": "code",
   "execution_count": null,
   "id": "b133b534",
   "metadata": {},
   "outputs": [],
   "source": []
  }
 ],
 "metadata": {
  "kernelspec": {
   "display_name": "Python 3 (ipykernel)",
   "language": "python",
   "name": "python3"
  },
  "language_info": {
   "codemirror_mode": {
    "name": "ipython",
    "version": 3
   },
   "file_extension": ".py",
   "mimetype": "text/x-python",
   "name": "python",
   "nbconvert_exporter": "python",
   "pygments_lexer": "ipython3",
   "version": "3.9.13"
  }
 },
 "nbformat": 4,
 "nbformat_minor": 5
}
