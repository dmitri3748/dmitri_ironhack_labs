{
 "cells": [
  {
   "cell_type": "code",
   "execution_count": 2,
   "id": "ef14b3be",
   "metadata": {},
   "outputs": [],
   "source": [
    "import statistics as stats\n",
    "import pandas as pd\n",
    "import numpy as np"
   ]
  },
  {
   "cell_type": "markdown",
   "id": "70f0192b",
   "metadata": {},
   "source": [
    "# Read file"
   ]
  },
  {
   "cell_type": "code",
   "execution_count": 3,
   "id": "79f09998",
   "metadata": {},
   "outputs": [],
   "source": [
    "df1= pd.read_csv(\"file1.csv\")\n",
    "df2= pd.read_csv(\"file2.csv\")\n",
    "df3= pd.read_csv(\"file3.csv\")"
   ]
  },
  {
   "cell_type": "markdown",
   "id": "4d44bbce",
   "metadata": {},
   "source": [
    "# Rename columns"
   ]
  },
  {
   "cell_type": "code",
   "execution_count": 4,
   "id": "4ef8c609",
   "metadata": {},
   "outputs": [],
   "source": [
    "# 1. rename\n",
    "def rename_columns(x):\n",
    "    x.rename(columns={'Customer':'customer',\\\n",
    "                        'ST':'state',\n",
    "                          'State':'state',\n",
    "                          'GENDER':'gender',\n",
    "                      'Gender':'gender',\n",
    "                        \"Education\":\"education\", \n",
    "                          \"Customer Lifetime Value\":\"clv\",\n",
    "                        \"Income\": \"income\",\n",
    "                          \"Monthly Premium Auto\":\"monthly_premium\",\n",
    "                        'Number of Open Complaints':'complaints',\n",
    "                          'Policy Type':'policy_type',\n",
    "                        \"Vehicle Class\":\"vehicle_class\", \n",
    "                          \"Total Claim Amount\":\"total_claim\"}, inplace=True )\n",
    "    return x"
   ]
  },
  {
   "cell_type": "code",
   "execution_count": 5,
   "id": "dcb35235",
   "metadata": {},
   "outputs": [],
   "source": [
    "df1 = rename_columns(df1)\n",
    "df2 = rename_columns(df2)\n",
    "df3 = rename_columns(df3)"
   ]
  },
  {
   "cell_type": "markdown",
   "id": "8f3943b7",
   "metadata": {},
   "source": [
    "# Sort columns"
   ]
  },
  {
   "cell_type": "code",
   "execution_count": 6,
   "id": "35198fba",
   "metadata": {},
   "outputs": [],
   "source": [
    "# sort\n",
    "def sort_columns(x):\n",
    "    x = x.reindex(columns=['customer', 'state', 'gender', 'education', 'income', 'vehicle_class', 'monthly_premium', 'policy_type', 'complaints', 'total_claim', 'clv'])\n",
    "    return x"
   ]
  },
  {
   "cell_type": "code",
   "execution_count": 7,
   "id": "86d67093",
   "metadata": {},
   "outputs": [],
   "source": [
    "df1 = sort_columns(df1)\n",
    "df2 = sort_columns(df2)\n",
    "df3 = sort_columns(df3)"
   ]
  },
  {
   "cell_type": "code",
   "execution_count": 8,
   "id": "50e1e245",
   "metadata": {},
   "outputs": [],
   "source": [
    "# concatinating\n",
    "df = pd.concat([df1, df2, df3])"
   ]
  },
  {
   "cell_type": "markdown",
   "id": "58013a86",
   "metadata": {},
   "source": [
    "# Drop customers"
   ]
  },
  {
   "cell_type": "code",
   "execution_count": 10,
   "id": "69d1db60",
   "metadata": {},
   "outputs": [],
   "source": [
    "# drop customers\n",
    "df = df.drop(['customer'], axis=1)"
   ]
  },
  {
   "cell_type": "markdown",
   "id": "ea7a315c",
   "metadata": {},
   "source": [
    "# Drop Duplicates"
   ]
  },
  {
   "cell_type": "code",
   "execution_count": 11,
   "id": "392ab142",
   "metadata": {},
   "outputs": [],
   "source": [
    "# duplicates\n",
    "df = df.drop_duplicates()\n",
    "\n",
    "# 9135 rows"
   ]
  },
  {
   "cell_type": "code",
   "execution_count": 12,
   "id": "fb58e200",
   "metadata": {},
   "outputs": [
    {
     "data": {
      "text/plain": [
       "state               object\n",
       "gender              object\n",
       "education           object\n",
       "income             float64\n",
       "vehicle_class       object\n",
       "monthly_premium    float64\n",
       "policy_type         object\n",
       "complaints          object\n",
       "total_claim        float64\n",
       "clv                 object\n",
       "dtype: object"
      ]
     },
     "execution_count": 12,
     "metadata": {},
     "output_type": "execute_result"
    }
   ],
   "source": [
    "df.dtypes\n",
    "# gender should be only two possible strings\n",
    "# complaints should be integer\n",
    "# clv should be float and without percentage"
   ]
  },
  {
   "cell_type": "markdown",
   "id": "d1bb7f89",
   "metadata": {},
   "source": [
    "## Gender"
   ]
  },
  {
   "cell_type": "code",
   "execution_count": 13,
   "id": "f17166b2",
   "metadata": {},
   "outputs": [],
   "source": [
    "# as example\n",
    "# hk_df['median_home_val'] =  pd.to_numeric(hk_df['median_home_val'], errors='coerce')"
   ]
  },
  {
   "cell_type": "code",
   "execution_count": 14,
   "id": "0678f4a1",
   "metadata": {},
   "outputs": [
    {
     "data": {
      "text/plain": [
       "True"
      ]
     },
     "execution_count": 14,
     "metadata": {},
     "output_type": "execute_result"
    }
   ],
   "source": [
    "# are there null values?\n",
    "df['gender'].isnull().values.any()\n",
    "# yes"
   ]
  },
  {
   "cell_type": "code",
   "execution_count": 15,
   "id": "869f45f9",
   "metadata": {},
   "outputs": [
    {
     "data": {
      "text/plain": [
       "123"
      ]
     },
     "execution_count": 15,
     "metadata": {},
     "output_type": "execute_result"
    }
   ],
   "source": [
    "# how many null values are there?\n",
    "df['gender'].isnull().sum()"
   ]
  },
  {
   "cell_type": "code",
   "execution_count": 16,
   "id": "06baa104",
   "metadata": {},
   "outputs": [
    {
     "data": {
      "text/plain": [
       "F         4435\n",
       "M         4237\n",
       "Male        40\n",
       "female      30\n",
       "Femal       17\n",
       "Name: gender, dtype: int64"
      ]
     },
     "execution_count": 16,
     "metadata": {},
     "output_type": "execute_result"
    }
   ],
   "source": [
    "# how many are females and males are?\n",
    "df['gender'].value_counts()"
   ]
  },
  {
   "cell_type": "code",
   "execution_count": 17,
   "id": "cb23d0cd",
   "metadata": {},
   "outputs": [
    {
     "data": {
      "text/plain": [
       "array([nan, 'F', 'M', 'Femal', 'Male', 'female'], dtype=object)"
      ]
     },
     "execution_count": 17,
     "metadata": {},
     "output_type": "execute_result"
    }
   ],
   "source": [
    "df['gender'].unique()"
   ]
  },
  {
   "cell_type": "code",
   "execution_count": 18,
   "id": "60eeaa91",
   "metadata": {
    "scrolled": true
   },
   "outputs": [],
   "source": [
    "def clean_gender(x):\n",
    "    if x in ['M', 'Male']:\n",
    "        return 0\n",
    "    elif x in ['F', 'female',\"Femal\"]:\n",
    "        return 1\n",
    "    else:\n",
    "        return x"
   ]
  },
  {
   "cell_type": "code",
   "execution_count": 19,
   "id": "b5345366",
   "metadata": {},
   "outputs": [],
   "source": [
    "df['gender'] = list(map(clean_gender, df['gender']))"
   ]
  },
  {
   "cell_type": "code",
   "execution_count": 20,
   "id": "124c175e",
   "metadata": {},
   "outputs": [
    {
     "data": {
      "text/plain": [
       "123"
      ]
     },
     "execution_count": 20,
     "metadata": {},
     "output_type": "execute_result"
    }
   ],
   "source": [
    "df.gender.isnull().sum()"
   ]
  },
  {
   "cell_type": "code",
   "execution_count": 21,
   "id": "4be33bf3",
   "metadata": {},
   "outputs": [],
   "source": [
    "df = df.dropna(subset=['gender'])"
   ]
  },
  {
   "cell_type": "code",
   "execution_count": 22,
   "id": "c7a11901",
   "metadata": {},
   "outputs": [
    {
     "data": {
      "text/plain": [
       "0"
      ]
     },
     "execution_count": 22,
     "metadata": {},
     "output_type": "execute_result"
    }
   ],
   "source": [
    "df.gender.isnull().sum()"
   ]
  },
  {
   "cell_type": "code",
   "execution_count": 23,
   "id": "1f26f982",
   "metadata": {},
   "outputs": [],
   "source": [
    "df['gender'] = df['gender'].astype(int)"
   ]
  },
  {
   "cell_type": "code",
   "execution_count": 25,
   "id": "74af88f2",
   "metadata": {},
   "outputs": [
    {
     "name": "stdout",
     "output_type": "stream",
     "text": [
      "51.2\n",
      "48.8\n"
     ]
    }
   ],
   "source": [
    "f = 4435 + 30 + 17\n",
    "m = 4237 + 40\n",
    "t = f + m\n",
    "print(round(f/t * 100, 1))\n",
    "print(round(m/t * 100, 1))\n",
    "\n",
    "# 51.2% female\n",
    "# 48.2% male"
   ]
  },
  {
   "cell_type": "code",
   "execution_count": 26,
   "id": "364fc26e",
   "metadata": {},
   "outputs": [],
   "source": [
    "# meaning that 123 should be divided accordingly\n",
    "f1 = (120 * 0.512)\n",
    "m1 = (120 * 0.488)"
   ]
  },
  {
   "cell_type": "code",
   "execution_count": 27,
   "id": "55fdae49",
   "metadata": {},
   "outputs": [
    {
     "data": {
      "text/plain": [
       "61"
      ]
     },
     "execution_count": 27,
     "metadata": {},
     "output_type": "execute_result"
    }
   ],
   "source": [
    "f1 = round(f1)\n",
    "f1"
   ]
  },
  {
   "cell_type": "code",
   "execution_count": 28,
   "id": "6d882b8b",
   "metadata": {},
   "outputs": [
    {
     "data": {
      "text/plain": [
       "59"
      ]
     },
     "execution_count": 28,
     "metadata": {},
     "output_type": "execute_result"
    }
   ],
   "source": [
    "m1 = round(m1)\n",
    "m1"
   ]
  },
  {
   "cell_type": "markdown",
   "id": "a802d17f",
   "metadata": {},
   "source": [
    "## Fix CLV"
   ]
  },
  {
   "cell_type": "code",
   "execution_count": 30,
   "id": "df21243f",
   "metadata": {},
   "outputs": [],
   "source": [
    "# remove the percentage\n",
    "df.loc[:, 'clv'] = df['clv'].apply(lambda x: str(x).replace('%', ''))"
   ]
  },
  {
   "cell_type": "code",
   "execution_count": 31,
   "id": "0410baa1",
   "metadata": {},
   "outputs": [],
   "source": [
    "df['clv'] = df.clv.astype(float).round()"
   ]
  },
  {
   "cell_type": "code",
   "execution_count": 32,
   "id": "fc751fcd",
   "metadata": {},
   "outputs": [
    {
     "data": {
      "text/plain": [
       "5"
      ]
     },
     "execution_count": 32,
     "metadata": {},
     "output_type": "execute_result"
    }
   ],
   "source": [
    "df['clv'].isnull().sum()"
   ]
  },
  {
   "cell_type": "code",
   "execution_count": 33,
   "id": "a1e3d108",
   "metadata": {},
   "outputs": [],
   "source": [
    "df = df.dropna(subset=['clv'])"
   ]
  },
  {
   "cell_type": "code",
   "execution_count": 34,
   "id": "03856340",
   "metadata": {},
   "outputs": [
    {
     "data": {
      "text/plain": [
       "0"
      ]
     },
     "execution_count": 34,
     "metadata": {},
     "output_type": "execute_result"
    }
   ],
   "source": [
    "df['clv'].isnull().sum()"
   ]
  },
  {
   "cell_type": "code",
   "execution_count": 35,
   "id": "4c535aad",
   "metadata": {},
   "outputs": [
    {
     "name": "stderr",
     "output_type": "stream",
     "text": [
      "/var/folders/wq/2vxkh_6d4g7dpxkr5q82nxzh0000gn/T/ipykernel_44949/3924484575.py:1: SettingWithCopyWarning: \n",
      "A value is trying to be set on a copy of a slice from a DataFrame.\n",
      "Try using .loc[row_indexer,col_indexer] = value instead\n",
      "\n",
      "See the caveats in the documentation: https://pandas.pydata.org/pandas-docs/stable/user_guide/indexing.html#returning-a-view-versus-a-copy\n",
      "  df['clv'] = df['clv'].astype(int)\n"
     ]
    }
   ],
   "source": [
    "df['clv'] = df['clv'].astype(int)"
   ]
  },
  {
   "cell_type": "code",
   "execution_count": 36,
   "id": "9ebae340",
   "metadata": {},
   "outputs": [],
   "source": [
    "df = df.reset_index()"
   ]
  },
  {
   "cell_type": "code",
   "execution_count": 38,
   "id": "12b0d44e",
   "metadata": {},
   "outputs": [],
   "source": [
    "# df['clv'] = df['clv'].apply(np.int64)"
   ]
  },
  {
   "cell_type": "markdown",
   "id": "a0627114",
   "metadata": {},
   "source": [
    "## Fix Complaints"
   ]
  },
  {
   "cell_type": "code",
   "execution_count": 39,
   "id": "533c0299",
   "metadata": {},
   "outputs": [
    {
     "data": {
      "text/plain": [
       "0"
      ]
     },
     "execution_count": 39,
     "metadata": {},
     "output_type": "execute_result"
    }
   ],
   "source": [
    "df['complaints'].isnull().sum()"
   ]
  },
  {
   "cell_type": "code",
   "execution_count": 40,
   "id": "8764e009",
   "metadata": {
    "collapsed": true
   },
   "outputs": [
    {
     "data": {
      "text/plain": [
       "0         5421\n",
       "1/0/00    1528\n",
       "1          749\n",
       "2          279\n",
       "1/1/00     225\n",
       "3          221\n",
       "4          114\n",
       "1/2/00      84\n",
       "1/3/00      51\n",
       "5           43\n",
       "1/4/00      28\n",
       "1/5/00      11\n",
       "Name: complaints, dtype: int64"
      ]
     },
     "execution_count": 40,
     "metadata": {},
     "output_type": "execute_result"
    }
   ],
   "source": [
    "df['complaints'].value_counts()"
   ]
  },
  {
   "cell_type": "code",
   "execution_count": 41,
   "id": "31adb09d",
   "metadata": {
    "collapsed": true
   },
   "outputs": [
    {
     "data": {
      "text/plain": [
       "index                int64\n",
       "state               object\n",
       "gender               int64\n",
       "education           object\n",
       "income             float64\n",
       "vehicle_class       object\n",
       "monthly_premium    float64\n",
       "policy_type         object\n",
       "complaints          object\n",
       "total_claim        float64\n",
       "clv                  int64\n",
       "dtype: object"
      ]
     },
     "execution_count": 41,
     "metadata": {},
     "output_type": "execute_result"
    }
   ],
   "source": [
    "df.dtypes"
   ]
  },
  {
   "cell_type": "code",
   "execution_count": 42,
   "id": "4ae4dbc1",
   "metadata": {
    "collapsed": true
   },
   "outputs": [
    {
     "name": "stdout",
     "output_type": "stream",
     "text": [
      "<class 'pandas.core.series.Series'>\n",
      "RangeIndex: 8754 entries, 0 to 8753\n",
      "Series name: complaints\n",
      "Non-Null Count  Dtype \n",
      "--------------  ----- \n",
      "8754 non-null   object\n",
      "dtypes: object(1)\n",
      "memory usage: 68.5+ KB\n"
     ]
    }
   ],
   "source": [
    "df.complaints.info()"
   ]
  },
  {
   "cell_type": "code",
   "execution_count": 45,
   "id": "161cf2af",
   "metadata": {
    "collapsed": true
   },
   "outputs": [
    {
     "data": {
      "text/html": [
       "<div>\n",
       "<style scoped>\n",
       "    .dataframe tbody tr th:only-of-type {\n",
       "        vertical-align: middle;\n",
       "    }\n",
       "\n",
       "    .dataframe tbody tr th {\n",
       "        vertical-align: top;\n",
       "    }\n",
       "\n",
       "    .dataframe thead th {\n",
       "        text-align: right;\n",
       "    }\n",
       "</style>\n",
       "<table border=\"1\" class=\"dataframe\">\n",
       "  <thead>\n",
       "    <tr style=\"text-align: right;\">\n",
       "      <th></th>\n",
       "      <th>state</th>\n",
       "      <th>education</th>\n",
       "      <th>vehicle_class</th>\n",
       "      <th>policy_type</th>\n",
       "      <th>complaints</th>\n",
       "    </tr>\n",
       "  </thead>\n",
       "  <tbody>\n",
       "    <tr>\n",
       "      <th>0</th>\n",
       "      <td>Arizona</td>\n",
       "      <td>Bachelor</td>\n",
       "      <td>Four-Door Car</td>\n",
       "      <td>Personal Auto</td>\n",
       "      <td>1/0/00</td>\n",
       "    </tr>\n",
       "    <tr>\n",
       "      <th>1</th>\n",
       "      <td>Nevada</td>\n",
       "      <td>Bachelor</td>\n",
       "      <td>Two-Door Car</td>\n",
       "      <td>Personal Auto</td>\n",
       "      <td>1/0/00</td>\n",
       "    </tr>\n",
       "    <tr>\n",
       "      <th>2</th>\n",
       "      <td>California</td>\n",
       "      <td>Bachelor</td>\n",
       "      <td>SUV</td>\n",
       "      <td>Corporate Auto</td>\n",
       "      <td>1/0/00</td>\n",
       "    </tr>\n",
       "    <tr>\n",
       "      <th>3</th>\n",
       "      <td>Washington</td>\n",
       "      <td>High School or Below</td>\n",
       "      <td>Four-Door Car</td>\n",
       "      <td>Personal Auto</td>\n",
       "      <td>1/0/00</td>\n",
       "    </tr>\n",
       "    <tr>\n",
       "      <th>4</th>\n",
       "      <td>Oregon</td>\n",
       "      <td>Bachelor</td>\n",
       "      <td>Two-Door Car</td>\n",
       "      <td>Personal Auto</td>\n",
       "      <td>1/0/00</td>\n",
       "    </tr>\n",
       "    <tr>\n",
       "      <th>...</th>\n",
       "      <td>...</td>\n",
       "      <td>...</td>\n",
       "      <td>...</td>\n",
       "      <td>...</td>\n",
       "      <td>...</td>\n",
       "    </tr>\n",
       "    <tr>\n",
       "      <th>8749</th>\n",
       "      <td>California</td>\n",
       "      <td>Bachelor</td>\n",
       "      <td>Four-Door Car</td>\n",
       "      <td>Personal Auto</td>\n",
       "      <td>0</td>\n",
       "    </tr>\n",
       "    <tr>\n",
       "      <th>8750</th>\n",
       "      <td>California</td>\n",
       "      <td>College</td>\n",
       "      <td>Four-Door Car</td>\n",
       "      <td>Corporate Auto</td>\n",
       "      <td>0</td>\n",
       "    </tr>\n",
       "    <tr>\n",
       "      <th>8751</th>\n",
       "      <td>California</td>\n",
       "      <td>Bachelor</td>\n",
       "      <td>Four-Door Car</td>\n",
       "      <td>Corporate Auto</td>\n",
       "      <td>3</td>\n",
       "    </tr>\n",
       "    <tr>\n",
       "      <th>8752</th>\n",
       "      <td>California</td>\n",
       "      <td>College</td>\n",
       "      <td>Four-Door Car</td>\n",
       "      <td>Personal Auto</td>\n",
       "      <td>0</td>\n",
       "    </tr>\n",
       "    <tr>\n",
       "      <th>8753</th>\n",
       "      <td>California</td>\n",
       "      <td>College</td>\n",
       "      <td>Two-Door Car</td>\n",
       "      <td>Corporate Auto</td>\n",
       "      <td>0</td>\n",
       "    </tr>\n",
       "  </tbody>\n",
       "</table>\n",
       "<p>8754 rows × 5 columns</p>\n",
       "</div>"
      ],
      "text/plain": [
       "           state             education  vehicle_class     policy_type  \\\n",
       "0        Arizona              Bachelor  Four-Door Car   Personal Auto   \n",
       "1         Nevada              Bachelor   Two-Door Car   Personal Auto   \n",
       "2     California              Bachelor            SUV  Corporate Auto   \n",
       "3     Washington  High School or Below  Four-Door Car   Personal Auto   \n",
       "4         Oregon              Bachelor   Two-Door Car   Personal Auto   \n",
       "...          ...                   ...            ...             ...   \n",
       "8749  California              Bachelor  Four-Door Car   Personal Auto   \n",
       "8750  California               College  Four-Door Car  Corporate Auto   \n",
       "8751  California              Bachelor  Four-Door Car  Corporate Auto   \n",
       "8752  California               College  Four-Door Car   Personal Auto   \n",
       "8753  California               College   Two-Door Car  Corporate Auto   \n",
       "\n",
       "     complaints  \n",
       "0        1/0/00  \n",
       "1        1/0/00  \n",
       "2        1/0/00  \n",
       "3        1/0/00  \n",
       "4        1/0/00  \n",
       "...         ...  \n",
       "8749          0  \n",
       "8750          0  \n",
       "8751          3  \n",
       "8752          0  \n",
       "8753          0  \n",
       "\n",
       "[8754 rows x 5 columns]"
      ]
     },
     "execution_count": 45,
     "metadata": {},
     "output_type": "execute_result"
    }
   ],
   "source": [
    "# nice little thing to know\n",
    "df.select_dtypes('object')"
   ]
  },
  {
   "cell_type": "code",
   "execution_count": 46,
   "id": "ede8e306",
   "metadata": {},
   "outputs": [],
   "source": [
    "df['complaints'] = df['complaints'].apply(lambda x: str(x.split('/')[1]) if '/' in str(x) else x)"
   ]
  },
  {
   "cell_type": "markdown",
   "id": "85976926",
   "metadata": {},
   "source": [
    "# Replace null values"
   ]
  },
  {
   "cell_type": "code",
   "execution_count": 52,
   "id": "7003836c",
   "metadata": {
    "collapsed": true
   },
   "outputs": [
    {
     "data": {
      "text/plain": [
       "Index(['index', 'state', 'gender', 'education', 'income', 'vehicle_class',\n",
       "       'monthly_premium', 'policy_type', 'complaints', 'total_claim', 'clv'],\n",
       "      dtype='object')"
      ]
     },
     "execution_count": 52,
     "metadata": {},
     "output_type": "execute_result"
    }
   ],
   "source": [
    "df.columns"
   ]
  },
  {
   "cell_type": "code",
   "execution_count": 54,
   "id": "641cf569",
   "metadata": {},
   "outputs": [],
   "source": [
    "df = df.reset_index()"
   ]
  },
  {
   "cell_type": "code",
   "execution_count": 57,
   "id": "03dfe894",
   "metadata": {},
   "outputs": [],
   "source": [
    "df = df.drop(columns=['level_0', 'index'])"
   ]
  },
  {
   "cell_type": "markdown",
   "id": "5c9bfb74",
   "metadata": {},
   "source": [
    "#### CORRECT BACHELOR!"
   ]
  },
  {
   "cell_type": "code",
   "execution_count": 60,
   "id": "098333a1",
   "metadata": {
    "collapsed": true
   },
   "outputs": [
    {
     "data": {
      "text/plain": [
       "Bachelor                2612\n",
       "College                 2559\n",
       "High School or Below    2516\n",
       "Master                   715\n",
       "Doctor                   329\n",
       "Bachelors                 23\n",
       "Name: education, dtype: int64"
      ]
     },
     "execution_count": 60,
     "metadata": {},
     "output_type": "execute_result"
    }
   ],
   "source": [
    "df.education.value_counts()"
   ]
  },
  {
   "cell_type": "markdown",
   "id": "6ddc93bb",
   "metadata": {},
   "source": [
    "# Replace zero values with mean in column INCOME"
   ]
  },
  {
   "cell_type": "markdown",
   "id": "efb10f2c",
   "metadata": {},
   "source": [
    "df.income.value_counts()"
   ]
  },
  {
   "cell_type": "code",
   "execution_count": 61,
   "id": "0be5307c",
   "metadata": {
    "collapsed": true
   },
   "outputs": [
    {
     "data": {
      "text/plain": [
       "0"
      ]
     },
     "execution_count": 61,
     "metadata": {},
     "output_type": "execute_result"
    }
   ],
   "source": [
    "df.income.isnull().sum()"
   ]
  },
  {
   "cell_type": "code",
   "execution_count": null,
   "id": "b6dbe015",
   "metadata": {},
   "outputs": [],
   "source": [
    "df.income.value_counts()"
   ]
  },
  {
   "cell_type": "code",
   "execution_count": 65,
   "id": "6847204f",
   "metadata": {},
   "outputs": [],
   "source": [
    "# replace zeros with nan\n",
    "df.income.replace(0, np.nan, inplace = True)"
   ]
  },
  {
   "cell_type": "code",
   "execution_count": 67,
   "id": "033c3fc0",
   "metadata": {},
   "outputs": [],
   "source": [
    "mean = np.mean(df.income)"
   ]
  },
  {
   "cell_type": "code",
   "execution_count": 68,
   "id": "029e85dd",
   "metadata": {
    "collapsed": true
   },
   "outputs": [
    {
     "data": {
      "text/plain": [
       "50775.22217111316"
      ]
     },
     "execution_count": 68,
     "metadata": {},
     "output_type": "execute_result"
    }
   ],
   "source": [
    "mean"
   ]
  },
  {
   "cell_type": "code",
   "execution_count": 69,
   "id": "9b1d71e5",
   "metadata": {},
   "outputs": [],
   "source": [
    "df.income = df.income.fillna(mean)"
   ]
  },
  {
   "cell_type": "markdown",
   "id": "3efd06d1",
   "metadata": {},
   "source": [
    "# Change state"
   ]
  },
  {
   "cell_type": "code",
   "execution_count": 71,
   "id": "1938466a",
   "metadata": {
    "collapsed": true
   },
   "outputs": [
    {
     "data": {
      "text/plain": [
       "California    2888\n",
       "Oregon        2468\n",
       "Arizona       1579\n",
       "Nevada         858\n",
       "Washington     750\n",
       "Cali           119\n",
       "AZ              63\n",
       "WA              29\n",
       "Name: state, dtype: int64"
      ]
     },
     "execution_count": 71,
     "metadata": {},
     "output_type": "execute_result"
    }
   ],
   "source": [
    "df.state.value_counts()"
   ]
  },
  {
   "cell_type": "code",
   "execution_count": 72,
   "id": "a575ccb6",
   "metadata": {},
   "outputs": [],
   "source": [
    "def clean_states(x):\n",
    "    if x in ['Cali', 'California']:\n",
    "        return 'West Region'\n",
    "    elif x in ['AZ', 'Arizona','Nevada']:\n",
    "        return 'Central'\n",
    "    elif x in ['WA', 'Washington']:\n",
    "        return 'East'\n",
    "    elif x in ['Oregon']:\n",
    "        return 'North West'\n",
    "    else:\n",
    "        return x"
   ]
  },
  {
   "cell_type": "code",
   "execution_count": 73,
   "id": "e086b8d5",
   "metadata": {},
   "outputs": [],
   "source": [
    "df['state']= df['state'].apply(clean_states)"
   ]
  }
 ],
 "metadata": {
  "kernelspec": {
   "display_name": "Python 3 (ipykernel)",
   "language": "python",
   "name": "python3"
  },
  "language_info": {
   "codemirror_mode": {
    "name": "ipython",
    "version": 3
   },
   "file_extension": ".py",
   "mimetype": "text/x-python",
   "name": "python",
   "nbconvert_exporter": "python",
   "pygments_lexer": "ipython3",
   "version": "3.9.13"
  }
 },
 "nbformat": 4,
 "nbformat_minor": 5
}
