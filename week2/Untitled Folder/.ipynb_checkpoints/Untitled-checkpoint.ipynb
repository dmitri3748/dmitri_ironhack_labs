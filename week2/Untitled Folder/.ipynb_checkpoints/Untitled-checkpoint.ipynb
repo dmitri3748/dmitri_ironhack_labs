{
 "cells": [
  {
   "cell_type": "markdown",
   "id": "1a6d003c",
   "metadata": {},
   "source": [
    "#### function to convert objects to either strings or integers"
   ]
  },
  {
   "cell_type": "code",
   "execution_count": 13,
   "id": "4d1ca445",
   "metadata": {},
   "outputs": [
    {
     "name": "stdout",
     "output_type": "stream",
     "text": [
      "name: {'Pol'} index: {0}\n",
      "name: {'Javi'} index: {1}\n",
      "name: {'Maria'} index: {2}\n",
      "name: {'Anna'} index: {3}\n",
      "name: {'Anna'} index: {4}\n",
      "name: {'Javi'} index: {5}\n",
      "name: {'Dog'} index: {6}\n",
      "there are 0 strings and 7 other\n",
      "the indices of strings are: [] , whereas of other: []\n"
     ]
    }
   ],
   "source": [
    "import pandas as pd\n",
    "import numpy as np\n",
    "df = pd.read_csv('people.csv')\n",
    "\n",
    "\n",
    "counter_str = 0\n",
    "counter_other = 0\n",
    "str_index = []\n",
    "other_index = []\n",
    "\n",
    "\n",
    "for i, name in enumerate(df.name):\n",
    "    if type(i) == str:\n",
    "        counter_str += 1\n",
    "        print(f'name:', {name}, 'index:', {i})\n",
    "    else:\n",
    "        counter_other += 1\n",
    "        print(f'name:', {name}, 'index:', {i})\n",
    "        \n",
    "\n",
    "        \n",
    "# what is it that I want:\n",
    "    # how many are str\n",
    "    # a list with all the indices\n",
    "    # so that I later then can \n",
    "# it is fucked up, but good for practice\n",
    "        \n",
    "# counter works fine\n",
    "# str_index is weird\n",
    "\n",
    "print(f'there are', counter_str, 'strings and', counter_other, 'other')\n",
    "print(f'the indices of strings are:', str_index, ', whereas of other:', other_index)"
   ]
  },
  {
   "cell_type": "code",
   "execution_count": null,
   "id": "b551ed4d",
   "metadata": {},
   "outputs": [],
   "source": []
  }
 ],
 "metadata": {
  "kernelspec": {
   "display_name": "Python 3 (ipykernel)",
   "language": "python",
   "name": "python3"
  },
  "language_info": {
   "codemirror_mode": {
    "name": "ipython",
    "version": 3
   },
   "file_extension": ".py",
   "mimetype": "text/x-python",
   "name": "python",
   "nbconvert_exporter": "python",
   "pygments_lexer": "ipython3",
   "version": "3.9.13"
  }
 },
 "nbformat": 4,
 "nbformat_minor": 5
}
