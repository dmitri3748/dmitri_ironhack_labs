{
 "cells": [
  {
   "cell_type": "code",
   "execution_count": 8,
   "id": "96e94b81",
   "metadata": {},
   "outputs": [],
   "source": [
    "import numpy as np\n",
    "import pandas as pd\n",
    "import scipy.stats as stats\n",
    "import matplotlib.pyplot as plt\n",
    "import seaborn as sns\n",
    "import math\n",
    "%matplotlib inline"
   ]
  },
  {
   "cell_type": "code",
   "execution_count": 12,
   "id": "1c4df0a5",
   "metadata": {},
   "outputs": [
    {
     "name": "stdout",
     "output_type": "stream",
     "text": [
      "4.761904761904759\n",
      "1.6603911559963895\n"
     ]
    }
   ],
   "source": [
    "# H0 = 120, H1 != 120\n",
    "population_mean = 120\n",
    "sample_mean = 130.1\n",
    "sample_size = 100\n",
    "st_dev = 21.21\n",
    "st_err = st_dev / math.sqrt(100)\n",
    "z = (sample_mean - population_mean)/ st_err\n",
    "critical_value = stats.t.ppf(0.95, df = 99) # t-table as we do not have the population standard deviation\n",
    "print(z)\n",
    "print(critical_value)\n",
    "# z > critical_value => reject Ho"
   ]
  },
  {
   "cell_type": "code",
   "execution_count": 5,
   "id": "b219071c",
   "metadata": {},
   "outputs": [],
   "source": []
  },
  {
   "cell_type": "code",
   "execution_count": null,
   "id": "c8208c86",
   "metadata": {},
   "outputs": [],
   "source": []
  }
 ],
 "metadata": {
  "kernelspec": {
   "display_name": "Python 3 (ipykernel)",
   "language": "python",
   "name": "python3"
  },
  "language_info": {
   "codemirror_mode": {
    "name": "ipython",
    "version": 3
   },
   "file_extension": ".py",
   "mimetype": "text/x-python",
   "name": "python",
   "nbconvert_exporter": "python",
   "pygments_lexer": "ipython3",
   "version": "3.9.13"
  }
 },
 "nbformat": 4,
 "nbformat_minor": 5
}
