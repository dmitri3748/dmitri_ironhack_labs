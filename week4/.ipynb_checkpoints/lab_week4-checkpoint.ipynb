{
 "cells": [
  {
   "cell_type": "code",
   "execution_count": 1,
   "id": "a146d3d0",
   "metadata": {},
   "outputs": [],
   "source": [
    "import numpy as np\n",
    "import pandas as pd\n",
    "import matplotlib.pyplot as plt\n",
    "import seaborn as sns\n",
    "from scipy.stats import boxcox\n",
    "from scipy.stats import norm\n",
    "import math\n",
    "%matplotlib inline\n",
    "pd.options.display.max_rows = 100\n",
    "import warnings\n",
    "warnings.simplefilter(action='ignore', category=FutureWarning)\n",
    "from IPython.core.interactiveshell import InteractiveShell\n",
    "InteractiveShell.ast_node_interactivity = 'all'\n",
    "import statistics as st\n",
    "import random\n",
    "import sklearn"
   ]
  },
  {
   "cell_type": "markdown",
   "id": "a4ccdb50",
   "metadata": {},
   "source": [
    "# Import data"
   ]
  },
  {
   "cell_type": "code",
   "execution_count": 8,
   "id": "6ce96f6c",
   "metadata": {},
   "outputs": [],
   "source": [
    "df = pd.read_csv(\"Data/Data_Marketing_Customer_Analysis_Round3.csv\")"
   ]
  },
  {
   "cell_type": "code",
   "execution_count": 9,
   "id": "df345272",
   "metadata": {},
   "outputs": [],
   "source": [
    "df = df.drop('effective_to_date', axis = 1)"
   ]
  },
  {
   "cell_type": "code",
   "execution_count": null,
   "id": "8d103dcb",
   "metadata": {},
   "outputs": [],
   "source": [
    "df"
   ]
  },
  {
   "cell_type": "markdown",
   "id": "d825c57c",
   "metadata": {},
   "source": [
    "# Preprocessing"
   ]
  },
  {
   "cell_type": "markdown",
   "id": "7ff7ca9e",
   "metadata": {},
   "source": [
    "### Check correlation"
   ]
  },
  {
   "cell_type": "code",
   "execution_count": null,
   "id": "75df87d2",
   "metadata": {},
   "outputs": [],
   "source": [
    "df.corr()\n",
    "# no high correlation"
   ]
  },
  {
   "cell_type": "markdown",
   "id": "204c1ed1",
   "metadata": {},
   "source": [
    "### Label Encoding"
   ]
  },
  {
   "cell_type": "code",
   "execution_count": 10,
   "id": "e3785256",
   "metadata": {},
   "outputs": [],
   "source": [
    "from sklearn.preprocessing import LabelEncoder\n",
    "le = LabelEncoder()\n",
    "\n",
    "df.coverage = le.fit_transform(df.coverage)\n",
    "df.education = le.fit_transform(df.education)\n",
    "df.vehicle_class = le.fit_transform(df.vehicle_class)\n",
    "df.vehicle_size = le.fit_transform(df.vehicle_size)"
   ]
  },
  {
   "cell_type": "markdown",
   "id": "b700d431",
   "metadata": {},
   "source": [
    "### Hot Encoding"
   ]
  },
  {
   "cell_type": "code",
   "execution_count": 15,
   "id": "e887a2f6",
   "metadata": {},
   "outputs": [],
   "source": [
    "df = pd.get_dummies(df, prefix = ['response', 'employment_status', 'gender', 'policy_type', 'policy', 'renew_offer_type', 'sales_channel'], columns = ['response', 'employment_status', 'gender', 'policy_type', 'policy', 'renew_offer_type', 'sales_channel'], drop_first=False)"
   ]
  },
  {
   "cell_type": "code",
   "execution_count": null,
   "id": "b8f142ca",
   "metadata": {},
   "outputs": [],
   "source": [
    "# change categories quickly\n",
    "# for col in ['region', 'response', 'coverage',\n",
    "#       'education', 'month', 'employment_status',\n",
    "#       'gender', 'location_code', 'marital_status',\n",
    "#       'policy_type', 'policy', 'renew_offer_type',\n",
    "#       'sales_channel', 'vehicle_class', 'vehicle_size']: df[col] = df[col].astype('category')"
   ]
  },
  {
   "cell_type": "code",
   "execution_count": null,
   "id": "46eac581",
   "metadata": {},
   "outputs": [],
   "source": [
    "# df['region'] = df['region'].cat.rename_categories({'central': 0, 'west region': 1, 'east': 2, 'north west': 3})"
   ]
  },
  {
   "cell_type": "code",
   "execution_count": null,
   "id": "97ecaba4",
   "metadata": {},
   "outputs": [],
   "source": [
    "# categoricals = df.select_dtypes(include=['category'])\n",
    "# categoricals"
   ]
  },
  {
   "cell_type": "code",
   "execution_count": null,
   "id": "0f45ed6a",
   "metadata": {},
   "outputs": [],
   "source": [
    "# for col in df.columns:\n",
    "#    if df[col].dtype == 'category':\n",
    "#        df[col] = le.fit_transform(df[col])"
   ]
  },
  {
   "cell_type": "code",
   "execution_count": 19,
   "id": "a50b5287",
   "metadata": {},
   "outputs": [
    {
     "data": {
      "text/plain": [
       "(10689, 48)"
      ]
     },
     "execution_count": 19,
     "metadata": {},
     "output_type": "execute_result"
    }
   ],
   "source": [
    "df.shape\n",
    "# now I have 48 rows, dunno if that's great..."
   ]
  },
  {
   "cell_type": "code",
   "execution_count": null,
   "id": "9987e2ce",
   "metadata": {},
   "outputs": [],
   "source": []
  }
 ],
 "metadata": {
  "kernelspec": {
   "display_name": "Python 3 (ipykernel)",
   "language": "python",
   "name": "python3"
  },
  "language_info": {
   "codemirror_mode": {
    "name": "ipython",
    "version": 3
   },
   "file_extension": ".py",
   "mimetype": "text/x-python",
   "name": "python",
   "nbconvert_exporter": "python",
   "pygments_lexer": "ipython3",
   "version": "3.9.13"
  }
 },
 "nbformat": 4,
 "nbformat_minor": 5
}
