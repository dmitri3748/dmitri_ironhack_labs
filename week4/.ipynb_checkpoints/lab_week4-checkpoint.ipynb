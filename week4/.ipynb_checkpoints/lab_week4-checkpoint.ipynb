{
 "cells": [
  {
   "cell_type": "code",
   "execution_count": 1,
   "id": "a146d3d0",
   "metadata": {},
   "outputs": [],
   "source": [
    "import numpy as np\n",
    "import pandas as pd\n",
    "import matplotlib.pyplot as plt\n",
    "import seaborn as sns\n",
    "from scipy.stats import boxcox\n",
    "from scipy.stats import norm\n",
    "import math\n",
    "%matplotlib inline\n",
    "pd.options.display.max_rows = 100\n",
    "import warnings\n",
    "warnings.simplefilter(action='ignore', category=FutureWarning)\n",
    "from IPython.core.interactiveshell import InteractiveShell\n",
    "InteractiveShell.ast_node_interactivity = 'all'\n",
    "import statistics as st\n",
    "import random\n",
    "import sklearn\n"
   ]
  },
  {
   "cell_type": "markdown",
   "id": "1a5dbf97",
   "metadata": {},
   "source": [
    "# Import data"
   ]
  },
  {
   "cell_type": "code",
   "execution_count": 2,
   "id": "c554cb1c",
   "metadata": {},
   "outputs": [],
   "source": [
    "df = pd.read_csv(\"Data/Data_Marketing_Customer_Analysis_Round3.csv\")"
   ]
  },
  {
   "cell_type": "code",
   "execution_count": 3,
   "id": "8a1b41f3",
   "metadata": {},
   "outputs": [],
   "source": [
    "df = df.drop('effective_to_date', axis = 1)"
   ]
  },
  {
   "cell_type": "code",
   "execution_count": 4,
   "id": "fd2abbc6",
   "metadata": {},
   "outputs": [
    {
     "name": "stderr",
     "output_type": "stream",
     "text": [
      "/var/folders/wq/2vxkh_6d4g7dpxkr5q82nxzh0000gn/T/ipykernel_35429/3149187810.py:2: DeprecationWarning: `np.object` is a deprecated alias for the builtin `object`. To silence this warning, use `object` by itself. Doing this will not modify any behavior and is safe. \n",
      "Deprecated in NumPy 1.20; for more details and guidance: https://numpy.org/devdocs/release/1.20.0-notes.html#deprecations\n",
      "  categoricals = df.select_dtypes(np.object)\n"
     ]
    }
   ],
   "source": [
    "numericals = df.select_dtypes(np.number)\n",
    "categoricals = df.select_dtypes(np.object)"
   ]
  },
  {
   "cell_type": "markdown",
   "id": "c7146339",
   "metadata": {},
   "source": [
    "# Preprocessing"
   ]
  },
  {
   "cell_type": "markdown",
   "id": "c3cf915d",
   "metadata": {},
   "source": [
    "### Check correlation"
   ]
  },
  {
   "cell_type": "code",
   "execution_count": null,
   "id": "f125b528",
   "metadata": {},
   "outputs": [],
   "source": [
    "df.corr()\n",
    "# no high correlation"
   ]
  },
  {
   "cell_type": "markdown",
   "id": "59d97802",
   "metadata": {},
   "source": [
    "### Label Encoding"
   ]
  },
  {
   "cell_type": "code",
   "execution_count": null,
   "id": "dcf32917",
   "metadata": {},
   "outputs": [],
   "source": [
    "from sklearn.preprocessing import LabelEncoder\n",
    "le = LabelEncoder()\n",
    "\n",
    "df.coverage = le.fit_transform(df.coverage)\n",
    "df.education = le.fit_transform(df.education)\n",
    "df.vehicle_class = le.fit_transform(df.vehicle_class)\n",
    "df.vehicle_size = le.fit_transform(df.vehicle_size)"
   ]
  },
  {
   "cell_type": "markdown",
   "id": "2c63a0a9",
   "metadata": {},
   "source": [
    "### Hot Encoding"
   ]
  },
  {
   "cell_type": "code",
   "execution_count": null,
   "id": "d9c30678",
   "metadata": {},
   "outputs": [],
   "source": [
    "df = pd.get_dummies(df, prefix = ['region','response', 'employment_status', 'gender', 'policy_type', 'policy', 'renew_offer_type', 'sales_channel'], columns = ['region','response', 'employment_status', 'gender', 'policy_type', 'policy', 'renew_offer_type', 'sales_channel'], drop_first=False)"
   ]
  },
  {
   "cell_type": "code",
   "execution_count": null,
   "id": "834f1dc4",
   "metadata": {},
   "outputs": [],
   "source": [
    "# change categories quickly\n",
    "# for col in ['region', 'response', 'coverage',\n",
    "#       'education', 'month', 'employment_status',\n",
    "#       'gender', 'location_code', 'marital_status',\n",
    "#       'policy_type', 'policy', 'renew_offer_type',\n",
    "#       'sales_channel', 'vehicle_class', 'vehicle_size']: df[col] = df[col].astype('category')"
   ]
  },
  {
   "cell_type": "code",
   "execution_count": null,
   "id": "799fc725",
   "metadata": {},
   "outputs": [],
   "source": [
    "# df['region'] = df['region'].cat.rename_categories({'central': 0, 'west region': 1, 'east': 2, 'north west': 3})"
   ]
  },
  {
   "cell_type": "code",
   "execution_count": null,
   "id": "292091f7",
   "metadata": {},
   "outputs": [],
   "source": [
    "# categoricals = df.select_dtypes(include=['category'])\n",
    "# categoricals"
   ]
  },
  {
   "cell_type": "code",
   "execution_count": null,
   "id": "cb2acb7c",
   "metadata": {},
   "outputs": [],
   "source": [
    "# for col in df.columns:\n",
    "#    if df[col].dtype == 'category':\n",
    "#        df[col] = le.fit_transform(df[col])"
   ]
  },
  {
   "cell_type": "code",
   "execution_count": null,
   "id": "16bf0131",
   "metadata": {},
   "outputs": [],
   "source": [
    "df.shape\n",
    "# now I have 48 rows, dunno if that's great..."
   ]
  },
  {
   "cell_type": "code",
   "execution_count": null,
   "id": "a3452aa0",
   "metadata": {},
   "outputs": [],
   "source": [
    "from sklearn import preprocessing\n",
    "from sklearn.preprocessing import PowerTransformer\n",
    "from sklearn.preprocessing import StandardScaler\n",
    "from sklearn.preprocessing import MinMaxScaler"
   ]
  },
  {
   "cell_type": "code",
   "execution_count": null,
   "id": "f7ee15bf",
   "metadata": {},
   "outputs": [],
   "source": [
    "df.hist()"
   ]
  },
  {
   "cell_type": "code",
   "execution_count": null,
   "id": "688f559d",
   "metadata": {},
   "outputs": [],
   "source": [
    "df"
   ]
  },
  {
   "cell_type": "code",
   "execution_count": null,
   "id": "3b015cfd",
   "metadata": {},
   "outputs": [],
   "source": [
    "mms = MinMaxScaler()\n",
    "mmscaled = mms.fit_transform(df.monthly_premium_auto)\n"
   ]
  },
  {
   "cell_type": "code",
   "execution_count": null,
   "id": "1958233a",
   "metadata": {},
   "outputs": [],
   "source": [
    "numericals.columns"
   ]
  },
  {
   "cell_type": "code",
   "execution_count": null,
   "id": "62177adc",
   "metadata": {},
   "outputs": [],
   "source": [
    "numericals.hist(figsize = (11,12))"
   ]
  },
  {
   "cell_type": "code",
   "execution_count": 5,
   "id": "c3ab63bc",
   "metadata": {},
   "outputs": [],
   "source": [
    "# x-y split\n",
    "X = numericals.drop('total_claim_amount', axis=1)\n",
    "y = numericals.total_claim_amount"
   ]
  },
  {
   "cell_type": "code",
   "execution_count": 6,
   "id": "3deea2f0",
   "metadata": {},
   "outputs": [],
   "source": [
    "# train-test split\n",
    "\n",
    "from sklearn.model_selection import train_test_split\n",
    "\n",
    "X_train, X_test, y_train, y_test = train_test_split(X, y, test_size=0.3, random_state=100)\n",
    "X_train = pd.DataFrame(X_train)\n",
    "X_test = pd.DataFrame(X_test)"
   ]
  },
  {
   "cell_type": "code",
   "execution_count": 22,
   "id": "a188b205",
   "metadata": {},
   "outputs": [
    {
     "data": {
      "text/html": [
       "<div>\n",
       "<style scoped>\n",
       "    .dataframe tbody tr th:only-of-type {\n",
       "        vertical-align: middle;\n",
       "    }\n",
       "\n",
       "    .dataframe tbody tr th {\n",
       "        vertical-align: top;\n",
       "    }\n",
       "\n",
       "    .dataframe thead th {\n",
       "        text-align: right;\n",
       "    }\n",
       "</style>\n",
       "<table border=\"1\" class=\"dataframe\">\n",
       "  <thead>\n",
       "    <tr style=\"text-align: right;\">\n",
       "      <th></th>\n",
       "      <th>customer_lifetime_value</th>\n",
       "      <th>income</th>\n",
       "      <th>monthly_premium_auto</th>\n",
       "      <th>months_since_last_claim</th>\n",
       "      <th>months_since_policy_inception</th>\n",
       "      <th>number_of_open_complaints</th>\n",
       "      <th>number_of_policies</th>\n",
       "    </tr>\n",
       "  </thead>\n",
       "  <tbody>\n",
       "    <tr>\n",
       "      <th>861</th>\n",
       "      <td>5908</td>\n",
       "      <td>86277</td>\n",
       "      <td>74</td>\n",
       "      <td>19</td>\n",
       "      <td>33</td>\n",
       "      <td>0</td>\n",
       "      <td>3</td>\n",
       "    </tr>\n",
       "    <tr>\n",
       "      <th>9053</th>\n",
       "      <td>2397</td>\n",
       "      <td>22283</td>\n",
       "      <td>65</td>\n",
       "      <td>16</td>\n",
       "      <td>93</td>\n",
       "      <td>0</td>\n",
       "      <td>1</td>\n",
       "    </tr>\n",
       "    <tr>\n",
       "      <th>9515</th>\n",
       "      <td>5296</td>\n",
       "      <td>96510</td>\n",
       "      <td>73</td>\n",
       "      <td>33</td>\n",
       "      <td>44</td>\n",
       "      <td>0</td>\n",
       "      <td>3</td>\n",
       "    </tr>\n",
       "  </tbody>\n",
       "</table>\n",
       "</div>"
      ],
      "text/plain": [
       "      customer_lifetime_value  income  monthly_premium_auto  \\\n",
       "861                      5908   86277                    74   \n",
       "9053                     2397   22283                    65   \n",
       "9515                     5296   96510                    73   \n",
       "\n",
       "      months_since_last_claim  months_since_policy_inception  \\\n",
       "861                        19                             33   \n",
       "9053                       16                             93   \n",
       "9515                       33                             44   \n",
       "\n",
       "      number_of_open_complaints  number_of_policies  \n",
       "861                           0                   3  \n",
       "9053                          0                   1  \n",
       "9515                          0                   3  "
      ]
     },
     "execution_count": 22,
     "metadata": {},
     "output_type": "execute_result"
    }
   ],
   "source": [
    "X_train.head(3)"
   ]
  },
  {
   "cell_type": "code",
   "execution_count": 7,
   "id": "ac5789d6",
   "metadata": {
    "collapsed": true
   },
   "outputs": [
    {
     "data": {
      "text/plain": [
       "array([[<AxesSubplot:title={'center':'customer_lifetime_value'}>,\n",
       "        <AxesSubplot:title={'center':'income'}>,\n",
       "        <AxesSubplot:title={'center':'monthly_premium_auto'}>],\n",
       "       [<AxesSubplot:title={'center':'months_since_last_claim'}>,\n",
       "        <AxesSubplot:title={'center':'months_since_policy_inception'}>,\n",
       "        <AxesSubplot:title={'center':'number_of_open_complaints'}>],\n",
       "       [<AxesSubplot:title={'center':'number_of_policies'}>,\n",
       "        <AxesSubplot:>, <AxesSubplot:>]], dtype=object)"
      ]
     },
     "execution_count": 7,
     "metadata": {},
     "output_type": "execute_result"
    },
    {
     "data": {
      "image/png": "[encoded data removed]",
      "text/plain": [
       "<Figure size 1100x1200 with 9 Axes>"
      ]
     },
     "metadata": {},
     "output_type": "display_data"
    }
   ],
   "source": [
    "X_train.hist(figsize = (11,12))"
   ]
  },
  {
   "cell_type": "code",
   "execution_count": 9,
   "id": "5456fbbf",
   "metadata": {},
   "outputs": [],
   "source": [
    "# standard scaler for x_train\n",
    "from sklearn.preprocessing import StandardScaler\n",
    "scaler = StandardScaler()"
   ]
  },
  {
   "cell_type": "code",
   "execution_count": 12,
   "id": "b32709f2",
   "metadata": {},
   "outputs": [],
   "source": [
    "X_train_scaled = scaler.fit_transform(X_train)"
   ]
  },
  {
   "cell_type": "code",
   "execution_count": 19,
   "id": "f84a74db",
   "metadata": {},
   "outputs": [],
   "source": [
    "X_test_scaled = scaler.transform(X_test)"
   ]
  },
  {
   "cell_type": "code",
   "execution_count": 15,
   "id": "9bbbac4b",
   "metadata": {
    "collapsed": true
   },
   "outputs": [
    {
     "data": {
      "text/plain": [
       "LinearRegression()"
      ]
     },
     "execution_count": 15,
     "metadata": {},
     "output_type": "execute_result"
    }
   ],
   "source": [
    "from sklearn.linear_model import LinearRegression\n",
    "\n",
    "model = LinearRegression()    # model\n",
    "model.fit(X_train_scaled, y_train)   # model train"
   ]
  },
  {
   "cell_type": "code",
   "execution_count": 16,
   "id": "ef05543e",
   "metadata": {},
   "outputs": [
    {
     "data": {
      "text/plain": [
       "array([ -6.1418607 , -31.72677744, 186.29158041,   1.66182273,\n",
       "        -1.47924562,  -2.21387573,   3.24168968])"
      ]
     },
     "execution_count": 16,
     "metadata": {},
     "output_type": "execute_result"
    }
   ],
   "source": [
    "model.coef_"
   ]
  },
  {
   "cell_type": "code",
   "execution_count": 17,
   "id": "a66fc194",
   "metadata": {},
   "outputs": [
    {
     "data": {
      "text/plain": [
       "434.8695535952954"
      ]
     },
     "execution_count": 17,
     "metadata": {},
     "output_type": "execute_result"
    }
   ],
   "source": [
    "model.intercept_"
   ]
  },
  {
   "cell_type": "code",
   "execution_count": 25,
   "id": "12dca98c",
   "metadata": {},
   "outputs": [],
   "source": [
    "y_pred = pd.DataFrame(model.predict(X_test_scaled),columns = ['total_claim_amount'])      # model prediction"
   ]
  },
  {
   "cell_type": "code",
   "execution_count": 26,
   "id": "4f718d99",
   "metadata": {
    "collapsed": true
   },
   "outputs": [
    {
     "data": {
      "text/html": [
       "<div>\n",
       "<style scoped>\n",
       "    .dataframe tbody tr th:only-of-type {\n",
       "        vertical-align: middle;\n",
       "    }\n",
       "\n",
       "    .dataframe tbody tr th {\n",
       "        vertical-align: top;\n",
       "    }\n",
       "\n",
       "    .dataframe thead th {\n",
       "        text-align: right;\n",
       "    }\n",
       "</style>\n",
       "<table border=\"1\" class=\"dataframe\">\n",
       "  <thead>\n",
       "    <tr style=\"text-align: right;\">\n",
       "      <th></th>\n",
       "      <th>total_claim_amount</th>\n",
       "    </tr>\n",
       "  </thead>\n",
       "  <tbody>\n",
       "    <tr>\n",
       "      <th>0</th>\n",
       "      <td>288.252734</td>\n",
       "    </tr>\n",
       "    <tr>\n",
       "      <th>1</th>\n",
       "      <td>616.401221</td>\n",
       "    </tr>\n",
       "    <tr>\n",
       "      <th>2</th>\n",
       "      <td>566.735342</td>\n",
       "    </tr>\n",
       "    <tr>\n",
       "      <th>3</th>\n",
       "      <td>387.561815</td>\n",
       "    </tr>\n",
       "    <tr>\n",
       "      <th>4</th>\n",
       "      <td>738.000965</td>\n",
       "    </tr>\n",
       "    <tr>\n",
       "      <th>...</th>\n",
       "      <td>...</td>\n",
       "    </tr>\n",
       "    <tr>\n",
       "      <th>3202</th>\n",
       "      <td>211.375283</td>\n",
       "    </tr>\n",
       "    <tr>\n",
       "      <th>3203</th>\n",
       "      <td>620.204110</td>\n",
       "    </tr>\n",
       "    <tr>\n",
       "      <th>3204</th>\n",
       "      <td>964.625023</td>\n",
       "    </tr>\n",
       "    <tr>\n",
       "      <th>3205</th>\n",
       "      <td>222.239480</td>\n",
       "    </tr>\n",
       "    <tr>\n",
       "      <th>3206</th>\n",
       "      <td>393.167037</td>\n",
       "    </tr>\n",
       "  </tbody>\n",
       "</table>\n",
       "<p>3207 rows × 1 columns</p>\n",
       "</div>"
      ],
      "text/plain": [
       "      total_claim_amount\n",
       "0             288.252734\n",
       "1             616.401221\n",
       "2             566.735342\n",
       "3             387.561815\n",
       "4             738.000965\n",
       "...                  ...\n",
       "3202          211.375283\n",
       "3203          620.204110\n",
       "3204          964.625023\n",
       "3205          222.239480\n",
       "3206          393.167037\n",
       "\n",
       "[3207 rows x 1 columns]"
      ]
     },
     "execution_count": 26,
     "metadata": {},
     "output_type": "execute_result"
    }
   ],
   "source": [
    "y_pred"
   ]
  },
  {
   "cell_type": "code",
   "execution_count": 28,
   "id": "bb2b592b",
   "metadata": {},
   "outputs": [],
   "source": [
    "y_pred_train =  pd.DataFrame(model.predict(X_train_scaled),columns = ['total_claim_amount'])"
   ]
  },
  {
   "cell_type": "code",
   "execution_count": 31,
   "id": "ef6fb93e",
   "metadata": {
    "collapsed": true
   },
   "outputs": [
    {
     "data": {
      "text/html": [
       "<div>\n",
       "<style scoped>\n",
       "    .dataframe tbody tr th:only-of-type {\n",
       "        vertical-align: middle;\n",
       "    }\n",
       "\n",
       "    .dataframe tbody tr th {\n",
       "        vertical-align: top;\n",
       "    }\n",
       "\n",
       "    .dataframe thead th {\n",
       "        text-align: right;\n",
       "    }\n",
       "</style>\n",
       "<table border=\"1\" class=\"dataframe\">\n",
       "  <thead>\n",
       "    <tr style=\"text-align: right;\">\n",
       "      <th></th>\n",
       "      <th>total_claim_amount</th>\n",
       "    </tr>\n",
       "  </thead>\n",
       "  <tbody>\n",
       "    <tr>\n",
       "      <th>count</th>\n",
       "      <td>7482.000000</td>\n",
       "    </tr>\n",
       "    <tr>\n",
       "      <th>mean</th>\n",
       "      <td>434.869554</td>\n",
       "    </tr>\n",
       "    <tr>\n",
       "      <th>std</th>\n",
       "      <td>186.766109</td>\n",
       "    </tr>\n",
       "    <tr>\n",
       "      <th>min</th>\n",
       "      <td>195.165972</td>\n",
       "    </tr>\n",
       "    <tr>\n",
       "      <th>25%</th>\n",
       "      <td>304.405344</td>\n",
       "    </tr>\n",
       "    <tr>\n",
       "      <th>50%</th>\n",
       "      <td>380.298913</td>\n",
       "    </tr>\n",
       "    <tr>\n",
       "      <th>75%</th>\n",
       "      <td>517.633057</td>\n",
       "    </tr>\n",
       "    <tr>\n",
       "      <th>max</th>\n",
       "      <td>1600.495754</td>\n",
       "    </tr>\n",
       "  </tbody>\n",
       "</table>\n",
       "</div>"
      ],
      "text/plain": [
       "       total_claim_amount\n",
       "count         7482.000000\n",
       "mean           434.869554\n",
       "std            186.766109\n",
       "min            195.165972\n",
       "25%            304.405344\n",
       "50%            380.298913\n",
       "75%            517.633057\n",
       "max           1600.495754"
      ]
     },
     "execution_count": 31,
     "metadata": {},
     "output_type": "execute_result"
    }
   ],
   "source": [
    "y_pred_train.describe()"
   ]
  },
  {
   "cell_type": "code",
   "execution_count": null,
   "id": "57325f08",
   "metadata": {},
   "outputs": [],
   "source": []
  }
 ],
 "metadata": {
  "kernelspec": {
   "display_name": "Python 3 (ipykernel)",
   "language": "python",
   "name": "python3"
  },
  "language_info": {
   "codemirror_mode": {
    "name": "ipython",
    "version": 3
   },
   "file_extension": ".py",
   "mimetype": "text/x-python",
   "name": "python",
   "nbconvert_exporter": "python",
   "pygments_lexer": "ipython3",
   "version": "3.9.13"
  }
 },
 "nbformat": 4,
 "nbformat_minor": 5
}
