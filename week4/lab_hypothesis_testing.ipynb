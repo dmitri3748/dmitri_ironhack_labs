{
 "cells": [
  {
   "cell_type": "code",
   "execution_count": 8,
   "id": "e14bc27e",
   "metadata": {},
   "outputs": [],
   "source": [
    "import numpy as np\n",
    "import pandas as pd\n",
    "import scipy.stats as stats\n",
    "import matplotlib.pyplot as plt\n",
    "import seaborn as sns\n",
    "import math\n",
    "%matplotlib inline"
   ]
  },
  {
   "cell_type": "code",
   "execution_count": 56,
   "id": "530f796f",
   "metadata": {},
   "outputs": [
    {
     "name": "stdout",
     "output_type": "stream",
     "text": [
      "z: 4.761904761904759\n",
      "critical value: 1.6603911559963895\n"
     ]
    }
   ],
   "source": [
    "# H0 = 120, H1 != 120\n",
    "population_mean = 120\n",
    "sample_mean = 130.1\n",
    "sample_size = 100\n",
    "st_dev = 21.21\n",
    "st_err = st_dev / math.sqrt(100)\n",
    "z = (sample_mean - population_mean) / st_err\n",
    "critical_value = stats.t.ppf(0.95, df = 99) # t-table as we do not have the population standard deviation\n",
    "print('z:', z)\n",
    "print('critical value:',critical_value)\n",
    "# z > critical_value => reject Ho"
   ]
  },
  {
   "cell_type": "code",
   "execution_count": 54,
   "id": "827e6040",
   "metadata": {
    "collapsed": true
   },
   "outputs": [
    {
     "data": {
      "text/html": [
       "<div>\n",
       "<style scoped>\n",
       "    .dataframe tbody tr th:only-of-type {\n",
       "        vertical-align: middle;\n",
       "    }\n",
       "\n",
       "    .dataframe tbody tr th {\n",
       "        vertical-align: top;\n",
       "    }\n",
       "\n",
       "    .dataframe thead th {\n",
       "        text-align: right;\n",
       "    }\n",
       "</style>\n",
       "<table border=\"1\" class=\"dataframe\">\n",
       "  <thead>\n",
       "    <tr style=\"text-align: right;\">\n",
       "      <th></th>\n",
       "      <th>new</th>\n",
       "      <th>old</th>\n",
       "    </tr>\n",
       "  </thead>\n",
       "  <tbody>\n",
       "    <tr>\n",
       "      <th>0</th>\n",
       "      <td>42.1</td>\n",
       "      <td>42.7</td>\n",
       "    </tr>\n",
       "    <tr>\n",
       "      <th>1</th>\n",
       "      <td>41.0</td>\n",
       "      <td>43.6</td>\n",
       "    </tr>\n",
       "    <tr>\n",
       "      <th>2</th>\n",
       "      <td>41.3</td>\n",
       "      <td>43.8</td>\n",
       "    </tr>\n",
       "    <tr>\n",
       "      <th>3</th>\n",
       "      <td>41.8</td>\n",
       "      <td>43.3</td>\n",
       "    </tr>\n",
       "    <tr>\n",
       "      <th>4</th>\n",
       "      <td>42.4</td>\n",
       "      <td>42.5</td>\n",
       "    </tr>\n",
       "    <tr>\n",
       "      <th>5</th>\n",
       "      <td>42.8</td>\n",
       "      <td>43.5</td>\n",
       "    </tr>\n",
       "    <tr>\n",
       "      <th>6</th>\n",
       "      <td>43.2</td>\n",
       "      <td>43.1</td>\n",
       "    </tr>\n",
       "    <tr>\n",
       "      <th>7</th>\n",
       "      <td>42.3</td>\n",
       "      <td>41.7</td>\n",
       "    </tr>\n",
       "    <tr>\n",
       "      <th>8</th>\n",
       "      <td>41.8</td>\n",
       "      <td>44.0</td>\n",
       "    </tr>\n",
       "    <tr>\n",
       "      <th>9</th>\n",
       "      <td>42.7</td>\n",
       "      <td>44.1</td>\n",
       "    </tr>\n",
       "  </tbody>\n",
       "</table>\n",
       "</div>"
      ],
      "text/plain": [
       "    new   old\n",
       "0  42.1  42.7\n",
       "1  41.0  43.6\n",
       "2  41.3  43.8\n",
       "3  41.8  43.3\n",
       "4  42.4  42.5\n",
       "5  42.8  43.5\n",
       "6  43.2  43.1\n",
       "7  42.3  41.7\n",
       "8  41.8  44.0\n",
       "9  42.7  44.1"
      ]
     },
     "execution_count": 54,
     "metadata": {},
     "output_type": "execute_result"
    }
   ],
   "source": [
    "import pandas as pd\n",
    "df = pd.read_fwf('Data/Data_Machine.txt')\n",
    "df.to_csv('Data_Machine.csv')\n",
    "df = df.rename(columns = {'New Machine': 'new', 'Old': 'old'})\n",
    "df = df.drop(['Machine'], axis = 1)\n",
    "df"
   ]
  },
  {
   "cell_type": "code",
   "execution_count": 72,
   "id": "f1987a4e",
   "metadata": {},
   "outputs": [
    {
     "name": "stdout",
     "output_type": "stream",
     "text": [
      "cv: 2.2621571627409915\n",
      "t: 3.397230706117603\n",
      "reject H0\n"
     ]
    }
   ],
   "source": [
    "# H0: new_mean = old_mean, H1: new_mean != old_mean\n",
    "new_mean = df.new.mean()\n",
    "old_mean = df.old.mean()\n",
    "new_std = df.new.std()\n",
    "old_std = df.old.std()\n",
    "n = 10\n",
    "t = (old_mean - new_mean) / math.sqrt ( ( (new_std ** 2) / n) + ((old_std ** 2) / n) ) # t-statistic\n",
    "cv = stats.t.ppf(0.975, df = 9) # critical value\n",
    "print('cv:', cv)\n",
    "print('t:', t)\n",
    "if t > cv:\n",
    "    print('reject H0')"
   ]
  },
  {
   "cell_type": "code",
   "execution_count": null,
   "id": "d90cd3df",
   "metadata": {},
   "outputs": [],
   "source": []
  }
 ],
 "metadata": {
  "kernelspec": {
   "display_name": "Python 3 (ipykernel)",
   "language": "python",
   "name": "python3"
  },
  "language_info": {
   "codemirror_mode": {
    "name": "ipython",
    "version": 3
   },
   "file_extension": ".py",
   "mimetype": "text/x-python",
   "name": "python",
   "nbconvert_exporter": "python",
   "pygments_lexer": "ipython3",
   "version": "3.9.13"
  }
 },
 "nbformat": 4,
 "nbformat_minor": 5
}
