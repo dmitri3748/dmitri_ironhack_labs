{
 "cells": [
  {
   "cell_type": "code",
   "execution_count": 2,
   "id": "918fd319",
   "metadata": {},
   "outputs": [],
   "source": [
    "client_id =  \"2bc2b8e9855542df8decc8307b5aa841\"\n",
    "client_secret = \"e3d8060db56345af8a97ce3723f10f6e\""
   ]
  },
  {
   "cell_type": "code",
   "execution_count": null,
   "id": "9c262b51",
   "metadata": {},
   "outputs": [],
   "source": []
  }
 ],
 "metadata": {
  "kernelspec": {
   "display_name": "Python 3 (ipykernel)",
   "language": "python",
   "name": "python3"
  },
  "language_info": {
   "codemirror_mode": {
    "name": "ipython",
    "version": 3
   },
   "file_extension": ".py",
   "mimetype": "text/x-python",
   "name": "python",
   "nbconvert_exporter": "python",
   "pygments_lexer": "ipython3",
   "version": "3.9.13"
  }
 },
 "nbformat": 4,
 "nbformat_minor": 5
}
