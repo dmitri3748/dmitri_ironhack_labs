{
 "cells": [
  {
   "cell_type": "code",
   "execution_count": 1,
   "id": "01387699",
   "metadata": {},
   "outputs": [],
   "source": [
    "from bs4 import BeautifulSoup\n",
    "import requests\n",
    "import pandas as pd"
   ]
  },
  {
   "cell_type": "code",
   "execution_count": 2,
   "id": "07e26060",
   "metadata": {},
   "outputs": [],
   "source": [
    "url = \"https://www.billboard.com/charts/hot-100/#\""
   ]
  },
  {
   "cell_type": "code",
   "execution_count": 3,
   "id": "3b57291d",
   "metadata": {},
   "outputs": [],
   "source": [
    "response = requests.get(url)"
   ]
  },
  {
   "cell_type": "code",
   "execution_count": 4,
   "id": "37672bc9",
   "metadata": {},
   "outputs": [
    {
     "data": {
      "text/plain": [
       "200"
      ]
     },
     "execution_count": 4,
     "metadata": {},
     "output_type": "execute_result"
    }
   ],
   "source": [
    "response.status_code"
   ]
  },
  {
   "cell_type": "code",
   "execution_count": 5,
   "id": "40939091",
   "metadata": {},
   "outputs": [],
   "source": [
    "soup = BeautifulSoup(response.content, \"html.parser\")"
   ]
  },
  {
   "cell_type": "code",
   "execution_count": 6,
   "id": "709db756",
   "metadata": {},
   "outputs": [],
   "source": [
    "containers = soup.find_all('div', class_='o-chart-results-list-row-container')"
   ]
  },
  {
   "cell_type": "code",
   "execution_count": 7,
   "id": "bd2edc94",
   "metadata": {},
   "outputs": [],
   "source": [
    "artists = []\n",
    "songs = []\n",
    "for container in containers:\n",
    "    artists.append(container.find('h3').find_next('span').text.strip())\n",
    "    songs.append(container.find('h3').text.strip())"
   ]
  },
  {
   "cell_type": "code",
   "execution_count": 8,
   "id": "5bfb541b",
   "metadata": {},
   "outputs": [
    {
     "data": {
      "text/html": [
       "<div>\n",
       "<style scoped>\n",
       "    .dataframe tbody tr th:only-of-type {\n",
       "        vertical-align: middle;\n",
       "    }\n",
       "\n",
       "    .dataframe tbody tr th {\n",
       "        vertical-align: top;\n",
       "    }\n",
       "\n",
       "    .dataframe thead th {\n",
       "        text-align: right;\n",
       "    }\n",
       "</style>\n",
       "<table border=\"1\" class=\"dataframe\">\n",
       "  <thead>\n",
       "    <tr style=\"text-align: right;\">\n",
       "      <th></th>\n",
       "      <th>artist</th>\n",
       "      <th>song</th>\n",
       "    </tr>\n",
       "  </thead>\n",
       "  <tbody>\n",
       "    <tr>\n",
       "      <th>0</th>\n",
       "      <td>Morgan Wallen</td>\n",
       "      <td>Last Night</td>\n",
       "    </tr>\n",
       "    <tr>\n",
       "      <th>1</th>\n",
       "      <td>Drake</td>\n",
       "      <td>Search &amp; Rescue</td>\n",
       "    </tr>\n",
       "    <tr>\n",
       "      <th>2</th>\n",
       "      <td>Miley Cyrus</td>\n",
       "      <td>Flowers</td>\n",
       "    </tr>\n",
       "    <tr>\n",
       "      <th>3</th>\n",
       "      <td>SZA</td>\n",
       "      <td>Kill Bill</td>\n",
       "    </tr>\n",
       "    <tr>\n",
       "      <th>4</th>\n",
       "      <td>Metro Boomin, The Weeknd &amp; 21 Savage</td>\n",
       "      <td>Creepin'</td>\n",
       "    </tr>\n",
       "    <tr>\n",
       "      <th>...</th>\n",
       "      <td>...</td>\n",
       "      <td>...</td>\n",
       "    </tr>\n",
       "    <tr>\n",
       "      <th>95</th>\n",
       "      <td>Old Dominion</td>\n",
       "      <td>Memory Lane</td>\n",
       "    </tr>\n",
       "    <tr>\n",
       "      <th>96</th>\n",
       "      <td>Carly Pearce</td>\n",
       "      <td>What He Didn't Do</td>\n",
       "    </tr>\n",
       "    <tr>\n",
       "      <th>97</th>\n",
       "      <td>Carin Leon X Grupo Frontera</td>\n",
       "      <td>Que Vuelvas</td>\n",
       "    </tr>\n",
       "    <tr>\n",
       "      <th>98</th>\n",
       "      <td>YoungBoy Never Broke Again Featuring Nicki Minaj</td>\n",
       "      <td>WTF</td>\n",
       "    </tr>\n",
       "    <tr>\n",
       "      <th>99</th>\n",
       "      <td>Morgan Wallen</td>\n",
       "      <td>'98 Braves</td>\n",
       "    </tr>\n",
       "  </tbody>\n",
       "</table>\n",
       "<p>100 rows × 2 columns</p>\n",
       "</div>"
      ],
      "text/plain": [
       "                                              artist               song\n",
       "0                                      Morgan Wallen         Last Night\n",
       "1                                              Drake    Search & Rescue\n",
       "2                                        Miley Cyrus            Flowers\n",
       "3                                                SZA          Kill Bill\n",
       "4               Metro Boomin, The Weeknd & 21 Savage           Creepin'\n",
       "..                                               ...                ...\n",
       "95                                      Old Dominion        Memory Lane\n",
       "96                                      Carly Pearce  What He Didn't Do\n",
       "97                       Carin Leon X Grupo Frontera        Que Vuelvas\n",
       "98  YoungBoy Never Broke Again Featuring Nicki Minaj                WTF\n",
       "99                                     Morgan Wallen         '98 Braves\n",
       "\n",
       "[100 rows x 2 columns]"
      ]
     },
     "execution_count": 8,
     "metadata": {},
     "output_type": "execute_result"
    }
   ],
   "source": [
    "df = pd.DataFrame({'artist': artists, 'song': songs})\n",
    "df"
   ]
  },
  {
   "cell_type": "code",
   "execution_count": 29,
   "id": "6bd94480",
   "metadata": {},
   "outputs": [],
   "source": [
    "# Get the number of rows in the DataFrame\n",
    "num_rows = df.shape[0]\n",
    "# Generate a random integer between 0 and num_rows-1\n",
    "random_index = random.randint(0, num_rows-1)\n",
    "# Get a random row using iloc\n",
    "random_row = df.iloc[random_index]"
   ]
  },
  {
   "cell_type": "code",
   "execution_count": 30,
   "id": "baaf2ae6",
   "metadata": {},
   "outputs": [
    {
     "name": "stdout",
     "output_type": "stream",
     "text": [
      "artist    Morgan Wallen\n",
      "song         '98 Braves\n",
      "Name: 99, dtype: object\n"
     ]
    }
   ],
   "source": [
    "print(random_row)"
   ]
  },
  {
   "cell_type": "code",
   "execution_count": null,
   "id": "378c3229",
   "metadata": {},
   "outputs": [],
   "source": []
  }
 ],
 "metadata": {
  "kernelspec": {
   "display_name": "Python 3 (ipykernel)",
   "language": "python",
   "name": "python3"
  },
  "language_info": {
   "codemirror_mode": {
    "name": "ipython",
    "version": 3
   },
   "file_extension": ".py",
   "mimetype": "text/x-python",
   "name": "python",
   "nbconvert_exporter": "python",
   "pygments_lexer": "ipython3",
   "version": "3.9.13"
  }
 },
 "nbformat": 4,
 "nbformat_minor": 5
}
